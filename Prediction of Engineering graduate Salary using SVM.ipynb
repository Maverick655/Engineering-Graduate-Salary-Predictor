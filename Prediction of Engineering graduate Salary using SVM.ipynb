{
  "nbformat": 4,
  "nbformat_minor": 0,
  "metadata": {
    "colab": {
      "provenance": [],
      "toc_visible": true
    },
    "kernelspec": {
      "name": "python3",
      "display_name": "Python 3"
    },
    "language_info": {
      "name": "python"
    }
  },
  "cells": [
    {
      "cell_type": "markdown",
      "source": [
        "# Importing all the libraries"
      ],
      "metadata": {
        "id": "avtbJPMlBnpX"
      }
    },
    {
      "cell_type": "code",
      "execution_count": null,
      "metadata": {
        "id": "3UPYPkth22Ou"
      },
      "outputs": [],
      "source": [
        "import pandas as pd\n",
        "import numpy as np\n",
        "import matplotlib.pyplot as plt\n",
        "import seaborn as sns\n",
        "import re\n",
        "from sklearn.svm import SVR\n",
        "from sklearn.metrics import r2_score\n",
        "from sklearn.model_selection import train_test_split\n",
        "from sklearn.preprocessing import LabelEncoder"
      ]
    },
    {
      "cell_type": "markdown",
      "source": [
        "# Problem Statement\n",
        "\n",
        "Given a dataset which represents the parameters of an Engineering graduate based on which the salary will be given to him/her. You need to build a model to predict the Engineering graduate salary based on the provided features."
      ],
      "metadata": {
        "id": "u1nuf2ccCMnr"
      }
    },
    {
      "cell_type": "markdown",
      "source": [
        "# Importing the dataset\n",
        "\n",
        "Link: https://drive.google.com/file/d/13fgjGI3uGlnEqefpZ72JsWLqXqveNKo1/view?usp=sharing"
      ],
      "metadata": {
        "id": "mod93xWJCky6"
      }
    },
    {
      "cell_type": "code",
      "source": [
        "df = pd.read_csv('/content/drive/MyDrive/ShapeAI DST 11021 Oct-Jan Batch 2021-22/Datasets/Engineering_graduate_salary.csv')"
      ],
      "metadata": {
        "id": "8K8M0t0Y23CN"
      },
      "execution_count": null,
      "outputs": []
    },
    {
      "cell_type": "markdown",
      "source": [
        "# EDA - Exploratory Data Analysis"
      ],
      "metadata": {
        "id": "vqpfY-YICv7A"
      }
    },
    {
      "cell_type": "code",
      "source": [
        "df.head()"
      ],
      "metadata": {
        "colab": {
          "base_uri": "https://localhost:8080/",
          "height": 404
        },
        "id": "xYmuswbp23E_",
        "outputId": "881156ef-87d2-4007-d088-61eede70ed33"
      },
      "execution_count": null,
      "outputs": [
        {
          "output_type": "execute_result",
          "data": {
            "text/plain": [
              "       ID Gender         DOB  10percentage                       10board  \\\n",
              "0  604399      f  1990-10-22         87.80                          cbse   \n",
              "1  988334      m  1990-05-15         57.00                          cbse   \n",
              "2  301647      m  1989-08-21         77.33  maharashtra state board,pune   \n",
              "3  582313      m  1991-05-04         84.30                          cbse   \n",
              "4  339001      f  1990-10-30         82.00                          cbse   \n",
              "\n",
              "   12graduation  12percentage                    12board  CollegeID  \\\n",
              "0          2009         84.00                       cbse       6920   \n",
              "1          2010         64.50                       cbse       6624   \n",
              "2          2007         85.17  amravati divisional board       9084   \n",
              "3          2009         86.00                       cbse       8195   \n",
              "4          2008         75.00                       cbse       4889   \n",
              "\n",
              "   CollegeTier  ... MechanicalEngg ElectricalEngg  TelecomEngg  CivilEngg  \\\n",
              "0            1  ...             -1             -1           -1         -1   \n",
              "1            2  ...             -1             -1           -1         -1   \n",
              "2            2  ...             -1             -1          260         -1   \n",
              "3            1  ...             -1             -1           -1         -1   \n",
              "4            2  ...             -1             -1           -1         -1   \n",
              "\n",
              "   conscientiousness agreeableness  extraversion  nueroticism  \\\n",
              "0            -0.1590        0.3789        1.2396      0.14590   \n",
              "1             1.1336        0.0459        1.2396      0.52620   \n",
              "2             0.5100       -0.1232        1.5428     -0.29020   \n",
              "3            -0.4463        0.2124        0.3174      0.27270   \n",
              "4            -1.4992       -0.7473       -1.0697      0.06223   \n",
              "\n",
              "   openess_to_experience  Salary  \n",
              "0                 0.2889  445000  \n",
              "1                -0.2859  110000  \n",
              "2                -0.2875  255000  \n",
              "3                 0.4805  420000  \n",
              "4                 0.1864  200000  \n",
              "\n",
              "[5 rows x 34 columns]"
            ],
            "text/html": [
              "\n",
              "  <div id=\"df-1677ccf9-e155-4fa6-8a45-e365c4d74f8c\">\n",
              "    <div class=\"colab-df-container\">\n",
              "      <div>\n",
              "<style scoped>\n",
              "    .dataframe tbody tr th:only-of-type {\n",
              "        vertical-align: middle;\n",
              "    }\n",
              "\n",
              "    .dataframe tbody tr th {\n",
              "        vertical-align: top;\n",
              "    }\n",
              "\n",
              "    .dataframe thead th {\n",
              "        text-align: right;\n",
              "    }\n",
              "</style>\n",
              "<table border=\"1\" class=\"dataframe\">\n",
              "  <thead>\n",
              "    <tr style=\"text-align: right;\">\n",
              "      <th></th>\n",
              "      <th>ID</th>\n",
              "      <th>Gender</th>\n",
              "      <th>DOB</th>\n",
              "      <th>10percentage</th>\n",
              "      <th>10board</th>\n",
              "      <th>12graduation</th>\n",
              "      <th>12percentage</th>\n",
              "      <th>12board</th>\n",
              "      <th>CollegeID</th>\n",
              "      <th>CollegeTier</th>\n",
              "      <th>...</th>\n",
              "      <th>MechanicalEngg</th>\n",
              "      <th>ElectricalEngg</th>\n",
              "      <th>TelecomEngg</th>\n",
              "      <th>CivilEngg</th>\n",
              "      <th>conscientiousness</th>\n",
              "      <th>agreeableness</th>\n",
              "      <th>extraversion</th>\n",
              "      <th>nueroticism</th>\n",
              "      <th>openess_to_experience</th>\n",
              "      <th>Salary</th>\n",
              "    </tr>\n",
              "  </thead>\n",
              "  <tbody>\n",
              "    <tr>\n",
              "      <th>0</th>\n",
              "      <td>604399</td>\n",
              "      <td>f</td>\n",
              "      <td>1990-10-22</td>\n",
              "      <td>87.80</td>\n",
              "      <td>cbse</td>\n",
              "      <td>2009</td>\n",
              "      <td>84.00</td>\n",
              "      <td>cbse</td>\n",
              "      <td>6920</td>\n",
              "      <td>1</td>\n",
              "      <td>...</td>\n",
              "      <td>-1</td>\n",
              "      <td>-1</td>\n",
              "      <td>-1</td>\n",
              "      <td>-1</td>\n",
              "      <td>-0.1590</td>\n",
              "      <td>0.3789</td>\n",
              "      <td>1.2396</td>\n",
              "      <td>0.14590</td>\n",
              "      <td>0.2889</td>\n",
              "      <td>445000</td>\n",
              "    </tr>\n",
              "    <tr>\n",
              "      <th>1</th>\n",
              "      <td>988334</td>\n",
              "      <td>m</td>\n",
              "      <td>1990-05-15</td>\n",
              "      <td>57.00</td>\n",
              "      <td>cbse</td>\n",
              "      <td>2010</td>\n",
              "      <td>64.50</td>\n",
              "      <td>cbse</td>\n",
              "      <td>6624</td>\n",
              "      <td>2</td>\n",
              "      <td>...</td>\n",
              "      <td>-1</td>\n",
              "      <td>-1</td>\n",
              "      <td>-1</td>\n",
              "      <td>-1</td>\n",
              "      <td>1.1336</td>\n",
              "      <td>0.0459</td>\n",
              "      <td>1.2396</td>\n",
              "      <td>0.52620</td>\n",
              "      <td>-0.2859</td>\n",
              "      <td>110000</td>\n",
              "    </tr>\n",
              "    <tr>\n",
              "      <th>2</th>\n",
              "      <td>301647</td>\n",
              "      <td>m</td>\n",
              "      <td>1989-08-21</td>\n",
              "      <td>77.33</td>\n",
              "      <td>maharashtra state board,pune</td>\n",
              "      <td>2007</td>\n",
              "      <td>85.17</td>\n",
              "      <td>amravati divisional board</td>\n",
              "      <td>9084</td>\n",
              "      <td>2</td>\n",
              "      <td>...</td>\n",
              "      <td>-1</td>\n",
              "      <td>-1</td>\n",
              "      <td>260</td>\n",
              "      <td>-1</td>\n",
              "      <td>0.5100</td>\n",
              "      <td>-0.1232</td>\n",
              "      <td>1.5428</td>\n",
              "      <td>-0.29020</td>\n",
              "      <td>-0.2875</td>\n",
              "      <td>255000</td>\n",
              "    </tr>\n",
              "    <tr>\n",
              "      <th>3</th>\n",
              "      <td>582313</td>\n",
              "      <td>m</td>\n",
              "      <td>1991-05-04</td>\n",
              "      <td>84.30</td>\n",
              "      <td>cbse</td>\n",
              "      <td>2009</td>\n",
              "      <td>86.00</td>\n",
              "      <td>cbse</td>\n",
              "      <td>8195</td>\n",
              "      <td>1</td>\n",
              "      <td>...</td>\n",
              "      <td>-1</td>\n",
              "      <td>-1</td>\n",
              "      <td>-1</td>\n",
              "      <td>-1</td>\n",
              "      <td>-0.4463</td>\n",
              "      <td>0.2124</td>\n",
              "      <td>0.3174</td>\n",
              "      <td>0.27270</td>\n",
              "      <td>0.4805</td>\n",
              "      <td>420000</td>\n",
              "    </tr>\n",
              "    <tr>\n",
              "      <th>4</th>\n",
              "      <td>339001</td>\n",
              "      <td>f</td>\n",
              "      <td>1990-10-30</td>\n",
              "      <td>82.00</td>\n",
              "      <td>cbse</td>\n",
              "      <td>2008</td>\n",
              "      <td>75.00</td>\n",
              "      <td>cbse</td>\n",
              "      <td>4889</td>\n",
              "      <td>2</td>\n",
              "      <td>...</td>\n",
              "      <td>-1</td>\n",
              "      <td>-1</td>\n",
              "      <td>-1</td>\n",
              "      <td>-1</td>\n",
              "      <td>-1.4992</td>\n",
              "      <td>-0.7473</td>\n",
              "      <td>-1.0697</td>\n",
              "      <td>0.06223</td>\n",
              "      <td>0.1864</td>\n",
              "      <td>200000</td>\n",
              "    </tr>\n",
              "  </tbody>\n",
              "</table>\n",
              "<p>5 rows × 34 columns</p>\n",
              "</div>\n",
              "      <button class=\"colab-df-convert\" onclick=\"convertToInteractive('df-1677ccf9-e155-4fa6-8a45-e365c4d74f8c')\"\n",
              "              title=\"Convert this dataframe to an interactive table.\"\n",
              "              style=\"display:none;\">\n",
              "        \n",
              "  <svg xmlns=\"http://www.w3.org/2000/svg\" height=\"24px\"viewBox=\"0 0 24 24\"\n",
              "       width=\"24px\">\n",
              "    <path d=\"M0 0h24v24H0V0z\" fill=\"none\"/>\n",
              "    <path d=\"M18.56 5.44l.94 2.06.94-2.06 2.06-.94-2.06-.94-.94-2.06-.94 2.06-2.06.94zm-11 1L8.5 8.5l.94-2.06 2.06-.94-2.06-.94L8.5 2.5l-.94 2.06-2.06.94zm10 10l.94 2.06.94-2.06 2.06-.94-2.06-.94-.94-2.06-.94 2.06-2.06.94z\"/><path d=\"M17.41 7.96l-1.37-1.37c-.4-.4-.92-.59-1.43-.59-.52 0-1.04.2-1.43.59L10.3 9.45l-7.72 7.72c-.78.78-.78 2.05 0 2.83L4 21.41c.39.39.9.59 1.41.59.51 0 1.02-.2 1.41-.59l7.78-7.78 2.81-2.81c.8-.78.8-2.07 0-2.86zM5.41 20L4 18.59l7.72-7.72 1.47 1.35L5.41 20z\"/>\n",
              "  </svg>\n",
              "      </button>\n",
              "      \n",
              "  <style>\n",
              "    .colab-df-container {\n",
              "      display:flex;\n",
              "      flex-wrap:wrap;\n",
              "      gap: 12px;\n",
              "    }\n",
              "\n",
              "    .colab-df-convert {\n",
              "      background-color: #E8F0FE;\n",
              "      border: none;\n",
              "      border-radius: 50%;\n",
              "      cursor: pointer;\n",
              "      display: none;\n",
              "      fill: #1967D2;\n",
              "      height: 32px;\n",
              "      padding: 0 0 0 0;\n",
              "      width: 32px;\n",
              "    }\n",
              "\n",
              "    .colab-df-convert:hover {\n",
              "      background-color: #E2EBFA;\n",
              "      box-shadow: 0px 1px 2px rgba(60, 64, 67, 0.3), 0px 1px 3px 1px rgba(60, 64, 67, 0.15);\n",
              "      fill: #174EA6;\n",
              "    }\n",
              "\n",
              "    [theme=dark] .colab-df-convert {\n",
              "      background-color: #3B4455;\n",
              "      fill: #D2E3FC;\n",
              "    }\n",
              "\n",
              "    [theme=dark] .colab-df-convert:hover {\n",
              "      background-color: #434B5C;\n",
              "      box-shadow: 0px 1px 3px 1px rgba(0, 0, 0, 0.15);\n",
              "      filter: drop-shadow(0px 1px 2px rgba(0, 0, 0, 0.3));\n",
              "      fill: #FFFFFF;\n",
              "    }\n",
              "  </style>\n",
              "\n",
              "      <script>\n",
              "        const buttonEl =\n",
              "          document.querySelector('#df-1677ccf9-e155-4fa6-8a45-e365c4d74f8c button.colab-df-convert');\n",
              "        buttonEl.style.display =\n",
              "          google.colab.kernel.accessAllowed ? 'block' : 'none';\n",
              "\n",
              "        async function convertToInteractive(key) {\n",
              "          const element = document.querySelector('#df-1677ccf9-e155-4fa6-8a45-e365c4d74f8c');\n",
              "          const dataTable =\n",
              "            await google.colab.kernel.invokeFunction('convertToInteractive',\n",
              "                                                     [key], {});\n",
              "          if (!dataTable) return;\n",
              "\n",
              "          const docLinkHtml = 'Like what you see? Visit the ' +\n",
              "            '<a target=\"_blank\" href=https://colab.research.google.com/notebooks/data_table.ipynb>data table notebook</a>'\n",
              "            + ' to learn more about interactive tables.';\n",
              "          element.innerHTML = '';\n",
              "          dataTable['output_type'] = 'display_data';\n",
              "          await google.colab.output.renderOutput(dataTable, element);\n",
              "          const docLink = document.createElement('div');\n",
              "          docLink.innerHTML = docLinkHtml;\n",
              "          element.appendChild(docLink);\n",
              "        }\n",
              "      </script>\n",
              "    </div>\n",
              "  </div>\n",
              "  "
            ]
          },
          "metadata": {},
          "execution_count": 353
        }
      ]
    },
    {
      "cell_type": "markdown",
      "source": [
        "# Data Description\n",
        "ID: A unique ID to identify a candidate\n",
        "\n",
        "Salary: Annual CTC offered to the candidate (in INR)\n",
        "\n",
        "Gender: Candidate's gender\n",
        "\n",
        "DOB: Date of birth of the candidate\n",
        "\n",
        "10percentage: Overall marks obtained in grade 10 examinations\n",
        "\n",
        "10board: The school board whose curriculum the candidate followed in grade 10\n",
        "\n",
        "12graduation: Year of graduation - senior year high school\n",
        "\n",
        "12percentage: Overall marks obtained in grade 12 examinations\n",
        "\n",
        "12board: The school board whose curriculum the candidate followed\n",
        "\n",
        "CollegeID: Unique ID identifying the university/college which the candidate attended for her/his undergraduate\n",
        "\n",
        "CollegeTier: Each college has been annotated as 1 or 2. The annotations have been computed from the average AMCAT scores obtained by the students in the college/university. Colleges with an average score above a threshold are tagged as 1 and others as 2.\n",
        "\n",
        "Degree: Degree obtained/pursued by the candidate\n",
        "\n",
        "Specialization: Specialization pursued by the candidate\n",
        "\n",
        "CollegeGPA: Aggregate GPA at graduation\n",
        "\n",
        "CollegeCityID: A unique ID to identify the city in which the college is located in.\n",
        "\n",
        "CollegeCityTier: The tier of the city in which the college is located in. This is annotated based on the population of the cities.\n",
        "\n",
        "CollegeState: Name of the state in which the college is located\n",
        "\n",
        "GraduationYear: Year of graduation (Bachelor's degree)\n",
        "\n",
        "English: Scores in AMCAT English section\n",
        "\n",
        "Logical: Score in AMCAT Logical ability section\n",
        "\n",
        "Quant: Score in AMCAT's Quantitative ability section\n",
        "\n",
        "Domain: Scores in AMCAT's domain module\n",
        "\n",
        "ComputerProgramming: Score in AMCAT's Computer programming section\n",
        "\n",
        "ElectronicsAndSemicon: Score in AMCAT's Electronics & Semiconductor Engineering section\n",
        "\n",
        "ComputerScience: Score in AMCAT's Computer Science section\n",
        "\n",
        "MechanicalEngg: Score in AMCAT's Mechanical Engineering section\n",
        "\n",
        "ElectricalEngg: Score in AMCAT's Electrical Engineering section\n",
        "\n",
        "TelecomEngg: Score in AMCAT's Telecommunication Engineering section\n",
        "\n",
        "CivilEngg: Score in AMCAT's Civil Engineering section\n",
        "\n",
        "conscientiousness: Scores in one of the sections of AMCAT's personality test\n",
        "\n",
        "agreeableness: Scores in one of the sections of AMCAT's personality test\n",
        "\n",
        "extraversion: Scores in one of the sections of AMCAT's personality test\n",
        "\n",
        "nueroticism: Scores in one of the sections of AMCAT's personality test\n",
        "\n",
        "openesstoexperience: Scores in one of the sections of AMCAT's personality test\n"
      ],
      "metadata": {
        "id": "juoamxVeDRPQ"
      }
    },
    {
      "cell_type": "code",
      "source": [
        "df.tail()"
      ],
      "metadata": {
        "colab": {
          "base_uri": "https://localhost:8080/",
          "height": 404
        },
        "id": "hpRZr5Jm23Hw",
        "outputId": "f708f75c-52b2-43e6-cb71-59fb97a74d43"
      },
      "execution_count": null,
      "outputs": [
        {
          "output_type": "execute_result",
          "data": {
            "text/plain": [
              "          ID Gender         DOB  10percentage                    10board  \\\n",
              "2993  103174      f  1989-04-17         75.00                          0   \n",
              "2994  352811      f  1991-07-22         84.00                state board   \n",
              "2995  287070      m  1988-11-24         91.40                      bsemp   \n",
              "2996  317336      m  1988-08-25         88.64  karnataka education board   \n",
              "2997  993701      m  1992-05-27         77.00                state board   \n",
              "\n",
              "      12graduation  12percentage                    12board  CollegeID  \\\n",
              "2993          2005         73.00                          0       1263   \n",
              "2994          2008         77.00                state board       9481   \n",
              "2995          2006         65.56                      bsemp        547   \n",
              "2996          2006         65.16  karnataka education board       1629   \n",
              "2997          2009         75.50                state board       1111   \n",
              "\n",
              "      CollegeTier  ... MechanicalEngg ElectricalEngg  TelecomEngg  CivilEngg  \\\n",
              "2993            2  ...             -1             -1           -1         -1   \n",
              "2994            2  ...             -1             -1           -1         -1   \n",
              "2995            2  ...             -1             -1           -1         -1   \n",
              "2996            2  ...             -1             -1           -1         -1   \n",
              "2997            2  ...             -1             -1           -1         -1   \n",
              "\n",
              "      conscientiousness agreeableness  extraversion  nueroticism  \\\n",
              "2993            -1.1901        0.9688       -1.0697      1.35490   \n",
              "2994            -0.1082        0.0328       -0.4891     -0.29020   \n",
              "2995            -0.8810        0.1888       -0.3440      0.06230   \n",
              "2996             1.4374        1.2808       -0.4891     -1.46537   \n",
              "2997            -0.5899       -1.9521        0.3174      1.16010   \n",
              "\n",
              "      openess_to_experience  Salary  \n",
              "2993                 0.0284  120000  \n",
              "2994                 0.5024  120000  \n",
              "2995                 0.6603  385000  \n",
              "2996                 0.5419  530000  \n",
              "2997                -2.3937  200000  \n",
              "\n",
              "[5 rows x 34 columns]"
            ],
            "text/html": [
              "\n",
              "  <div id=\"df-e4a322dd-2800-405f-96ab-66aa9be84c25\">\n",
              "    <div class=\"colab-df-container\">\n",
              "      <div>\n",
              "<style scoped>\n",
              "    .dataframe tbody tr th:only-of-type {\n",
              "        vertical-align: middle;\n",
              "    }\n",
              "\n",
              "    .dataframe tbody tr th {\n",
              "        vertical-align: top;\n",
              "    }\n",
              "\n",
              "    .dataframe thead th {\n",
              "        text-align: right;\n",
              "    }\n",
              "</style>\n",
              "<table border=\"1\" class=\"dataframe\">\n",
              "  <thead>\n",
              "    <tr style=\"text-align: right;\">\n",
              "      <th></th>\n",
              "      <th>ID</th>\n",
              "      <th>Gender</th>\n",
              "      <th>DOB</th>\n",
              "      <th>10percentage</th>\n",
              "      <th>10board</th>\n",
              "      <th>12graduation</th>\n",
              "      <th>12percentage</th>\n",
              "      <th>12board</th>\n",
              "      <th>CollegeID</th>\n",
              "      <th>CollegeTier</th>\n",
              "      <th>...</th>\n",
              "      <th>MechanicalEngg</th>\n",
              "      <th>ElectricalEngg</th>\n",
              "      <th>TelecomEngg</th>\n",
              "      <th>CivilEngg</th>\n",
              "      <th>conscientiousness</th>\n",
              "      <th>agreeableness</th>\n",
              "      <th>extraversion</th>\n",
              "      <th>nueroticism</th>\n",
              "      <th>openess_to_experience</th>\n",
              "      <th>Salary</th>\n",
              "    </tr>\n",
              "  </thead>\n",
              "  <tbody>\n",
              "    <tr>\n",
              "      <th>2993</th>\n",
              "      <td>103174</td>\n",
              "      <td>f</td>\n",
              "      <td>1989-04-17</td>\n",
              "      <td>75.00</td>\n",
              "      <td>0</td>\n",
              "      <td>2005</td>\n",
              "      <td>73.00</td>\n",
              "      <td>0</td>\n",
              "      <td>1263</td>\n",
              "      <td>2</td>\n",
              "      <td>...</td>\n",
              "      <td>-1</td>\n",
              "      <td>-1</td>\n",
              "      <td>-1</td>\n",
              "      <td>-1</td>\n",
              "      <td>-1.1901</td>\n",
              "      <td>0.9688</td>\n",
              "      <td>-1.0697</td>\n",
              "      <td>1.35490</td>\n",
              "      <td>0.0284</td>\n",
              "      <td>120000</td>\n",
              "    </tr>\n",
              "    <tr>\n",
              "      <th>2994</th>\n",
              "      <td>352811</td>\n",
              "      <td>f</td>\n",
              "      <td>1991-07-22</td>\n",
              "      <td>84.00</td>\n",
              "      <td>state board</td>\n",
              "      <td>2008</td>\n",
              "      <td>77.00</td>\n",
              "      <td>state board</td>\n",
              "      <td>9481</td>\n",
              "      <td>2</td>\n",
              "      <td>...</td>\n",
              "      <td>-1</td>\n",
              "      <td>-1</td>\n",
              "      <td>-1</td>\n",
              "      <td>-1</td>\n",
              "      <td>-0.1082</td>\n",
              "      <td>0.0328</td>\n",
              "      <td>-0.4891</td>\n",
              "      <td>-0.29020</td>\n",
              "      <td>0.5024</td>\n",
              "      <td>120000</td>\n",
              "    </tr>\n",
              "    <tr>\n",
              "      <th>2995</th>\n",
              "      <td>287070</td>\n",
              "      <td>m</td>\n",
              "      <td>1988-11-24</td>\n",
              "      <td>91.40</td>\n",
              "      <td>bsemp</td>\n",
              "      <td>2006</td>\n",
              "      <td>65.56</td>\n",
              "      <td>bsemp</td>\n",
              "      <td>547</td>\n",
              "      <td>2</td>\n",
              "      <td>...</td>\n",
              "      <td>-1</td>\n",
              "      <td>-1</td>\n",
              "      <td>-1</td>\n",
              "      <td>-1</td>\n",
              "      <td>-0.8810</td>\n",
              "      <td>0.1888</td>\n",
              "      <td>-0.3440</td>\n",
              "      <td>0.06230</td>\n",
              "      <td>0.6603</td>\n",
              "      <td>385000</td>\n",
              "    </tr>\n",
              "    <tr>\n",
              "      <th>2996</th>\n",
              "      <td>317336</td>\n",
              "      <td>m</td>\n",
              "      <td>1988-08-25</td>\n",
              "      <td>88.64</td>\n",
              "      <td>karnataka education board</td>\n",
              "      <td>2006</td>\n",
              "      <td>65.16</td>\n",
              "      <td>karnataka education board</td>\n",
              "      <td>1629</td>\n",
              "      <td>2</td>\n",
              "      <td>...</td>\n",
              "      <td>-1</td>\n",
              "      <td>-1</td>\n",
              "      <td>-1</td>\n",
              "      <td>-1</td>\n",
              "      <td>1.4374</td>\n",
              "      <td>1.2808</td>\n",
              "      <td>-0.4891</td>\n",
              "      <td>-1.46537</td>\n",
              "      <td>0.5419</td>\n",
              "      <td>530000</td>\n",
              "    </tr>\n",
              "    <tr>\n",
              "      <th>2997</th>\n",
              "      <td>993701</td>\n",
              "      <td>m</td>\n",
              "      <td>1992-05-27</td>\n",
              "      <td>77.00</td>\n",
              "      <td>state board</td>\n",
              "      <td>2009</td>\n",
              "      <td>75.50</td>\n",
              "      <td>state board</td>\n",
              "      <td>1111</td>\n",
              "      <td>2</td>\n",
              "      <td>...</td>\n",
              "      <td>-1</td>\n",
              "      <td>-1</td>\n",
              "      <td>-1</td>\n",
              "      <td>-1</td>\n",
              "      <td>-0.5899</td>\n",
              "      <td>-1.9521</td>\n",
              "      <td>0.3174</td>\n",
              "      <td>1.16010</td>\n",
              "      <td>-2.3937</td>\n",
              "      <td>200000</td>\n",
              "    </tr>\n",
              "  </tbody>\n",
              "</table>\n",
              "<p>5 rows × 34 columns</p>\n",
              "</div>\n",
              "      <button class=\"colab-df-convert\" onclick=\"convertToInteractive('df-e4a322dd-2800-405f-96ab-66aa9be84c25')\"\n",
              "              title=\"Convert this dataframe to an interactive table.\"\n",
              "              style=\"display:none;\">\n",
              "        \n",
              "  <svg xmlns=\"http://www.w3.org/2000/svg\" height=\"24px\"viewBox=\"0 0 24 24\"\n",
              "       width=\"24px\">\n",
              "    <path d=\"M0 0h24v24H0V0z\" fill=\"none\"/>\n",
              "    <path d=\"M18.56 5.44l.94 2.06.94-2.06 2.06-.94-2.06-.94-.94-2.06-.94 2.06-2.06.94zm-11 1L8.5 8.5l.94-2.06 2.06-.94-2.06-.94L8.5 2.5l-.94 2.06-2.06.94zm10 10l.94 2.06.94-2.06 2.06-.94-2.06-.94-.94-2.06-.94 2.06-2.06.94z\"/><path d=\"M17.41 7.96l-1.37-1.37c-.4-.4-.92-.59-1.43-.59-.52 0-1.04.2-1.43.59L10.3 9.45l-7.72 7.72c-.78.78-.78 2.05 0 2.83L4 21.41c.39.39.9.59 1.41.59.51 0 1.02-.2 1.41-.59l7.78-7.78 2.81-2.81c.8-.78.8-2.07 0-2.86zM5.41 20L4 18.59l7.72-7.72 1.47 1.35L5.41 20z\"/>\n",
              "  </svg>\n",
              "      </button>\n",
              "      \n",
              "  <style>\n",
              "    .colab-df-container {\n",
              "      display:flex;\n",
              "      flex-wrap:wrap;\n",
              "      gap: 12px;\n",
              "    }\n",
              "\n",
              "    .colab-df-convert {\n",
              "      background-color: #E8F0FE;\n",
              "      border: none;\n",
              "      border-radius: 50%;\n",
              "      cursor: pointer;\n",
              "      display: none;\n",
              "      fill: #1967D2;\n",
              "      height: 32px;\n",
              "      padding: 0 0 0 0;\n",
              "      width: 32px;\n",
              "    }\n",
              "\n",
              "    .colab-df-convert:hover {\n",
              "      background-color: #E2EBFA;\n",
              "      box-shadow: 0px 1px 2px rgba(60, 64, 67, 0.3), 0px 1px 3px 1px rgba(60, 64, 67, 0.15);\n",
              "      fill: #174EA6;\n",
              "    }\n",
              "\n",
              "    [theme=dark] .colab-df-convert {\n",
              "      background-color: #3B4455;\n",
              "      fill: #D2E3FC;\n",
              "    }\n",
              "\n",
              "    [theme=dark] .colab-df-convert:hover {\n",
              "      background-color: #434B5C;\n",
              "      box-shadow: 0px 1px 3px 1px rgba(0, 0, 0, 0.15);\n",
              "      filter: drop-shadow(0px 1px 2px rgba(0, 0, 0, 0.3));\n",
              "      fill: #FFFFFF;\n",
              "    }\n",
              "  </style>\n",
              "\n",
              "      <script>\n",
              "        const buttonEl =\n",
              "          document.querySelector('#df-e4a322dd-2800-405f-96ab-66aa9be84c25 button.colab-df-convert');\n",
              "        buttonEl.style.display =\n",
              "          google.colab.kernel.accessAllowed ? 'block' : 'none';\n",
              "\n",
              "        async function convertToInteractive(key) {\n",
              "          const element = document.querySelector('#df-e4a322dd-2800-405f-96ab-66aa9be84c25');\n",
              "          const dataTable =\n",
              "            await google.colab.kernel.invokeFunction('convertToInteractive',\n",
              "                                                     [key], {});\n",
              "          if (!dataTable) return;\n",
              "\n",
              "          const docLinkHtml = 'Like what you see? Visit the ' +\n",
              "            '<a target=\"_blank\" href=https://colab.research.google.com/notebooks/data_table.ipynb>data table notebook</a>'\n",
              "            + ' to learn more about interactive tables.';\n",
              "          element.innerHTML = '';\n",
              "          dataTable['output_type'] = 'display_data';\n",
              "          await google.colab.output.renderOutput(dataTable, element);\n",
              "          const docLink = document.createElement('div');\n",
              "          docLink.innerHTML = docLinkHtml;\n",
              "          element.appendChild(docLink);\n",
              "        }\n",
              "      </script>\n",
              "    </div>\n",
              "  </div>\n",
              "  "
            ]
          },
          "metadata": {},
          "execution_count": 354
        }
      ]
    },
    {
      "cell_type": "code",
      "source": [
        "df.shape"
      ],
      "metadata": {
        "colab": {
          "base_uri": "https://localhost:8080/"
        },
        "id": "xupJryV423K3",
        "outputId": "df11765a-04aa-432f-cbd7-d8c468260dae"
      },
      "execution_count": null,
      "outputs": [
        {
          "output_type": "execute_result",
          "data": {
            "text/plain": [
              "(2998, 34)"
            ]
          },
          "metadata": {},
          "execution_count": 355
        }
      ]
    },
    {
      "cell_type": "code",
      "source": [
        "df.columns"
      ],
      "metadata": {
        "colab": {
          "base_uri": "https://localhost:8080/"
        },
        "id": "Ec4qZgnN23OD",
        "outputId": "ffd4d2bb-7b4f-46d8-c91b-fbc2e435a99a"
      },
      "execution_count": null,
      "outputs": [
        {
          "output_type": "execute_result",
          "data": {
            "text/plain": [
              "Index(['ID', 'Gender', 'DOB', '10percentage', '10board', '12graduation',\n",
              "       '12percentage', '12board', 'CollegeID', 'CollegeTier', 'Degree',\n",
              "       'Specialization', 'collegeGPA', 'CollegeCityID', 'CollegeCityTier',\n",
              "       'CollegeState', 'GraduationYear', 'English', 'Logical', 'Quant',\n",
              "       'Domain', 'ComputerProgramming', 'ElectronicsAndSemicon',\n",
              "       'ComputerScience', 'MechanicalEngg', 'ElectricalEngg', 'TelecomEngg',\n",
              "       'CivilEngg', 'conscientiousness', 'agreeableness', 'extraversion',\n",
              "       'nueroticism', 'openess_to_experience', 'Salary'],\n",
              "      dtype='object')"
            ]
          },
          "metadata": {},
          "execution_count": 356
        }
      ]
    },
    {
      "cell_type": "code",
      "source": [
        "len(df.columns)"
      ],
      "metadata": {
        "colab": {
          "base_uri": "https://localhost:8080/"
        },
        "id": "0ln_Gv6023Sc",
        "outputId": "3048a216-e4fd-4dd5-bb7d-3b057ee6f926"
      },
      "execution_count": null,
      "outputs": [
        {
          "output_type": "execute_result",
          "data": {
            "text/plain": [
              "34"
            ]
          },
          "metadata": {},
          "execution_count": 357
        }
      ]
    },
    {
      "cell_type": "code",
      "source": [
        "df.shape[1]"
      ],
      "metadata": {
        "colab": {
          "base_uri": "https://localhost:8080/"
        },
        "id": "_6eZPDYj23V3",
        "outputId": "be0c8536-25f6-4d07-e180-c17631c8d602"
      },
      "execution_count": null,
      "outputs": [
        {
          "output_type": "execute_result",
          "data": {
            "text/plain": [
              "34"
            ]
          },
          "metadata": {},
          "execution_count": 358
        }
      ]
    },
    {
      "cell_type": "code",
      "source": [
        "df.info()"
      ],
      "metadata": {
        "colab": {
          "base_uri": "https://localhost:8080/"
        },
        "id": "ViFEbHWz23Zh",
        "outputId": "9f30b99a-ae94-4b72-ed5f-e00620160e46"
      },
      "execution_count": null,
      "outputs": [
        {
          "output_type": "stream",
          "name": "stdout",
          "text": [
            "<class 'pandas.core.frame.DataFrame'>\n",
            "RangeIndex: 2998 entries, 0 to 2997\n",
            "Data columns (total 34 columns):\n",
            " #   Column                 Non-Null Count  Dtype  \n",
            "---  ------                 --------------  -----  \n",
            " 0   ID                     2998 non-null   int64  \n",
            " 1   Gender                 2998 non-null   object \n",
            " 2   DOB                    2998 non-null   object \n",
            " 3   10percentage           2998 non-null   float64\n",
            " 4   10board                2998 non-null   object \n",
            " 5   12graduation           2998 non-null   int64  \n",
            " 6   12percentage           2998 non-null   float64\n",
            " 7   12board                2998 non-null   object \n",
            " 8   CollegeID              2998 non-null   int64  \n",
            " 9   CollegeTier            2998 non-null   int64  \n",
            " 10  Degree                 2998 non-null   object \n",
            " 11  Specialization         2998 non-null   object \n",
            " 12  collegeGPA             2998 non-null   float64\n",
            " 13  CollegeCityID          2998 non-null   int64  \n",
            " 14  CollegeCityTier        2998 non-null   int64  \n",
            " 15  CollegeState           2998 non-null   object \n",
            " 16  GraduationYear         2998 non-null   int64  \n",
            " 17  English                2998 non-null   int64  \n",
            " 18  Logical                2998 non-null   int64  \n",
            " 19  Quant                  2998 non-null   int64  \n",
            " 20  Domain                 2998 non-null   float64\n",
            " 21  ComputerProgramming    2998 non-null   int64  \n",
            " 22  ElectronicsAndSemicon  2998 non-null   int64  \n",
            " 23  ComputerScience        2998 non-null   int64  \n",
            " 24  MechanicalEngg         2998 non-null   int64  \n",
            " 25  ElectricalEngg         2998 non-null   int64  \n",
            " 26  TelecomEngg            2998 non-null   int64  \n",
            " 27  CivilEngg              2998 non-null   int64  \n",
            " 28  conscientiousness      2998 non-null   float64\n",
            " 29  agreeableness          2998 non-null   float64\n",
            " 30  extraversion           2998 non-null   float64\n",
            " 31  nueroticism            2998 non-null   float64\n",
            " 32  openess_to_experience  2998 non-null   float64\n",
            " 33  Salary                 2998 non-null   int64  \n",
            "dtypes: float64(9), int64(18), object(7)\n",
            "memory usage: 796.5+ KB\n"
          ]
        }
      ]
    },
    {
      "cell_type": "code",
      "source": [
        "df.isna().sum()"
      ],
      "metadata": {
        "colab": {
          "base_uri": "https://localhost:8080/"
        },
        "id": "FG_2uvO723c5",
        "outputId": "87a17b9c-ac35-422e-c271-298218a0b59b"
      },
      "execution_count": null,
      "outputs": [
        {
          "output_type": "execute_result",
          "data": {
            "text/plain": [
              "ID                       0\n",
              "Gender                   0\n",
              "DOB                      0\n",
              "10percentage             0\n",
              "10board                  0\n",
              "12graduation             0\n",
              "12percentage             0\n",
              "12board                  0\n",
              "CollegeID                0\n",
              "CollegeTier              0\n",
              "Degree                   0\n",
              "Specialization           0\n",
              "collegeGPA               0\n",
              "CollegeCityID            0\n",
              "CollegeCityTier          0\n",
              "CollegeState             0\n",
              "GraduationYear           0\n",
              "English                  0\n",
              "Logical                  0\n",
              "Quant                    0\n",
              "Domain                   0\n",
              "ComputerProgramming      0\n",
              "ElectronicsAndSemicon    0\n",
              "ComputerScience          0\n",
              "MechanicalEngg           0\n",
              "ElectricalEngg           0\n",
              "TelecomEngg              0\n",
              "CivilEngg                0\n",
              "conscientiousness        0\n",
              "agreeableness            0\n",
              "extraversion             0\n",
              "nueroticism              0\n",
              "openess_to_experience    0\n",
              "Salary                   0\n",
              "dtype: int64"
            ]
          },
          "metadata": {},
          "execution_count": 360
        }
      ]
    },
    {
      "cell_type": "code",
      "source": [
        "df.isna().sum().sum()"
      ],
      "metadata": {
        "colab": {
          "base_uri": "https://localhost:8080/"
        },
        "id": "DBg71fkD23gU",
        "outputId": "449ca47b-568e-4748-9786-767129089292"
      },
      "execution_count": null,
      "outputs": [
        {
          "output_type": "execute_result",
          "data": {
            "text/plain": [
              "0"
            ]
          },
          "metadata": {},
          "execution_count": 361
        }
      ]
    },
    {
      "cell_type": "code",
      "source": [
        "df.head(1)"
      ],
      "metadata": {
        "colab": {
          "base_uri": "https://localhost:8080/",
          "height": 191
        },
        "id": "5E_q-vX223j6",
        "outputId": "3695a727-a449-441d-fa67-bcb4730a473d"
      },
      "execution_count": null,
      "outputs": [
        {
          "output_type": "execute_result",
          "data": {
            "text/plain": [
              "       ID Gender         DOB  10percentage 10board  12graduation  \\\n",
              "0  604399      f  1990-10-22          87.8    cbse          2009   \n",
              "\n",
              "   12percentage 12board  CollegeID  CollegeTier  ... MechanicalEngg  \\\n",
              "0          84.0    cbse       6920            1  ...             -1   \n",
              "\n",
              "  ElectricalEngg  TelecomEngg  CivilEngg  conscientiousness agreeableness  \\\n",
              "0             -1           -1         -1             -0.159        0.3789   \n",
              "\n",
              "   extraversion  nueroticism  openess_to_experience  Salary  \n",
              "0        1.2396       0.1459                 0.2889  445000  \n",
              "\n",
              "[1 rows x 34 columns]"
            ],
            "text/html": [
              "\n",
              "  <div id=\"df-3199d1b0-db29-47ec-827e-b34df2e6873b\">\n",
              "    <div class=\"colab-df-container\">\n",
              "      <div>\n",
              "<style scoped>\n",
              "    .dataframe tbody tr th:only-of-type {\n",
              "        vertical-align: middle;\n",
              "    }\n",
              "\n",
              "    .dataframe tbody tr th {\n",
              "        vertical-align: top;\n",
              "    }\n",
              "\n",
              "    .dataframe thead th {\n",
              "        text-align: right;\n",
              "    }\n",
              "</style>\n",
              "<table border=\"1\" class=\"dataframe\">\n",
              "  <thead>\n",
              "    <tr style=\"text-align: right;\">\n",
              "      <th></th>\n",
              "      <th>ID</th>\n",
              "      <th>Gender</th>\n",
              "      <th>DOB</th>\n",
              "      <th>10percentage</th>\n",
              "      <th>10board</th>\n",
              "      <th>12graduation</th>\n",
              "      <th>12percentage</th>\n",
              "      <th>12board</th>\n",
              "      <th>CollegeID</th>\n",
              "      <th>CollegeTier</th>\n",
              "      <th>...</th>\n",
              "      <th>MechanicalEngg</th>\n",
              "      <th>ElectricalEngg</th>\n",
              "      <th>TelecomEngg</th>\n",
              "      <th>CivilEngg</th>\n",
              "      <th>conscientiousness</th>\n",
              "      <th>agreeableness</th>\n",
              "      <th>extraversion</th>\n",
              "      <th>nueroticism</th>\n",
              "      <th>openess_to_experience</th>\n",
              "      <th>Salary</th>\n",
              "    </tr>\n",
              "  </thead>\n",
              "  <tbody>\n",
              "    <tr>\n",
              "      <th>0</th>\n",
              "      <td>604399</td>\n",
              "      <td>f</td>\n",
              "      <td>1990-10-22</td>\n",
              "      <td>87.8</td>\n",
              "      <td>cbse</td>\n",
              "      <td>2009</td>\n",
              "      <td>84.0</td>\n",
              "      <td>cbse</td>\n",
              "      <td>6920</td>\n",
              "      <td>1</td>\n",
              "      <td>...</td>\n",
              "      <td>-1</td>\n",
              "      <td>-1</td>\n",
              "      <td>-1</td>\n",
              "      <td>-1</td>\n",
              "      <td>-0.159</td>\n",
              "      <td>0.3789</td>\n",
              "      <td>1.2396</td>\n",
              "      <td>0.1459</td>\n",
              "      <td>0.2889</td>\n",
              "      <td>445000</td>\n",
              "    </tr>\n",
              "  </tbody>\n",
              "</table>\n",
              "<p>1 rows × 34 columns</p>\n",
              "</div>\n",
              "      <button class=\"colab-df-convert\" onclick=\"convertToInteractive('df-3199d1b0-db29-47ec-827e-b34df2e6873b')\"\n",
              "              title=\"Convert this dataframe to an interactive table.\"\n",
              "              style=\"display:none;\">\n",
              "        \n",
              "  <svg xmlns=\"http://www.w3.org/2000/svg\" height=\"24px\"viewBox=\"0 0 24 24\"\n",
              "       width=\"24px\">\n",
              "    <path d=\"M0 0h24v24H0V0z\" fill=\"none\"/>\n",
              "    <path d=\"M18.56 5.44l.94 2.06.94-2.06 2.06-.94-2.06-.94-.94-2.06-.94 2.06-2.06.94zm-11 1L8.5 8.5l.94-2.06 2.06-.94-2.06-.94L8.5 2.5l-.94 2.06-2.06.94zm10 10l.94 2.06.94-2.06 2.06-.94-2.06-.94-.94-2.06-.94 2.06-2.06.94z\"/><path d=\"M17.41 7.96l-1.37-1.37c-.4-.4-.92-.59-1.43-.59-.52 0-1.04.2-1.43.59L10.3 9.45l-7.72 7.72c-.78.78-.78 2.05 0 2.83L4 21.41c.39.39.9.59 1.41.59.51 0 1.02-.2 1.41-.59l7.78-7.78 2.81-2.81c.8-.78.8-2.07 0-2.86zM5.41 20L4 18.59l7.72-7.72 1.47 1.35L5.41 20z\"/>\n",
              "  </svg>\n",
              "      </button>\n",
              "      \n",
              "  <style>\n",
              "    .colab-df-container {\n",
              "      display:flex;\n",
              "      flex-wrap:wrap;\n",
              "      gap: 12px;\n",
              "    }\n",
              "\n",
              "    .colab-df-convert {\n",
              "      background-color: #E8F0FE;\n",
              "      border: none;\n",
              "      border-radius: 50%;\n",
              "      cursor: pointer;\n",
              "      display: none;\n",
              "      fill: #1967D2;\n",
              "      height: 32px;\n",
              "      padding: 0 0 0 0;\n",
              "      width: 32px;\n",
              "    }\n",
              "\n",
              "    .colab-df-convert:hover {\n",
              "      background-color: #E2EBFA;\n",
              "      box-shadow: 0px 1px 2px rgba(60, 64, 67, 0.3), 0px 1px 3px 1px rgba(60, 64, 67, 0.15);\n",
              "      fill: #174EA6;\n",
              "    }\n",
              "\n",
              "    [theme=dark] .colab-df-convert {\n",
              "      background-color: #3B4455;\n",
              "      fill: #D2E3FC;\n",
              "    }\n",
              "\n",
              "    [theme=dark] .colab-df-convert:hover {\n",
              "      background-color: #434B5C;\n",
              "      box-shadow: 0px 1px 3px 1px rgba(0, 0, 0, 0.15);\n",
              "      filter: drop-shadow(0px 1px 2px rgba(0, 0, 0, 0.3));\n",
              "      fill: #FFFFFF;\n",
              "    }\n",
              "  </style>\n",
              "\n",
              "      <script>\n",
              "        const buttonEl =\n",
              "          document.querySelector('#df-3199d1b0-db29-47ec-827e-b34df2e6873b button.colab-df-convert');\n",
              "        buttonEl.style.display =\n",
              "          google.colab.kernel.accessAllowed ? 'block' : 'none';\n",
              "\n",
              "        async function convertToInteractive(key) {\n",
              "          const element = document.querySelector('#df-3199d1b0-db29-47ec-827e-b34df2e6873b');\n",
              "          const dataTable =\n",
              "            await google.colab.kernel.invokeFunction('convertToInteractive',\n",
              "                                                     [key], {});\n",
              "          if (!dataTable) return;\n",
              "\n",
              "          const docLinkHtml = 'Like what you see? Visit the ' +\n",
              "            '<a target=\"_blank\" href=https://colab.research.google.com/notebooks/data_table.ipynb>data table notebook</a>'\n",
              "            + ' to learn more about interactive tables.';\n",
              "          element.innerHTML = '';\n",
              "          dataTable['output_type'] = 'display_data';\n",
              "          await google.colab.output.renderOutput(dataTable, element);\n",
              "          const docLink = document.createElement('div');\n",
              "          docLink.innerHTML = docLinkHtml;\n",
              "          element.appendChild(docLink);\n",
              "        }\n",
              "      </script>\n",
              "    </div>\n",
              "  </div>\n",
              "  "
            ]
          },
          "metadata": {},
          "execution_count": 362
        }
      ]
    },
    {
      "cell_type": "code",
      "source": [
        "df.columns"
      ],
      "metadata": {
        "colab": {
          "base_uri": "https://localhost:8080/"
        },
        "id": "6Eg8ja7nFbwB",
        "outputId": "65e623f0-562f-4d43-92ac-83982179a538"
      },
      "execution_count": null,
      "outputs": [
        {
          "output_type": "execute_result",
          "data": {
            "text/plain": [
              "Index(['ID', 'Gender', 'DOB', '10percentage', '10board', '12graduation',\n",
              "       '12percentage', '12board', 'CollegeID', 'CollegeTier', 'Degree',\n",
              "       'Specialization', 'collegeGPA', 'CollegeCityID', 'CollegeCityTier',\n",
              "       'CollegeState', 'GraduationYear', 'English', 'Logical', 'Quant',\n",
              "       'Domain', 'ComputerProgramming', 'ElectronicsAndSemicon',\n",
              "       'ComputerScience', 'MechanicalEngg', 'ElectricalEngg', 'TelecomEngg',\n",
              "       'CivilEngg', 'conscientiousness', 'agreeableness', 'extraversion',\n",
              "       'nueroticism', 'openess_to_experience', 'Salary'],\n",
              "      dtype='object')"
            ]
          },
          "metadata": {},
          "execution_count": 363
        }
      ]
    },
    {
      "cell_type": "code",
      "source": [
        "# Removing Columns - ID, CollegeID, CollegeCityID, CollegeCityTier, CollegeState"
      ],
      "metadata": {
        "id": "A9xY8AbU23nj"
      },
      "execution_count": null,
      "outputs": []
    },
    {
      "cell_type": "code",
      "source": [
        "df.drop(['ID', 'CollegeID', 'CollegeCityID', 'CollegeCityTier', 'CollegeState'], axis=1, inplace=True)"
      ],
      "metadata": {
        "id": "NMhmTbDf23rB"
      },
      "execution_count": null,
      "outputs": []
    },
    {
      "cell_type": "code",
      "source": [
        "df.head(1)"
      ],
      "metadata": {
        "colab": {
          "base_uri": "https://localhost:8080/",
          "height": 209
        },
        "id": "b9d_0xdO23ua",
        "outputId": "ee9cd94e-9388-4ba0-e759-6810a3ca7b0c"
      },
      "execution_count": null,
      "outputs": [
        {
          "output_type": "execute_result",
          "data": {
            "text/plain": [
              "  Gender         DOB  10percentage 10board  12graduation  12percentage  \\\n",
              "0      f  1990-10-22          87.8    cbse          2009          84.0   \n",
              "\n",
              "  12board  CollegeTier       Degree                           Specialization  \\\n",
              "0    cbse            1  B.Tech/B.E.  instrumentation and control engineering   \n",
              "\n",
              "   ...  MechanicalEngg  ElectricalEngg  TelecomEngg  CivilEngg  \\\n",
              "0  ...              -1              -1           -1         -1   \n",
              "\n",
              "   conscientiousness  agreeableness  extraversion  nueroticism  \\\n",
              "0             -0.159         0.3789        1.2396       0.1459   \n",
              "\n",
              "   openess_to_experience  Salary  \n",
              "0                 0.2889  445000  \n",
              "\n",
              "[1 rows x 29 columns]"
            ],
            "text/html": [
              "\n",
              "  <div id=\"df-f386368e-16cc-4cd5-9a92-87c82b7f46fa\">\n",
              "    <div class=\"colab-df-container\">\n",
              "      <div>\n",
              "<style scoped>\n",
              "    .dataframe tbody tr th:only-of-type {\n",
              "        vertical-align: middle;\n",
              "    }\n",
              "\n",
              "    .dataframe tbody tr th {\n",
              "        vertical-align: top;\n",
              "    }\n",
              "\n",
              "    .dataframe thead th {\n",
              "        text-align: right;\n",
              "    }\n",
              "</style>\n",
              "<table border=\"1\" class=\"dataframe\">\n",
              "  <thead>\n",
              "    <tr style=\"text-align: right;\">\n",
              "      <th></th>\n",
              "      <th>Gender</th>\n",
              "      <th>DOB</th>\n",
              "      <th>10percentage</th>\n",
              "      <th>10board</th>\n",
              "      <th>12graduation</th>\n",
              "      <th>12percentage</th>\n",
              "      <th>12board</th>\n",
              "      <th>CollegeTier</th>\n",
              "      <th>Degree</th>\n",
              "      <th>Specialization</th>\n",
              "      <th>...</th>\n",
              "      <th>MechanicalEngg</th>\n",
              "      <th>ElectricalEngg</th>\n",
              "      <th>TelecomEngg</th>\n",
              "      <th>CivilEngg</th>\n",
              "      <th>conscientiousness</th>\n",
              "      <th>agreeableness</th>\n",
              "      <th>extraversion</th>\n",
              "      <th>nueroticism</th>\n",
              "      <th>openess_to_experience</th>\n",
              "      <th>Salary</th>\n",
              "    </tr>\n",
              "  </thead>\n",
              "  <tbody>\n",
              "    <tr>\n",
              "      <th>0</th>\n",
              "      <td>f</td>\n",
              "      <td>1990-10-22</td>\n",
              "      <td>87.8</td>\n",
              "      <td>cbse</td>\n",
              "      <td>2009</td>\n",
              "      <td>84.0</td>\n",
              "      <td>cbse</td>\n",
              "      <td>1</td>\n",
              "      <td>B.Tech/B.E.</td>\n",
              "      <td>instrumentation and control engineering</td>\n",
              "      <td>...</td>\n",
              "      <td>-1</td>\n",
              "      <td>-1</td>\n",
              "      <td>-1</td>\n",
              "      <td>-1</td>\n",
              "      <td>-0.159</td>\n",
              "      <td>0.3789</td>\n",
              "      <td>1.2396</td>\n",
              "      <td>0.1459</td>\n",
              "      <td>0.2889</td>\n",
              "      <td>445000</td>\n",
              "    </tr>\n",
              "  </tbody>\n",
              "</table>\n",
              "<p>1 rows × 29 columns</p>\n",
              "</div>\n",
              "      <button class=\"colab-df-convert\" onclick=\"convertToInteractive('df-f386368e-16cc-4cd5-9a92-87c82b7f46fa')\"\n",
              "              title=\"Convert this dataframe to an interactive table.\"\n",
              "              style=\"display:none;\">\n",
              "        \n",
              "  <svg xmlns=\"http://www.w3.org/2000/svg\" height=\"24px\"viewBox=\"0 0 24 24\"\n",
              "       width=\"24px\">\n",
              "    <path d=\"M0 0h24v24H0V0z\" fill=\"none\"/>\n",
              "    <path d=\"M18.56 5.44l.94 2.06.94-2.06 2.06-.94-2.06-.94-.94-2.06-.94 2.06-2.06.94zm-11 1L8.5 8.5l.94-2.06 2.06-.94-2.06-.94L8.5 2.5l-.94 2.06-2.06.94zm10 10l.94 2.06.94-2.06 2.06-.94-2.06-.94-.94-2.06-.94 2.06-2.06.94z\"/><path d=\"M17.41 7.96l-1.37-1.37c-.4-.4-.92-.59-1.43-.59-.52 0-1.04.2-1.43.59L10.3 9.45l-7.72 7.72c-.78.78-.78 2.05 0 2.83L4 21.41c.39.39.9.59 1.41.59.51 0 1.02-.2 1.41-.59l7.78-7.78 2.81-2.81c.8-.78.8-2.07 0-2.86zM5.41 20L4 18.59l7.72-7.72 1.47 1.35L5.41 20z\"/>\n",
              "  </svg>\n",
              "      </button>\n",
              "      \n",
              "  <style>\n",
              "    .colab-df-container {\n",
              "      display:flex;\n",
              "      flex-wrap:wrap;\n",
              "      gap: 12px;\n",
              "    }\n",
              "\n",
              "    .colab-df-convert {\n",
              "      background-color: #E8F0FE;\n",
              "      border: none;\n",
              "      border-radius: 50%;\n",
              "      cursor: pointer;\n",
              "      display: none;\n",
              "      fill: #1967D2;\n",
              "      height: 32px;\n",
              "      padding: 0 0 0 0;\n",
              "      width: 32px;\n",
              "    }\n",
              "\n",
              "    .colab-df-convert:hover {\n",
              "      background-color: #E2EBFA;\n",
              "      box-shadow: 0px 1px 2px rgba(60, 64, 67, 0.3), 0px 1px 3px 1px rgba(60, 64, 67, 0.15);\n",
              "      fill: #174EA6;\n",
              "    }\n",
              "\n",
              "    [theme=dark] .colab-df-convert {\n",
              "      background-color: #3B4455;\n",
              "      fill: #D2E3FC;\n",
              "    }\n",
              "\n",
              "    [theme=dark] .colab-df-convert:hover {\n",
              "      background-color: #434B5C;\n",
              "      box-shadow: 0px 1px 3px 1px rgba(0, 0, 0, 0.15);\n",
              "      filter: drop-shadow(0px 1px 2px rgba(0, 0, 0, 0.3));\n",
              "      fill: #FFFFFF;\n",
              "    }\n",
              "  </style>\n",
              "\n",
              "      <script>\n",
              "        const buttonEl =\n",
              "          document.querySelector('#df-f386368e-16cc-4cd5-9a92-87c82b7f46fa button.colab-df-convert');\n",
              "        buttonEl.style.display =\n",
              "          google.colab.kernel.accessAllowed ? 'block' : 'none';\n",
              "\n",
              "        async function convertToInteractive(key) {\n",
              "          const element = document.querySelector('#df-f386368e-16cc-4cd5-9a92-87c82b7f46fa');\n",
              "          const dataTable =\n",
              "            await google.colab.kernel.invokeFunction('convertToInteractive',\n",
              "                                                     [key], {});\n",
              "          if (!dataTable) return;\n",
              "\n",
              "          const docLinkHtml = 'Like what you see? Visit the ' +\n",
              "            '<a target=\"_blank\" href=https://colab.research.google.com/notebooks/data_table.ipynb>data table notebook</a>'\n",
              "            + ' to learn more about interactive tables.';\n",
              "          element.innerHTML = '';\n",
              "          dataTable['output_type'] = 'display_data';\n",
              "          await google.colab.output.renderOutput(dataTable, element);\n",
              "          const docLink = document.createElement('div');\n",
              "          docLink.innerHTML = docLinkHtml;\n",
              "          element.appendChild(docLink);\n",
              "        }\n",
              "      </script>\n",
              "    </div>\n",
              "  </div>\n",
              "  "
            ]
          },
          "metadata": {},
          "execution_count": 366
        }
      ]
    },
    {
      "cell_type": "code",
      "source": [
        "# 2022-10-7 - 1990-10-22 = Age\n",
        "\n",
        "# Year, Month, Day"
      ],
      "metadata": {
        "id": "_neKG-mA23xt"
      },
      "execution_count": null,
      "outputs": []
    },
    {
      "cell_type": "code",
      "source": [
        "df.DOB[0]"
      ],
      "metadata": {
        "colab": {
          "base_uri": "https://localhost:8080/",
          "height": 35
        },
        "id": "2FFY21_X2302",
        "outputId": "6fa498e3-5883-4913-e959-6aee2f62a9d0"
      },
      "execution_count": null,
      "outputs": [
        {
          "output_type": "execute_result",
          "data": {
            "text/plain": [
              "'1990-10-22'"
            ],
            "application/vnd.google.colaboratory.intrinsic+json": {
              "type": "string"
            }
          },
          "metadata": {},
          "execution_count": 368
        }
      ]
    },
    {
      "cell_type": "code",
      "source": [
        "type(df.DOB[0])"
      ],
      "metadata": {
        "colab": {
          "base_uri": "https://localhost:8080/"
        },
        "id": "dLDWwv8M233w",
        "outputId": "d70babd7-a8a2-4a14-b805-c291bc9c19cd"
      },
      "execution_count": null,
      "outputs": [
        {
          "output_type": "execute_result",
          "data": {
            "text/plain": [
              "str"
            ]
          },
          "metadata": {},
          "execution_count": 369
        }
      ]
    },
    {
      "cell_type": "code",
      "source": [
        "df.DOB = pd.to_datetime(df.DOB)"
      ],
      "metadata": {
        "id": "tRcWHqSx236o"
      },
      "execution_count": null,
      "outputs": []
    },
    {
      "cell_type": "code",
      "source": [
        "df.DOB[0]"
      ],
      "metadata": {
        "colab": {
          "base_uri": "https://localhost:8080/"
        },
        "id": "GH1avcBs239Q",
        "outputId": "e159de64-caa9-4546-f065-6f7725c28845"
      },
      "execution_count": null,
      "outputs": [
        {
          "output_type": "execute_result",
          "data": {
            "text/plain": [
              "Timestamp('1990-10-22 00:00:00')"
            ]
          },
          "metadata": {},
          "execution_count": 371
        }
      ]
    },
    {
      "cell_type": "code",
      "source": [
        "df.DOB[0].year"
      ],
      "metadata": {
        "colab": {
          "base_uri": "https://localhost:8080/"
        },
        "id": "dE2i6EXhJQGK",
        "outputId": "4a6185a1-e554-443b-cd52-66b07cc52545"
      },
      "execution_count": null,
      "outputs": [
        {
          "output_type": "execute_result",
          "data": {
            "text/plain": [
              "1990"
            ]
          },
          "metadata": {},
          "execution_count": 372
        }
      ]
    },
    {
      "cell_type": "code",
      "source": [
        "type(df.DOB[100])"
      ],
      "metadata": {
        "colab": {
          "base_uri": "https://localhost:8080/"
        },
        "id": "CuyyD9Es24AB",
        "outputId": "e4c9cbda-8900-4b6c-b557-06693b465838"
      },
      "execution_count": null,
      "outputs": [
        {
          "output_type": "execute_result",
          "data": {
            "text/plain": [
              "pandas._libs.tslibs.timestamps.Timestamp"
            ]
          },
          "metadata": {},
          "execution_count": 373
        }
      ]
    },
    {
      "cell_type": "code",
      "source": [
        "import datetime"
      ],
      "metadata": {
        "id": "nnHVZyYbHYc0"
      },
      "execution_count": null,
      "outputs": []
    },
    {
      "cell_type": "code",
      "source": [
        "def age(data):\n",
        "  current_date = datetime.date.today()\n",
        "  return current_date.year - data.year - ((current_date.month, current_date.day) < (data.month, data.day))"
      ],
      "metadata": {
        "id": "BkYTzZMh24Cu"
      },
      "execution_count": null,
      "outputs": []
    },
    {
      "cell_type": "code",
      "source": [
        "datetime.date.today()"
      ],
      "metadata": {
        "colab": {
          "base_uri": "https://localhost:8080/"
        },
        "id": "vC7BelfD24FU",
        "outputId": "1c10fad0-b210-4b55-80f2-973aa8d9181b"
      },
      "execution_count": null,
      "outputs": [
        {
          "output_type": "execute_result",
          "data": {
            "text/plain": [
              "datetime.date(2023, 2, 14)"
            ]
          },
          "metadata": {},
          "execution_count": 376
        }
      ]
    },
    {
      "cell_type": "code",
      "source": [
        "# 1990-10-22\n",
        "\n",
        "# 22 Oct 1990\n",
        "# 7  Oct 2022"
      ],
      "metadata": {
        "id": "rJWQcOFy24IG"
      },
      "execution_count": null,
      "outputs": []
    },
    {
      "cell_type": "code",
      "source": [
        "2022 - 1990"
      ],
      "metadata": {
        "colab": {
          "base_uri": "https://localhost:8080/"
        },
        "id": "IkxQMWuJ24LC",
        "outputId": "eff425d3-ce03-4c4f-d449-795b39f905b1"
      },
      "execution_count": null,
      "outputs": [
        {
          "output_type": "execute_result",
          "data": {
            "text/plain": [
              "32"
            ]
          },
          "metadata": {},
          "execution_count": 378
        }
      ]
    },
    {
      "cell_type": "code",
      "source": [
        "31"
      ],
      "metadata": {
        "id": "3ZaQexi724Nj",
        "colab": {
          "base_uri": "https://localhost:8080/"
        },
        "outputId": "22c11acf-3259-4931-9f70-04a311980923"
      },
      "execution_count": null,
      "outputs": [
        {
          "output_type": "execute_result",
          "data": {
            "text/plain": [
              "31"
            ]
          },
          "metadata": {},
          "execution_count": 379
        }
      ]
    },
    {
      "cell_type": "code",
      "source": [
        "df['Age'] = df.DOB.apply(lambda x:age(x))"
      ],
      "metadata": {
        "id": "SMGiaS5M24Ry"
      },
      "execution_count": null,
      "outputs": []
    },
    {
      "cell_type": "code",
      "source": [
        "df.head(1)"
      ],
      "metadata": {
        "colab": {
          "base_uri": "https://localhost:8080/",
          "height": 209
        },
        "id": "ZLzE1x6o24UY",
        "outputId": "785c0f57-c874-45f7-b2b2-9aa3cbd8b31c"
      },
      "execution_count": null,
      "outputs": [
        {
          "output_type": "execute_result",
          "data": {
            "text/plain": [
              "  Gender        DOB  10percentage 10board  12graduation  12percentage 12board  \\\n",
              "0      f 1990-10-22          87.8    cbse          2009          84.0    cbse   \n",
              "\n",
              "   CollegeTier       Degree                           Specialization  ...  \\\n",
              "0            1  B.Tech/B.E.  instrumentation and control engineering  ...   \n",
              "\n",
              "   ElectricalEngg  TelecomEngg  CivilEngg  conscientiousness  agreeableness  \\\n",
              "0              -1           -1         -1             -0.159         0.3789   \n",
              "\n",
              "   extraversion  nueroticism  openess_to_experience  Salary  Age  \n",
              "0        1.2396       0.1459                 0.2889  445000   32  \n",
              "\n",
              "[1 rows x 30 columns]"
            ],
            "text/html": [
              "\n",
              "  <div id=\"df-fc99333b-2bcc-46fa-9d34-621c5797a794\">\n",
              "    <div class=\"colab-df-container\">\n",
              "      <div>\n",
              "<style scoped>\n",
              "    .dataframe tbody tr th:only-of-type {\n",
              "        vertical-align: middle;\n",
              "    }\n",
              "\n",
              "    .dataframe tbody tr th {\n",
              "        vertical-align: top;\n",
              "    }\n",
              "\n",
              "    .dataframe thead th {\n",
              "        text-align: right;\n",
              "    }\n",
              "</style>\n",
              "<table border=\"1\" class=\"dataframe\">\n",
              "  <thead>\n",
              "    <tr style=\"text-align: right;\">\n",
              "      <th></th>\n",
              "      <th>Gender</th>\n",
              "      <th>DOB</th>\n",
              "      <th>10percentage</th>\n",
              "      <th>10board</th>\n",
              "      <th>12graduation</th>\n",
              "      <th>12percentage</th>\n",
              "      <th>12board</th>\n",
              "      <th>CollegeTier</th>\n",
              "      <th>Degree</th>\n",
              "      <th>Specialization</th>\n",
              "      <th>...</th>\n",
              "      <th>ElectricalEngg</th>\n",
              "      <th>TelecomEngg</th>\n",
              "      <th>CivilEngg</th>\n",
              "      <th>conscientiousness</th>\n",
              "      <th>agreeableness</th>\n",
              "      <th>extraversion</th>\n",
              "      <th>nueroticism</th>\n",
              "      <th>openess_to_experience</th>\n",
              "      <th>Salary</th>\n",
              "      <th>Age</th>\n",
              "    </tr>\n",
              "  </thead>\n",
              "  <tbody>\n",
              "    <tr>\n",
              "      <th>0</th>\n",
              "      <td>f</td>\n",
              "      <td>1990-10-22</td>\n",
              "      <td>87.8</td>\n",
              "      <td>cbse</td>\n",
              "      <td>2009</td>\n",
              "      <td>84.0</td>\n",
              "      <td>cbse</td>\n",
              "      <td>1</td>\n",
              "      <td>B.Tech/B.E.</td>\n",
              "      <td>instrumentation and control engineering</td>\n",
              "      <td>...</td>\n",
              "      <td>-1</td>\n",
              "      <td>-1</td>\n",
              "      <td>-1</td>\n",
              "      <td>-0.159</td>\n",
              "      <td>0.3789</td>\n",
              "      <td>1.2396</td>\n",
              "      <td>0.1459</td>\n",
              "      <td>0.2889</td>\n",
              "      <td>445000</td>\n",
              "      <td>32</td>\n",
              "    </tr>\n",
              "  </tbody>\n",
              "</table>\n",
              "<p>1 rows × 30 columns</p>\n",
              "</div>\n",
              "      <button class=\"colab-df-convert\" onclick=\"convertToInteractive('df-fc99333b-2bcc-46fa-9d34-621c5797a794')\"\n",
              "              title=\"Convert this dataframe to an interactive table.\"\n",
              "              style=\"display:none;\">\n",
              "        \n",
              "  <svg xmlns=\"http://www.w3.org/2000/svg\" height=\"24px\"viewBox=\"0 0 24 24\"\n",
              "       width=\"24px\">\n",
              "    <path d=\"M0 0h24v24H0V0z\" fill=\"none\"/>\n",
              "    <path d=\"M18.56 5.44l.94 2.06.94-2.06 2.06-.94-2.06-.94-.94-2.06-.94 2.06-2.06.94zm-11 1L8.5 8.5l.94-2.06 2.06-.94-2.06-.94L8.5 2.5l-.94 2.06-2.06.94zm10 10l.94 2.06.94-2.06 2.06-.94-2.06-.94-.94-2.06-.94 2.06-2.06.94z\"/><path d=\"M17.41 7.96l-1.37-1.37c-.4-.4-.92-.59-1.43-.59-.52 0-1.04.2-1.43.59L10.3 9.45l-7.72 7.72c-.78.78-.78 2.05 0 2.83L4 21.41c.39.39.9.59 1.41.59.51 0 1.02-.2 1.41-.59l7.78-7.78 2.81-2.81c.8-.78.8-2.07 0-2.86zM5.41 20L4 18.59l7.72-7.72 1.47 1.35L5.41 20z\"/>\n",
              "  </svg>\n",
              "      </button>\n",
              "      \n",
              "  <style>\n",
              "    .colab-df-container {\n",
              "      display:flex;\n",
              "      flex-wrap:wrap;\n",
              "      gap: 12px;\n",
              "    }\n",
              "\n",
              "    .colab-df-convert {\n",
              "      background-color: #E8F0FE;\n",
              "      border: none;\n",
              "      border-radius: 50%;\n",
              "      cursor: pointer;\n",
              "      display: none;\n",
              "      fill: #1967D2;\n",
              "      height: 32px;\n",
              "      padding: 0 0 0 0;\n",
              "      width: 32px;\n",
              "    }\n",
              "\n",
              "    .colab-df-convert:hover {\n",
              "      background-color: #E2EBFA;\n",
              "      box-shadow: 0px 1px 2px rgba(60, 64, 67, 0.3), 0px 1px 3px 1px rgba(60, 64, 67, 0.15);\n",
              "      fill: #174EA6;\n",
              "    }\n",
              "\n",
              "    [theme=dark] .colab-df-convert {\n",
              "      background-color: #3B4455;\n",
              "      fill: #D2E3FC;\n",
              "    }\n",
              "\n",
              "    [theme=dark] .colab-df-convert:hover {\n",
              "      background-color: #434B5C;\n",
              "      box-shadow: 0px 1px 3px 1px rgba(0, 0, 0, 0.15);\n",
              "      filter: drop-shadow(0px 1px 2px rgba(0, 0, 0, 0.3));\n",
              "      fill: #FFFFFF;\n",
              "    }\n",
              "  </style>\n",
              "\n",
              "      <script>\n",
              "        const buttonEl =\n",
              "          document.querySelector('#df-fc99333b-2bcc-46fa-9d34-621c5797a794 button.colab-df-convert');\n",
              "        buttonEl.style.display =\n",
              "          google.colab.kernel.accessAllowed ? 'block' : 'none';\n",
              "\n",
              "        async function convertToInteractive(key) {\n",
              "          const element = document.querySelector('#df-fc99333b-2bcc-46fa-9d34-621c5797a794');\n",
              "          const dataTable =\n",
              "            await google.colab.kernel.invokeFunction('convertToInteractive',\n",
              "                                                     [key], {});\n",
              "          if (!dataTable) return;\n",
              "\n",
              "          const docLinkHtml = 'Like what you see? Visit the ' +\n",
              "            '<a target=\"_blank\" href=https://colab.research.google.com/notebooks/data_table.ipynb>data table notebook</a>'\n",
              "            + ' to learn more about interactive tables.';\n",
              "          element.innerHTML = '';\n",
              "          dataTable['output_type'] = 'display_data';\n",
              "          await google.colab.output.renderOutput(dataTable, element);\n",
              "          const docLink = document.createElement('div');\n",
              "          docLink.innerHTML = docLinkHtml;\n",
              "          element.appendChild(docLink);\n",
              "        }\n",
              "      </script>\n",
              "    </div>\n",
              "  </div>\n",
              "  "
            ]
          },
          "metadata": {},
          "execution_count": 381
        }
      ]
    },
    {
      "cell_type": "code",
      "source": [
        "df.drop('DOB', axis=1, inplace=True)"
      ],
      "metadata": {
        "id": "sUM94Ecc24Wx"
      },
      "execution_count": null,
      "outputs": []
    },
    {
      "cell_type": "code",
      "source": [
        "df.head(1)"
      ],
      "metadata": {
        "colab": {
          "base_uri": "https://localhost:8080/",
          "height": 209
        },
        "id": "7-NJ_7bu24ZZ",
        "outputId": "668f692a-5ea6-4764-991f-86264c76a94d"
      },
      "execution_count": null,
      "outputs": [
        {
          "output_type": "execute_result",
          "data": {
            "text/plain": [
              "  Gender  10percentage 10board  12graduation  12percentage 12board  \\\n",
              "0      f          87.8    cbse          2009          84.0    cbse   \n",
              "\n",
              "   CollegeTier       Degree                           Specialization  \\\n",
              "0            1  B.Tech/B.E.  instrumentation and control engineering   \n",
              "\n",
              "   collegeGPA  ...  ElectricalEngg  TelecomEngg  CivilEngg  conscientiousness  \\\n",
              "0       73.82  ...              -1           -1         -1             -0.159   \n",
              "\n",
              "   agreeableness  extraversion  nueroticism  openess_to_experience  Salary  \\\n",
              "0         0.3789        1.2396       0.1459                 0.2889  445000   \n",
              "\n",
              "   Age  \n",
              "0   32  \n",
              "\n",
              "[1 rows x 29 columns]"
            ],
            "text/html": [
              "\n",
              "  <div id=\"df-7b2998ec-714e-4457-a12e-741fc5419a0a\">\n",
              "    <div class=\"colab-df-container\">\n",
              "      <div>\n",
              "<style scoped>\n",
              "    .dataframe tbody tr th:only-of-type {\n",
              "        vertical-align: middle;\n",
              "    }\n",
              "\n",
              "    .dataframe tbody tr th {\n",
              "        vertical-align: top;\n",
              "    }\n",
              "\n",
              "    .dataframe thead th {\n",
              "        text-align: right;\n",
              "    }\n",
              "</style>\n",
              "<table border=\"1\" class=\"dataframe\">\n",
              "  <thead>\n",
              "    <tr style=\"text-align: right;\">\n",
              "      <th></th>\n",
              "      <th>Gender</th>\n",
              "      <th>10percentage</th>\n",
              "      <th>10board</th>\n",
              "      <th>12graduation</th>\n",
              "      <th>12percentage</th>\n",
              "      <th>12board</th>\n",
              "      <th>CollegeTier</th>\n",
              "      <th>Degree</th>\n",
              "      <th>Specialization</th>\n",
              "      <th>collegeGPA</th>\n",
              "      <th>...</th>\n",
              "      <th>ElectricalEngg</th>\n",
              "      <th>TelecomEngg</th>\n",
              "      <th>CivilEngg</th>\n",
              "      <th>conscientiousness</th>\n",
              "      <th>agreeableness</th>\n",
              "      <th>extraversion</th>\n",
              "      <th>nueroticism</th>\n",
              "      <th>openess_to_experience</th>\n",
              "      <th>Salary</th>\n",
              "      <th>Age</th>\n",
              "    </tr>\n",
              "  </thead>\n",
              "  <tbody>\n",
              "    <tr>\n",
              "      <th>0</th>\n",
              "      <td>f</td>\n",
              "      <td>87.8</td>\n",
              "      <td>cbse</td>\n",
              "      <td>2009</td>\n",
              "      <td>84.0</td>\n",
              "      <td>cbse</td>\n",
              "      <td>1</td>\n",
              "      <td>B.Tech/B.E.</td>\n",
              "      <td>instrumentation and control engineering</td>\n",
              "      <td>73.82</td>\n",
              "      <td>...</td>\n",
              "      <td>-1</td>\n",
              "      <td>-1</td>\n",
              "      <td>-1</td>\n",
              "      <td>-0.159</td>\n",
              "      <td>0.3789</td>\n",
              "      <td>1.2396</td>\n",
              "      <td>0.1459</td>\n",
              "      <td>0.2889</td>\n",
              "      <td>445000</td>\n",
              "      <td>32</td>\n",
              "    </tr>\n",
              "  </tbody>\n",
              "</table>\n",
              "<p>1 rows × 29 columns</p>\n",
              "</div>\n",
              "      <button class=\"colab-df-convert\" onclick=\"convertToInteractive('df-7b2998ec-714e-4457-a12e-741fc5419a0a')\"\n",
              "              title=\"Convert this dataframe to an interactive table.\"\n",
              "              style=\"display:none;\">\n",
              "        \n",
              "  <svg xmlns=\"http://www.w3.org/2000/svg\" height=\"24px\"viewBox=\"0 0 24 24\"\n",
              "       width=\"24px\">\n",
              "    <path d=\"M0 0h24v24H0V0z\" fill=\"none\"/>\n",
              "    <path d=\"M18.56 5.44l.94 2.06.94-2.06 2.06-.94-2.06-.94-.94-2.06-.94 2.06-2.06.94zm-11 1L8.5 8.5l.94-2.06 2.06-.94-2.06-.94L8.5 2.5l-.94 2.06-2.06.94zm10 10l.94 2.06.94-2.06 2.06-.94-2.06-.94-.94-2.06-.94 2.06-2.06.94z\"/><path d=\"M17.41 7.96l-1.37-1.37c-.4-.4-.92-.59-1.43-.59-.52 0-1.04.2-1.43.59L10.3 9.45l-7.72 7.72c-.78.78-.78 2.05 0 2.83L4 21.41c.39.39.9.59 1.41.59.51 0 1.02-.2 1.41-.59l7.78-7.78 2.81-2.81c.8-.78.8-2.07 0-2.86zM5.41 20L4 18.59l7.72-7.72 1.47 1.35L5.41 20z\"/>\n",
              "  </svg>\n",
              "      </button>\n",
              "      \n",
              "  <style>\n",
              "    .colab-df-container {\n",
              "      display:flex;\n",
              "      flex-wrap:wrap;\n",
              "      gap: 12px;\n",
              "    }\n",
              "\n",
              "    .colab-df-convert {\n",
              "      background-color: #E8F0FE;\n",
              "      border: none;\n",
              "      border-radius: 50%;\n",
              "      cursor: pointer;\n",
              "      display: none;\n",
              "      fill: #1967D2;\n",
              "      height: 32px;\n",
              "      padding: 0 0 0 0;\n",
              "      width: 32px;\n",
              "    }\n",
              "\n",
              "    .colab-df-convert:hover {\n",
              "      background-color: #E2EBFA;\n",
              "      box-shadow: 0px 1px 2px rgba(60, 64, 67, 0.3), 0px 1px 3px 1px rgba(60, 64, 67, 0.15);\n",
              "      fill: #174EA6;\n",
              "    }\n",
              "\n",
              "    [theme=dark] .colab-df-convert {\n",
              "      background-color: #3B4455;\n",
              "      fill: #D2E3FC;\n",
              "    }\n",
              "\n",
              "    [theme=dark] .colab-df-convert:hover {\n",
              "      background-color: #434B5C;\n",
              "      box-shadow: 0px 1px 3px 1px rgba(0, 0, 0, 0.15);\n",
              "      filter: drop-shadow(0px 1px 2px rgba(0, 0, 0, 0.3));\n",
              "      fill: #FFFFFF;\n",
              "    }\n",
              "  </style>\n",
              "\n",
              "      <script>\n",
              "        const buttonEl =\n",
              "          document.querySelector('#df-7b2998ec-714e-4457-a12e-741fc5419a0a button.colab-df-convert');\n",
              "        buttonEl.style.display =\n",
              "          google.colab.kernel.accessAllowed ? 'block' : 'none';\n",
              "\n",
              "        async function convertToInteractive(key) {\n",
              "          const element = document.querySelector('#df-7b2998ec-714e-4457-a12e-741fc5419a0a');\n",
              "          const dataTable =\n",
              "            await google.colab.kernel.invokeFunction('convertToInteractive',\n",
              "                                                     [key], {});\n",
              "          if (!dataTable) return;\n",
              "\n",
              "          const docLinkHtml = 'Like what you see? Visit the ' +\n",
              "            '<a target=\"_blank\" href=https://colab.research.google.com/notebooks/data_table.ipynb>data table notebook</a>'\n",
              "            + ' to learn more about interactive tables.';\n",
              "          element.innerHTML = '';\n",
              "          dataTable['output_type'] = 'display_data';\n",
              "          await google.colab.output.renderOutput(dataTable, element);\n",
              "          const docLink = document.createElement('div');\n",
              "          docLink.innerHTML = docLinkHtml;\n",
              "          element.appendChild(docLink);\n",
              "        }\n",
              "      </script>\n",
              "    </div>\n",
              "  </div>\n",
              "  "
            ]
          },
          "metadata": {},
          "execution_count": 383
        }
      ]
    },
    {
      "cell_type": "code",
      "source": [
        "Age = df.pop('Age')"
      ],
      "metadata": {
        "id": "ZcN9_TRL24cO"
      },
      "execution_count": null,
      "outputs": []
    },
    {
      "cell_type": "code",
      "source": [
        "df.insert(1, 'Age', Age)"
      ],
      "metadata": {
        "id": "w2Ech0Yx24ev"
      },
      "execution_count": null,
      "outputs": []
    },
    {
      "cell_type": "code",
      "source": [
        "df.head(1)"
      ],
      "metadata": {
        "colab": {
          "base_uri": "https://localhost:8080/",
          "height": 209
        },
        "id": "kksbs1qN24g7",
        "outputId": "6f0a0333-855a-4b54-fb74-8c4f6dd0d65b"
      },
      "execution_count": null,
      "outputs": [
        {
          "output_type": "execute_result",
          "data": {
            "text/plain": [
              "  Gender  Age  10percentage 10board  12graduation  12percentage 12board  \\\n",
              "0      f   32          87.8    cbse          2009          84.0    cbse   \n",
              "\n",
              "   CollegeTier       Degree                           Specialization  ...  \\\n",
              "0            1  B.Tech/B.E.  instrumentation and control engineering  ...   \n",
              "\n",
              "   MechanicalEngg  ElectricalEngg  TelecomEngg  CivilEngg  conscientiousness  \\\n",
              "0              -1              -1           -1         -1             -0.159   \n",
              "\n",
              "   agreeableness  extraversion  nueroticism  openess_to_experience  Salary  \n",
              "0         0.3789        1.2396       0.1459                 0.2889  445000  \n",
              "\n",
              "[1 rows x 29 columns]"
            ],
            "text/html": [
              "\n",
              "  <div id=\"df-5972d6b5-d1c9-4b4e-b437-1ea9d2153b76\">\n",
              "    <div class=\"colab-df-container\">\n",
              "      <div>\n",
              "<style scoped>\n",
              "    .dataframe tbody tr th:only-of-type {\n",
              "        vertical-align: middle;\n",
              "    }\n",
              "\n",
              "    .dataframe tbody tr th {\n",
              "        vertical-align: top;\n",
              "    }\n",
              "\n",
              "    .dataframe thead th {\n",
              "        text-align: right;\n",
              "    }\n",
              "</style>\n",
              "<table border=\"1\" class=\"dataframe\">\n",
              "  <thead>\n",
              "    <tr style=\"text-align: right;\">\n",
              "      <th></th>\n",
              "      <th>Gender</th>\n",
              "      <th>Age</th>\n",
              "      <th>10percentage</th>\n",
              "      <th>10board</th>\n",
              "      <th>12graduation</th>\n",
              "      <th>12percentage</th>\n",
              "      <th>12board</th>\n",
              "      <th>CollegeTier</th>\n",
              "      <th>Degree</th>\n",
              "      <th>Specialization</th>\n",
              "      <th>...</th>\n",
              "      <th>MechanicalEngg</th>\n",
              "      <th>ElectricalEngg</th>\n",
              "      <th>TelecomEngg</th>\n",
              "      <th>CivilEngg</th>\n",
              "      <th>conscientiousness</th>\n",
              "      <th>agreeableness</th>\n",
              "      <th>extraversion</th>\n",
              "      <th>nueroticism</th>\n",
              "      <th>openess_to_experience</th>\n",
              "      <th>Salary</th>\n",
              "    </tr>\n",
              "  </thead>\n",
              "  <tbody>\n",
              "    <tr>\n",
              "      <th>0</th>\n",
              "      <td>f</td>\n",
              "      <td>32</td>\n",
              "      <td>87.8</td>\n",
              "      <td>cbse</td>\n",
              "      <td>2009</td>\n",
              "      <td>84.0</td>\n",
              "      <td>cbse</td>\n",
              "      <td>1</td>\n",
              "      <td>B.Tech/B.E.</td>\n",
              "      <td>instrumentation and control engineering</td>\n",
              "      <td>...</td>\n",
              "      <td>-1</td>\n",
              "      <td>-1</td>\n",
              "      <td>-1</td>\n",
              "      <td>-1</td>\n",
              "      <td>-0.159</td>\n",
              "      <td>0.3789</td>\n",
              "      <td>1.2396</td>\n",
              "      <td>0.1459</td>\n",
              "      <td>0.2889</td>\n",
              "      <td>445000</td>\n",
              "    </tr>\n",
              "  </tbody>\n",
              "</table>\n",
              "<p>1 rows × 29 columns</p>\n",
              "</div>\n",
              "      <button class=\"colab-df-convert\" onclick=\"convertToInteractive('df-5972d6b5-d1c9-4b4e-b437-1ea9d2153b76')\"\n",
              "              title=\"Convert this dataframe to an interactive table.\"\n",
              "              style=\"display:none;\">\n",
              "        \n",
              "  <svg xmlns=\"http://www.w3.org/2000/svg\" height=\"24px\"viewBox=\"0 0 24 24\"\n",
              "       width=\"24px\">\n",
              "    <path d=\"M0 0h24v24H0V0z\" fill=\"none\"/>\n",
              "    <path d=\"M18.56 5.44l.94 2.06.94-2.06 2.06-.94-2.06-.94-.94-2.06-.94 2.06-2.06.94zm-11 1L8.5 8.5l.94-2.06 2.06-.94-2.06-.94L8.5 2.5l-.94 2.06-2.06.94zm10 10l.94 2.06.94-2.06 2.06-.94-2.06-.94-.94-2.06-.94 2.06-2.06.94z\"/><path d=\"M17.41 7.96l-1.37-1.37c-.4-.4-.92-.59-1.43-.59-.52 0-1.04.2-1.43.59L10.3 9.45l-7.72 7.72c-.78.78-.78 2.05 0 2.83L4 21.41c.39.39.9.59 1.41.59.51 0 1.02-.2 1.41-.59l7.78-7.78 2.81-2.81c.8-.78.8-2.07 0-2.86zM5.41 20L4 18.59l7.72-7.72 1.47 1.35L5.41 20z\"/>\n",
              "  </svg>\n",
              "      </button>\n",
              "      \n",
              "  <style>\n",
              "    .colab-df-container {\n",
              "      display:flex;\n",
              "      flex-wrap:wrap;\n",
              "      gap: 12px;\n",
              "    }\n",
              "\n",
              "    .colab-df-convert {\n",
              "      background-color: #E8F0FE;\n",
              "      border: none;\n",
              "      border-radius: 50%;\n",
              "      cursor: pointer;\n",
              "      display: none;\n",
              "      fill: #1967D2;\n",
              "      height: 32px;\n",
              "      padding: 0 0 0 0;\n",
              "      width: 32px;\n",
              "    }\n",
              "\n",
              "    .colab-df-convert:hover {\n",
              "      background-color: #E2EBFA;\n",
              "      box-shadow: 0px 1px 2px rgba(60, 64, 67, 0.3), 0px 1px 3px 1px rgba(60, 64, 67, 0.15);\n",
              "      fill: #174EA6;\n",
              "    }\n",
              "\n",
              "    [theme=dark] .colab-df-convert {\n",
              "      background-color: #3B4455;\n",
              "      fill: #D2E3FC;\n",
              "    }\n",
              "\n",
              "    [theme=dark] .colab-df-convert:hover {\n",
              "      background-color: #434B5C;\n",
              "      box-shadow: 0px 1px 3px 1px rgba(0, 0, 0, 0.15);\n",
              "      filter: drop-shadow(0px 1px 2px rgba(0, 0, 0, 0.3));\n",
              "      fill: #FFFFFF;\n",
              "    }\n",
              "  </style>\n",
              "\n",
              "      <script>\n",
              "        const buttonEl =\n",
              "          document.querySelector('#df-5972d6b5-d1c9-4b4e-b437-1ea9d2153b76 button.colab-df-convert');\n",
              "        buttonEl.style.display =\n",
              "          google.colab.kernel.accessAllowed ? 'block' : 'none';\n",
              "\n",
              "        async function convertToInteractive(key) {\n",
              "          const element = document.querySelector('#df-5972d6b5-d1c9-4b4e-b437-1ea9d2153b76');\n",
              "          const dataTable =\n",
              "            await google.colab.kernel.invokeFunction('convertToInteractive',\n",
              "                                                     [key], {});\n",
              "          if (!dataTable) return;\n",
              "\n",
              "          const docLinkHtml = 'Like what you see? Visit the ' +\n",
              "            '<a target=\"_blank\" href=https://colab.research.google.com/notebooks/data_table.ipynb>data table notebook</a>'\n",
              "            + ' to learn more about interactive tables.';\n",
              "          element.innerHTML = '';\n",
              "          dataTable['output_type'] = 'display_data';\n",
              "          await google.colab.output.renderOutput(dataTable, element);\n",
              "          const docLink = document.createElement('div');\n",
              "          docLink.innerHTML = docLinkHtml;\n",
              "          element.appendChild(docLink);\n",
              "        }\n",
              "      </script>\n",
              "    </div>\n",
              "  </div>\n",
              "  "
            ]
          },
          "metadata": {},
          "execution_count": 386
        }
      ]
    },
    {
      "cell_type": "code",
      "source": [
        "df.Gender.unique()"
      ],
      "metadata": {
        "colab": {
          "base_uri": "https://localhost:8080/"
        },
        "id": "B9TpFtgm24ji",
        "outputId": "b17fe4fc-9f71-4f1b-8320-2aa9d74cc13e"
      },
      "execution_count": null,
      "outputs": [
        {
          "output_type": "execute_result",
          "data": {
            "text/plain": [
              "array(['f', 'm'], dtype=object)"
            ]
          },
          "metadata": {},
          "execution_count": 387
        }
      ]
    },
    {
      "cell_type": "code",
      "source": [
        "df.Gender.value_counts()"
      ],
      "metadata": {
        "colab": {
          "base_uri": "https://localhost:8080/"
        },
        "id": "s8g2GbtU24mH",
        "outputId": "438d2807-380c-40c5-e236-527c15c93190"
      },
      "execution_count": null,
      "outputs": [
        {
          "output_type": "execute_result",
          "data": {
            "text/plain": [
              "m    2282\n",
              "f     716\n",
              "Name: Gender, dtype: int64"
            ]
          },
          "metadata": {},
          "execution_count": 388
        }
      ]
    },
    {
      "cell_type": "code",
      "source": [
        "enc = LabelEncoder()"
      ],
      "metadata": {
        "id": "STBoMnNo24ot"
      },
      "execution_count": null,
      "outputs": []
    },
    {
      "cell_type": "code",
      "source": [
        "df['Gender'] = enc.fit_transform(df['Gender'])"
      ],
      "metadata": {
        "id": "5ud1ENzE24rc"
      },
      "execution_count": null,
      "outputs": []
    },
    {
      "cell_type": "code",
      "source": [
        "df.Gender.value_counts()"
      ],
      "metadata": {
        "colab": {
          "base_uri": "https://localhost:8080/"
        },
        "id": "4mFh_HX324uL",
        "outputId": "52375fb2-1e57-4b70-f986-fce89d45c6b8"
      },
      "execution_count": null,
      "outputs": [
        {
          "output_type": "execute_result",
          "data": {
            "text/plain": [
              "1    2282\n",
              "0     716\n",
              "Name: Gender, dtype: int64"
            ]
          },
          "metadata": {},
          "execution_count": 391
        }
      ]
    },
    {
      "cell_type": "markdown",
      "source": [
        "m -> 1\n",
        "\n",
        "f -> 0"
      ],
      "metadata": {
        "id": "FUp-jf4yMQYQ"
      }
    },
    {
      "cell_type": "code",
      "source": [
        "df.head(1)"
      ],
      "metadata": {
        "colab": {
          "base_uri": "https://localhost:8080/",
          "height": 209
        },
        "id": "-FtZ-pQs24w5",
        "outputId": "30c28c8d-8693-411a-d901-1828e1871fc1"
      },
      "execution_count": null,
      "outputs": [
        {
          "output_type": "execute_result",
          "data": {
            "text/plain": [
              "   Gender  Age  10percentage 10board  12graduation  12percentage 12board  \\\n",
              "0       0   32          87.8    cbse          2009          84.0    cbse   \n",
              "\n",
              "   CollegeTier       Degree                           Specialization  ...  \\\n",
              "0            1  B.Tech/B.E.  instrumentation and control engineering  ...   \n",
              "\n",
              "   MechanicalEngg  ElectricalEngg  TelecomEngg  CivilEngg  conscientiousness  \\\n",
              "0              -1              -1           -1         -1             -0.159   \n",
              "\n",
              "   agreeableness  extraversion  nueroticism  openess_to_experience  Salary  \n",
              "0         0.3789        1.2396       0.1459                 0.2889  445000  \n",
              "\n",
              "[1 rows x 29 columns]"
            ],
            "text/html": [
              "\n",
              "  <div id=\"df-7ce2af0b-881a-4c5a-8360-ca7b661c5c62\">\n",
              "    <div class=\"colab-df-container\">\n",
              "      <div>\n",
              "<style scoped>\n",
              "    .dataframe tbody tr th:only-of-type {\n",
              "        vertical-align: middle;\n",
              "    }\n",
              "\n",
              "    .dataframe tbody tr th {\n",
              "        vertical-align: top;\n",
              "    }\n",
              "\n",
              "    .dataframe thead th {\n",
              "        text-align: right;\n",
              "    }\n",
              "</style>\n",
              "<table border=\"1\" class=\"dataframe\">\n",
              "  <thead>\n",
              "    <tr style=\"text-align: right;\">\n",
              "      <th></th>\n",
              "      <th>Gender</th>\n",
              "      <th>Age</th>\n",
              "      <th>10percentage</th>\n",
              "      <th>10board</th>\n",
              "      <th>12graduation</th>\n",
              "      <th>12percentage</th>\n",
              "      <th>12board</th>\n",
              "      <th>CollegeTier</th>\n",
              "      <th>Degree</th>\n",
              "      <th>Specialization</th>\n",
              "      <th>...</th>\n",
              "      <th>MechanicalEngg</th>\n",
              "      <th>ElectricalEngg</th>\n",
              "      <th>TelecomEngg</th>\n",
              "      <th>CivilEngg</th>\n",
              "      <th>conscientiousness</th>\n",
              "      <th>agreeableness</th>\n",
              "      <th>extraversion</th>\n",
              "      <th>nueroticism</th>\n",
              "      <th>openess_to_experience</th>\n",
              "      <th>Salary</th>\n",
              "    </tr>\n",
              "  </thead>\n",
              "  <tbody>\n",
              "    <tr>\n",
              "      <th>0</th>\n",
              "      <td>0</td>\n",
              "      <td>32</td>\n",
              "      <td>87.8</td>\n",
              "      <td>cbse</td>\n",
              "      <td>2009</td>\n",
              "      <td>84.0</td>\n",
              "      <td>cbse</td>\n",
              "      <td>1</td>\n",
              "      <td>B.Tech/B.E.</td>\n",
              "      <td>instrumentation and control engineering</td>\n",
              "      <td>...</td>\n",
              "      <td>-1</td>\n",
              "      <td>-1</td>\n",
              "      <td>-1</td>\n",
              "      <td>-1</td>\n",
              "      <td>-0.159</td>\n",
              "      <td>0.3789</td>\n",
              "      <td>1.2396</td>\n",
              "      <td>0.1459</td>\n",
              "      <td>0.2889</td>\n",
              "      <td>445000</td>\n",
              "    </tr>\n",
              "  </tbody>\n",
              "</table>\n",
              "<p>1 rows × 29 columns</p>\n",
              "</div>\n",
              "      <button class=\"colab-df-convert\" onclick=\"convertToInteractive('df-7ce2af0b-881a-4c5a-8360-ca7b661c5c62')\"\n",
              "              title=\"Convert this dataframe to an interactive table.\"\n",
              "              style=\"display:none;\">\n",
              "        \n",
              "  <svg xmlns=\"http://www.w3.org/2000/svg\" height=\"24px\"viewBox=\"0 0 24 24\"\n",
              "       width=\"24px\">\n",
              "    <path d=\"M0 0h24v24H0V0z\" fill=\"none\"/>\n",
              "    <path d=\"M18.56 5.44l.94 2.06.94-2.06 2.06-.94-2.06-.94-.94-2.06-.94 2.06-2.06.94zm-11 1L8.5 8.5l.94-2.06 2.06-.94-2.06-.94L8.5 2.5l-.94 2.06-2.06.94zm10 10l.94 2.06.94-2.06 2.06-.94-2.06-.94-.94-2.06-.94 2.06-2.06.94z\"/><path d=\"M17.41 7.96l-1.37-1.37c-.4-.4-.92-.59-1.43-.59-.52 0-1.04.2-1.43.59L10.3 9.45l-7.72 7.72c-.78.78-.78 2.05 0 2.83L4 21.41c.39.39.9.59 1.41.59.51 0 1.02-.2 1.41-.59l7.78-7.78 2.81-2.81c.8-.78.8-2.07 0-2.86zM5.41 20L4 18.59l7.72-7.72 1.47 1.35L5.41 20z\"/>\n",
              "  </svg>\n",
              "      </button>\n",
              "      \n",
              "  <style>\n",
              "    .colab-df-container {\n",
              "      display:flex;\n",
              "      flex-wrap:wrap;\n",
              "      gap: 12px;\n",
              "    }\n",
              "\n",
              "    .colab-df-convert {\n",
              "      background-color: #E8F0FE;\n",
              "      border: none;\n",
              "      border-radius: 50%;\n",
              "      cursor: pointer;\n",
              "      display: none;\n",
              "      fill: #1967D2;\n",
              "      height: 32px;\n",
              "      padding: 0 0 0 0;\n",
              "      width: 32px;\n",
              "    }\n",
              "\n",
              "    .colab-df-convert:hover {\n",
              "      background-color: #E2EBFA;\n",
              "      box-shadow: 0px 1px 2px rgba(60, 64, 67, 0.3), 0px 1px 3px 1px rgba(60, 64, 67, 0.15);\n",
              "      fill: #174EA6;\n",
              "    }\n",
              "\n",
              "    [theme=dark] .colab-df-convert {\n",
              "      background-color: #3B4455;\n",
              "      fill: #D2E3FC;\n",
              "    }\n",
              "\n",
              "    [theme=dark] .colab-df-convert:hover {\n",
              "      background-color: #434B5C;\n",
              "      box-shadow: 0px 1px 3px 1px rgba(0, 0, 0, 0.15);\n",
              "      filter: drop-shadow(0px 1px 2px rgba(0, 0, 0, 0.3));\n",
              "      fill: #FFFFFF;\n",
              "    }\n",
              "  </style>\n",
              "\n",
              "      <script>\n",
              "        const buttonEl =\n",
              "          document.querySelector('#df-7ce2af0b-881a-4c5a-8360-ca7b661c5c62 button.colab-df-convert');\n",
              "        buttonEl.style.display =\n",
              "          google.colab.kernel.accessAllowed ? 'block' : 'none';\n",
              "\n",
              "        async function convertToInteractive(key) {\n",
              "          const element = document.querySelector('#df-7ce2af0b-881a-4c5a-8360-ca7b661c5c62');\n",
              "          const dataTable =\n",
              "            await google.colab.kernel.invokeFunction('convertToInteractive',\n",
              "                                                     [key], {});\n",
              "          if (!dataTable) return;\n",
              "\n",
              "          const docLinkHtml = 'Like what you see? Visit the ' +\n",
              "            '<a target=\"_blank\" href=https://colab.research.google.com/notebooks/data_table.ipynb>data table notebook</a>'\n",
              "            + ' to learn more about interactive tables.';\n",
              "          element.innerHTML = '';\n",
              "          dataTable['output_type'] = 'display_data';\n",
              "          await google.colab.output.renderOutput(dataTable, element);\n",
              "          const docLink = document.createElement('div');\n",
              "          docLink.innerHTML = docLinkHtml;\n",
              "          element.appendChild(docLink);\n",
              "        }\n",
              "      </script>\n",
              "    </div>\n",
              "  </div>\n",
              "  "
            ]
          },
          "metadata": {},
          "execution_count": 392
        }
      ]
    },
    {
      "cell_type": "code",
      "source": [
        "df[df['10percentage']==0]"
      ],
      "metadata": {
        "colab": {
          "base_uri": "https://localhost:8080/",
          "height": 143
        },
        "id": "Cr68rbvV24zq",
        "outputId": "d52ddfa0-f997-4c38-ac26-69e3178abd50"
      },
      "execution_count": null,
      "outputs": [
        {
          "output_type": "execute_result",
          "data": {
            "text/plain": [
              "Empty DataFrame\n",
              "Columns: [Gender, Age, 10percentage, 10board, 12graduation, 12percentage, 12board, CollegeTier, Degree, Specialization, collegeGPA, GraduationYear, English, Logical, Quant, Domain, ComputerProgramming, ElectronicsAndSemicon, ComputerScience, MechanicalEngg, ElectricalEngg, TelecomEngg, CivilEngg, conscientiousness, agreeableness, extraversion, nueroticism, openess_to_experience, Salary]\n",
              "Index: []\n",
              "\n",
              "[0 rows x 29 columns]"
            ],
            "text/html": [
              "\n",
              "  <div id=\"df-6a5d2b17-f52e-4fef-8694-b8d0410e233e\">\n",
              "    <div class=\"colab-df-container\">\n",
              "      <div>\n",
              "<style scoped>\n",
              "    .dataframe tbody tr th:only-of-type {\n",
              "        vertical-align: middle;\n",
              "    }\n",
              "\n",
              "    .dataframe tbody tr th {\n",
              "        vertical-align: top;\n",
              "    }\n",
              "\n",
              "    .dataframe thead th {\n",
              "        text-align: right;\n",
              "    }\n",
              "</style>\n",
              "<table border=\"1\" class=\"dataframe\">\n",
              "  <thead>\n",
              "    <tr style=\"text-align: right;\">\n",
              "      <th></th>\n",
              "      <th>Gender</th>\n",
              "      <th>Age</th>\n",
              "      <th>10percentage</th>\n",
              "      <th>10board</th>\n",
              "      <th>12graduation</th>\n",
              "      <th>12percentage</th>\n",
              "      <th>12board</th>\n",
              "      <th>CollegeTier</th>\n",
              "      <th>Degree</th>\n",
              "      <th>Specialization</th>\n",
              "      <th>...</th>\n",
              "      <th>MechanicalEngg</th>\n",
              "      <th>ElectricalEngg</th>\n",
              "      <th>TelecomEngg</th>\n",
              "      <th>CivilEngg</th>\n",
              "      <th>conscientiousness</th>\n",
              "      <th>agreeableness</th>\n",
              "      <th>extraversion</th>\n",
              "      <th>nueroticism</th>\n",
              "      <th>openess_to_experience</th>\n",
              "      <th>Salary</th>\n",
              "    </tr>\n",
              "  </thead>\n",
              "  <tbody>\n",
              "  </tbody>\n",
              "</table>\n",
              "<p>0 rows × 29 columns</p>\n",
              "</div>\n",
              "      <button class=\"colab-df-convert\" onclick=\"convertToInteractive('df-6a5d2b17-f52e-4fef-8694-b8d0410e233e')\"\n",
              "              title=\"Convert this dataframe to an interactive table.\"\n",
              "              style=\"display:none;\">\n",
              "        \n",
              "  <svg xmlns=\"http://www.w3.org/2000/svg\" height=\"24px\"viewBox=\"0 0 24 24\"\n",
              "       width=\"24px\">\n",
              "    <path d=\"M0 0h24v24H0V0z\" fill=\"none\"/>\n",
              "    <path d=\"M18.56 5.44l.94 2.06.94-2.06 2.06-.94-2.06-.94-.94-2.06-.94 2.06-2.06.94zm-11 1L8.5 8.5l.94-2.06 2.06-.94-2.06-.94L8.5 2.5l-.94 2.06-2.06.94zm10 10l.94 2.06.94-2.06 2.06-.94-2.06-.94-.94-2.06-.94 2.06-2.06.94z\"/><path d=\"M17.41 7.96l-1.37-1.37c-.4-.4-.92-.59-1.43-.59-.52 0-1.04.2-1.43.59L10.3 9.45l-7.72 7.72c-.78.78-.78 2.05 0 2.83L4 21.41c.39.39.9.59 1.41.59.51 0 1.02-.2 1.41-.59l7.78-7.78 2.81-2.81c.8-.78.8-2.07 0-2.86zM5.41 20L4 18.59l7.72-7.72 1.47 1.35L5.41 20z\"/>\n",
              "  </svg>\n",
              "      </button>\n",
              "      \n",
              "  <style>\n",
              "    .colab-df-container {\n",
              "      display:flex;\n",
              "      flex-wrap:wrap;\n",
              "      gap: 12px;\n",
              "    }\n",
              "\n",
              "    .colab-df-convert {\n",
              "      background-color: #E8F0FE;\n",
              "      border: none;\n",
              "      border-radius: 50%;\n",
              "      cursor: pointer;\n",
              "      display: none;\n",
              "      fill: #1967D2;\n",
              "      height: 32px;\n",
              "      padding: 0 0 0 0;\n",
              "      width: 32px;\n",
              "    }\n",
              "\n",
              "    .colab-df-convert:hover {\n",
              "      background-color: #E2EBFA;\n",
              "      box-shadow: 0px 1px 2px rgba(60, 64, 67, 0.3), 0px 1px 3px 1px rgba(60, 64, 67, 0.15);\n",
              "      fill: #174EA6;\n",
              "    }\n",
              "\n",
              "    [theme=dark] .colab-df-convert {\n",
              "      background-color: #3B4455;\n",
              "      fill: #D2E3FC;\n",
              "    }\n",
              "\n",
              "    [theme=dark] .colab-df-convert:hover {\n",
              "      background-color: #434B5C;\n",
              "      box-shadow: 0px 1px 3px 1px rgba(0, 0, 0, 0.15);\n",
              "      filter: drop-shadow(0px 1px 2px rgba(0, 0, 0, 0.3));\n",
              "      fill: #FFFFFF;\n",
              "    }\n",
              "  </style>\n",
              "\n",
              "      <script>\n",
              "        const buttonEl =\n",
              "          document.querySelector('#df-6a5d2b17-f52e-4fef-8694-b8d0410e233e button.colab-df-convert');\n",
              "        buttonEl.style.display =\n",
              "          google.colab.kernel.accessAllowed ? 'block' : 'none';\n",
              "\n",
              "        async function convertToInteractive(key) {\n",
              "          const element = document.querySelector('#df-6a5d2b17-f52e-4fef-8694-b8d0410e233e');\n",
              "          const dataTable =\n",
              "            await google.colab.kernel.invokeFunction('convertToInteractive',\n",
              "                                                     [key], {});\n",
              "          if (!dataTable) return;\n",
              "\n",
              "          const docLinkHtml = 'Like what you see? Visit the ' +\n",
              "            '<a target=\"_blank\" href=https://colab.research.google.com/notebooks/data_table.ipynb>data table notebook</a>'\n",
              "            + ' to learn more about interactive tables.';\n",
              "          element.innerHTML = '';\n",
              "          dataTable['output_type'] = 'display_data';\n",
              "          await google.colab.output.renderOutput(dataTable, element);\n",
              "          const docLink = document.createElement('div');\n",
              "          docLink.innerHTML = docLinkHtml;\n",
              "          element.appendChild(docLink);\n",
              "        }\n",
              "      </script>\n",
              "    </div>\n",
              "  </div>\n",
              "  "
            ]
          },
          "metadata": {},
          "execution_count": 393
        }
      ]
    },
    {
      "cell_type": "code",
      "source": [
        "df['10board'].unique()"
      ],
      "metadata": {
        "colab": {
          "base_uri": "https://localhost:8080/"
        },
        "id": "gjRoj41H242V",
        "outputId": "93e1f344-f946-4855-b241-23999e91d231"
      },
      "execution_count": null,
      "outputs": [
        {
          "output_type": "execute_result",
          "data": {
            "text/plain": [
              "array(['cbse', 'maharashtra state board,pune', 'icse', 'state board',\n",
              "       'delhi board', '0', 'hse', 'board of school education harayana',\n",
              "       'rbse', 'u p board', 'bse, odisha',\n",
              "       'rajasthan board of secondary education', 'up board',\n",
              "       'council for indian school certificate examination', 'kea',\n",
              "       'uttar pradesh', 'board of secondary education,andhara pradesh',\n",
              "       'wbbse', 'matriculation board',\n",
              "       'board of secondary education - andhra pradesh', 'mp', 'up',\n",
              "       'karnataka', 'ssc', 'kseeb', 'bse', 'gseb', 'uttar pradesh board',\n",
              "       'matriculation', 'karnataka secondary education board',\n",
              "       'maharastra board', 'tn state board',\n",
              "       'board of secondary education', 'sslc',\n",
              "       'board secondary  education',\n",
              "       'karnataka secondary school of examination', 'metric',\n",
              "       'maharashtra state board', 'maharashtra sate board', 'matric',\n",
              "       'hbse', 'state', 'state boardmp board ',\n",
              "       'karnataka board of higher education', 'hsce',\n",
              "       'nagpur divisional board', 'bihar board', 'jkbose',\n",
              "       'secondary state certificate', 'secondary school of education',\n",
              "       'kseb', 'mpboard', 'cbse board', 'up bourd',\n",
              "       'j&k state board of school education',\n",
              "       'board of secondary education,andhra pradesh',\n",
              "       'kerala state board', 'hsc', 'rajasthan board', 'pune',\n",
              "       'karnataka state board', 'upboard', 'gujarat state board',\n",
              "       'state board - west bengal board of secondary education : wbbse',\n",
              "       'karnataka secondary education examination board', 'bseb', 'cgbse',\n",
              "       'uttarakhand board',\n",
              "       'sri kannika parameswari highier secondary school, udumalpet',\n",
              "       'maharashtra satate board', 'kerala state technical education',\n",
              "       'karnataka education board (keeb)', 'ssc regular',\n",
              "       'board of secondary education, andhra pradesh',\n",
              "       'state board (jac, ranchi)', 'gyan bharati school', 'anglo indian',\n",
              "       'west bengal board of secondary education',\n",
              "       'central board of secondary education', 'up baord', 'pseb',\n",
              "       'maharashtra state board of secondary and higher secondary education,pune',\n",
              "       'karnataka state secondary education board',\n",
              "       'karnataka secondary education', 'madhya pradesh board',\n",
              "       'board of ssc education andhra pradesh', 'stateboard',\n",
              "       'board of secondary education, rajasthan', 'ksseb', 'cbsc',\n",
              "       'bharathi matriculation school', 'uttrakhand board', 'nagpur',\n",
              "       'board of secondary education (bse) orissa', 'bseb, patna',\n",
              "       'mpbse', 'kalaimagal matriculation higher secondary school',\n",
              "       'tamilnadu matriculation board', 'karnataka board',\n",
              "       'delhi public school', 'secondary board of rajasthan', 'jseb',\n",
              "       'up(allahabad)', 'bse,orissa', 'rbse (state board)',\n",
              "       'ssc maharashtra board', 'up board,allahabad', 'mp board',\n",
              "       'board of secendary education orissa',\n",
              "       'bihar school examination board', 'apssc', 'up board , allahabad',\n",
              "       'mirza ahmed ali baig', 'maharashtra board', 'aurangabad board',\n",
              "       'jharkhand secondary board', 'kiran english medium high school',\n",
              "       'state board of secondary education, andhra pradesh',\n",
              "       'maharashtra state board for ssc', 'sarada high scchool',\n",
              "       'pune board', 'uttaranchal state board', 'uttranchal board',\n",
              "       'ap state board', 'stjosephs girls higher sec school,dindigul',\n",
              "       'nagpur board', 'aisse', 'mp board bhopal',\n",
              "       'maharashtra state board of secondary and higher secondary education',\n",
              "       'west bengal  board of secondary education', 'hbsc', 'state bord',\n",
              "       'central board of secondary education, new delhi',\n",
              "       'kseeb(karnataka secondary education examination board)', 'wbbsce',\n",
              "       'school secondary education, andhra pradesh', 'nashik board',\n",
              "       'secondary school certificate', 'state board ',\n",
              "       'ssc board of andrapradesh', 'jbse,jharkhand', 'ksbe',\n",
              "       'jharkhand acedemic council',\n",
              "       'jharkhand secondary examination board (ranchi)',\n",
              "       'board ofsecondary education,ap', 'matric board',\n",
              "       'national public school', 'mhsbse', 'hse,orissa',\n",
              "       'karnataka sslc board bangalore', 'icse board',\n",
              "       'jawahar navodaya vidyalaya', 'dav public school,hehal',\n",
              "       'maharashtra board, pune', 'secondary school education',\n",
              "       'board of secondary education,ap', 'stmary higher secondary',\n",
              "       'latur board', 'bse,odisha', 'gujarat board', 'bseb,patna',\n",
              "       'up board allahabad', 'maharashtra state(latur board)',\n",
              "       'andhra pradesh state board', 'maharashtra',\n",
              "       'education board of kerala', 'apsche',\n",
              "       'ksseb(karnataka state board)',\n",
              "       'punjab school education board, mohali',\n",
              "       'bihar school examination board patna',\n",
              "       'ap state board for secondary education', 'cbse ',\n",
              "       'sslc,karnataka', 'karnataka secondory education board',\n",
              "       'board of secondary education orissa', 'bseb patna',\n",
              "       'board of secondary education(bse) orissa', 'maticulation',\n",
              "       'j & k bord', 'msbshse,pune',\n",
              "       'bihar secondary education board,patna', 'hse,board',\n",
              "       'karnataka board of secondary education', 'tamilnadu state board',\n",
              "       'stjoseph of cluny matrhrsecschool,neyveli,cuddalore district',\n",
              "       'karnataka secondary eduction',\n",
              "       'board of high school and intermediate education uttarpradesh',\n",
              "       'andhra pradesh board ssc', 'upbhsie', 'state borad hp',\n",
              "       'little jacky matric higher secondary school',\n",
              "       'board of  secondary education', 'ghseb', 'kolhapur', 'biharboard',\n",
              "       'certificate of middle years program of ib',\n",
              "       'secondary education board of rajasthan', 'icse board , new delhi',\n",
              "       'sss pune', 'maharashtra nasik board', 'ua', 'ssc-andhra pradesh',\n",
              "       'sslc board', 'uttaranchal shiksha avam pariksha parishad',\n",
              "       'bsepatna', 'himachal pradesh board', 'rajasthan board ajmer',\n",
              "       'state board of secondary education, ap',\n",
              "       'jharkhand secondary education board',\n",
              "       'haryana board of school education', 'gsheb',\n",
              "       'bright way college, (up board)', 'u p',\n",
              "       'secondary school cerfificate', 'up bord',\n",
              "       'karnataka state education examination board',\n",
              "       'himachal pradesh board of school education',\n",
              "       'jharkhand academic council',\n",
              "       'board of secondary school education', 'bsemp',\n",
              "       'karnataka education board'], dtype=object)"
            ]
          },
          "metadata": {},
          "execution_count": 394
        }
      ]
    },
    {
      "cell_type": "code",
      "source": [
        "df['10board'].nunique()"
      ],
      "metadata": {
        "colab": {
          "base_uri": "https://localhost:8080/"
        },
        "id": "seBItaW72443",
        "outputId": "956ee84b-a841-48dc-fc50-e4a0ec9b6c29"
      },
      "execution_count": null,
      "outputs": [
        {
          "output_type": "execute_result",
          "data": {
            "text/plain": [
              "221"
            ]
          },
          "metadata": {},
          "execution_count": 395
        }
      ]
    },
    {
      "cell_type": "code",
      "source": [
        "df['10board'].value_counts()"
      ],
      "metadata": {
        "colab": {
          "base_uri": "https://localhost:8080/"
        },
        "id": "Puxz5gPS247m",
        "outputId": "a11c9783-9ba6-47b5-bf09-692e40a98e60"
      },
      "execution_count": null,
      "outputs": [
        {
          "output_type": "execute_result",
          "data": {
            "text/plain": [
              "cbse                            1026\n",
              "state board                      881\n",
              "0                                256\n",
              "icse                             213\n",
              "ssc                               96\n",
              "                                ... \n",
              "maharashtra state board,pune       1\n",
              "up board , allahabad               1\n",
              "mirza ahmed ali baig               1\n",
              "aurangabad board                   1\n",
              "karnataka education board          1\n",
              "Name: 10board, Length: 221, dtype: int64"
            ]
          },
          "metadata": {},
          "execution_count": 396
        }
      ]
    },
    {
      "cell_type": "code",
      "source": [
        "df.drop(['10board', '12board'], axis=1, inplace=True)"
      ],
      "metadata": {
        "id": "uTZFmX0j24-a"
      },
      "execution_count": null,
      "outputs": []
    },
    {
      "cell_type": "code",
      "source": [
        "df.head(2)"
      ],
      "metadata": {
        "colab": {
          "base_uri": "https://localhost:8080/",
          "height": 257
        },
        "id": "B5Dh-Tx-25BR",
        "outputId": "4db9c0c2-ef99-4cf8-932c-cf69c4635a9a"
      },
      "execution_count": null,
      "outputs": [
        {
          "output_type": "execute_result",
          "data": {
            "text/plain": [
              "   Gender  Age  10percentage  12graduation  12percentage  CollegeTier  \\\n",
              "0       0   32          87.8          2009          84.0            1   \n",
              "1       1   32          57.0          2010          64.5            2   \n",
              "\n",
              "        Degree                           Specialization  collegeGPA  \\\n",
              "0  B.Tech/B.E.  instrumentation and control engineering       73.82   \n",
              "1  B.Tech/B.E.           computer science & engineering       65.00   \n",
              "\n",
              "   GraduationYear  ...  MechanicalEngg  ElectricalEngg  TelecomEngg  \\\n",
              "0            2013  ...              -1              -1           -1   \n",
              "1            2014  ...              -1              -1           -1   \n",
              "\n",
              "   CivilEngg  conscientiousness  agreeableness  extraversion  nueroticism  \\\n",
              "0         -1            -0.1590         0.3789        1.2396       0.1459   \n",
              "1         -1             1.1336         0.0459        1.2396       0.5262   \n",
              "\n",
              "   openess_to_experience  Salary  \n",
              "0                 0.2889  445000  \n",
              "1                -0.2859  110000  \n",
              "\n",
              "[2 rows x 27 columns]"
            ],
            "text/html": [
              "\n",
              "  <div id=\"df-0385ccf8-6b66-44d1-96c5-ac3d46a02d58\">\n",
              "    <div class=\"colab-df-container\">\n",
              "      <div>\n",
              "<style scoped>\n",
              "    .dataframe tbody tr th:only-of-type {\n",
              "        vertical-align: middle;\n",
              "    }\n",
              "\n",
              "    .dataframe tbody tr th {\n",
              "        vertical-align: top;\n",
              "    }\n",
              "\n",
              "    .dataframe thead th {\n",
              "        text-align: right;\n",
              "    }\n",
              "</style>\n",
              "<table border=\"1\" class=\"dataframe\">\n",
              "  <thead>\n",
              "    <tr style=\"text-align: right;\">\n",
              "      <th></th>\n",
              "      <th>Gender</th>\n",
              "      <th>Age</th>\n",
              "      <th>10percentage</th>\n",
              "      <th>12graduation</th>\n",
              "      <th>12percentage</th>\n",
              "      <th>CollegeTier</th>\n",
              "      <th>Degree</th>\n",
              "      <th>Specialization</th>\n",
              "      <th>collegeGPA</th>\n",
              "      <th>GraduationYear</th>\n",
              "      <th>...</th>\n",
              "      <th>MechanicalEngg</th>\n",
              "      <th>ElectricalEngg</th>\n",
              "      <th>TelecomEngg</th>\n",
              "      <th>CivilEngg</th>\n",
              "      <th>conscientiousness</th>\n",
              "      <th>agreeableness</th>\n",
              "      <th>extraversion</th>\n",
              "      <th>nueroticism</th>\n",
              "      <th>openess_to_experience</th>\n",
              "      <th>Salary</th>\n",
              "    </tr>\n",
              "  </thead>\n",
              "  <tbody>\n",
              "    <tr>\n",
              "      <th>0</th>\n",
              "      <td>0</td>\n",
              "      <td>32</td>\n",
              "      <td>87.8</td>\n",
              "      <td>2009</td>\n",
              "      <td>84.0</td>\n",
              "      <td>1</td>\n",
              "      <td>B.Tech/B.E.</td>\n",
              "      <td>instrumentation and control engineering</td>\n",
              "      <td>73.82</td>\n",
              "      <td>2013</td>\n",
              "      <td>...</td>\n",
              "      <td>-1</td>\n",
              "      <td>-1</td>\n",
              "      <td>-1</td>\n",
              "      <td>-1</td>\n",
              "      <td>-0.1590</td>\n",
              "      <td>0.3789</td>\n",
              "      <td>1.2396</td>\n",
              "      <td>0.1459</td>\n",
              "      <td>0.2889</td>\n",
              "      <td>445000</td>\n",
              "    </tr>\n",
              "    <tr>\n",
              "      <th>1</th>\n",
              "      <td>1</td>\n",
              "      <td>32</td>\n",
              "      <td>57.0</td>\n",
              "      <td>2010</td>\n",
              "      <td>64.5</td>\n",
              "      <td>2</td>\n",
              "      <td>B.Tech/B.E.</td>\n",
              "      <td>computer science &amp; engineering</td>\n",
              "      <td>65.00</td>\n",
              "      <td>2014</td>\n",
              "      <td>...</td>\n",
              "      <td>-1</td>\n",
              "      <td>-1</td>\n",
              "      <td>-1</td>\n",
              "      <td>-1</td>\n",
              "      <td>1.1336</td>\n",
              "      <td>0.0459</td>\n",
              "      <td>1.2396</td>\n",
              "      <td>0.5262</td>\n",
              "      <td>-0.2859</td>\n",
              "      <td>110000</td>\n",
              "    </tr>\n",
              "  </tbody>\n",
              "</table>\n",
              "<p>2 rows × 27 columns</p>\n",
              "</div>\n",
              "      <button class=\"colab-df-convert\" onclick=\"convertToInteractive('df-0385ccf8-6b66-44d1-96c5-ac3d46a02d58')\"\n",
              "              title=\"Convert this dataframe to an interactive table.\"\n",
              "              style=\"display:none;\">\n",
              "        \n",
              "  <svg xmlns=\"http://www.w3.org/2000/svg\" height=\"24px\"viewBox=\"0 0 24 24\"\n",
              "       width=\"24px\">\n",
              "    <path d=\"M0 0h24v24H0V0z\" fill=\"none\"/>\n",
              "    <path d=\"M18.56 5.44l.94 2.06.94-2.06 2.06-.94-2.06-.94-.94-2.06-.94 2.06-2.06.94zm-11 1L8.5 8.5l.94-2.06 2.06-.94-2.06-.94L8.5 2.5l-.94 2.06-2.06.94zm10 10l.94 2.06.94-2.06 2.06-.94-2.06-.94-.94-2.06-.94 2.06-2.06.94z\"/><path d=\"M17.41 7.96l-1.37-1.37c-.4-.4-.92-.59-1.43-.59-.52 0-1.04.2-1.43.59L10.3 9.45l-7.72 7.72c-.78.78-.78 2.05 0 2.83L4 21.41c.39.39.9.59 1.41.59.51 0 1.02-.2 1.41-.59l7.78-7.78 2.81-2.81c.8-.78.8-2.07 0-2.86zM5.41 20L4 18.59l7.72-7.72 1.47 1.35L5.41 20z\"/>\n",
              "  </svg>\n",
              "      </button>\n",
              "      \n",
              "  <style>\n",
              "    .colab-df-container {\n",
              "      display:flex;\n",
              "      flex-wrap:wrap;\n",
              "      gap: 12px;\n",
              "    }\n",
              "\n",
              "    .colab-df-convert {\n",
              "      background-color: #E8F0FE;\n",
              "      border: none;\n",
              "      border-radius: 50%;\n",
              "      cursor: pointer;\n",
              "      display: none;\n",
              "      fill: #1967D2;\n",
              "      height: 32px;\n",
              "      padding: 0 0 0 0;\n",
              "      width: 32px;\n",
              "    }\n",
              "\n",
              "    .colab-df-convert:hover {\n",
              "      background-color: #E2EBFA;\n",
              "      box-shadow: 0px 1px 2px rgba(60, 64, 67, 0.3), 0px 1px 3px 1px rgba(60, 64, 67, 0.15);\n",
              "      fill: #174EA6;\n",
              "    }\n",
              "\n",
              "    [theme=dark] .colab-df-convert {\n",
              "      background-color: #3B4455;\n",
              "      fill: #D2E3FC;\n",
              "    }\n",
              "\n",
              "    [theme=dark] .colab-df-convert:hover {\n",
              "      background-color: #434B5C;\n",
              "      box-shadow: 0px 1px 3px 1px rgba(0, 0, 0, 0.15);\n",
              "      filter: drop-shadow(0px 1px 2px rgba(0, 0, 0, 0.3));\n",
              "      fill: #FFFFFF;\n",
              "    }\n",
              "  </style>\n",
              "\n",
              "      <script>\n",
              "        const buttonEl =\n",
              "          document.querySelector('#df-0385ccf8-6b66-44d1-96c5-ac3d46a02d58 button.colab-df-convert');\n",
              "        buttonEl.style.display =\n",
              "          google.colab.kernel.accessAllowed ? 'block' : 'none';\n",
              "\n",
              "        async function convertToInteractive(key) {\n",
              "          const element = document.querySelector('#df-0385ccf8-6b66-44d1-96c5-ac3d46a02d58');\n",
              "          const dataTable =\n",
              "            await google.colab.kernel.invokeFunction('convertToInteractive',\n",
              "                                                     [key], {});\n",
              "          if (!dataTable) return;\n",
              "\n",
              "          const docLinkHtml = 'Like what you see? Visit the ' +\n",
              "            '<a target=\"_blank\" href=https://colab.research.google.com/notebooks/data_table.ipynb>data table notebook</a>'\n",
              "            + ' to learn more about interactive tables.';\n",
              "          element.innerHTML = '';\n",
              "          dataTable['output_type'] = 'display_data';\n",
              "          await google.colab.output.renderOutput(dataTable, element);\n",
              "          const docLink = document.createElement('div');\n",
              "          docLink.innerHTML = docLinkHtml;\n",
              "          element.appendChild(docLink);\n",
              "        }\n",
              "      </script>\n",
              "    </div>\n",
              "  </div>\n",
              "  "
            ]
          },
          "metadata": {},
          "execution_count": 398
        }
      ]
    },
    {
      "cell_type": "code",
      "source": [
        "df[df['12percentage']==0]"
      ],
      "metadata": {
        "colab": {
          "base_uri": "https://localhost:8080/",
          "height": 143
        },
        "id": "ncrdRHag25D3",
        "outputId": "10438554-a006-4db8-8c32-2b1b71f35645"
      },
      "execution_count": null,
      "outputs": [
        {
          "output_type": "execute_result",
          "data": {
            "text/plain": [
              "Empty DataFrame\n",
              "Columns: [Gender, Age, 10percentage, 12graduation, 12percentage, CollegeTier, Degree, Specialization, collegeGPA, GraduationYear, English, Logical, Quant, Domain, ComputerProgramming, ElectronicsAndSemicon, ComputerScience, MechanicalEngg, ElectricalEngg, TelecomEngg, CivilEngg, conscientiousness, agreeableness, extraversion, nueroticism, openess_to_experience, Salary]\n",
              "Index: []\n",
              "\n",
              "[0 rows x 27 columns]"
            ],
            "text/html": [
              "\n",
              "  <div id=\"df-9ebd848d-afdd-4b77-896b-f138b1556a19\">\n",
              "    <div class=\"colab-df-container\">\n",
              "      <div>\n",
              "<style scoped>\n",
              "    .dataframe tbody tr th:only-of-type {\n",
              "        vertical-align: middle;\n",
              "    }\n",
              "\n",
              "    .dataframe tbody tr th {\n",
              "        vertical-align: top;\n",
              "    }\n",
              "\n",
              "    .dataframe thead th {\n",
              "        text-align: right;\n",
              "    }\n",
              "</style>\n",
              "<table border=\"1\" class=\"dataframe\">\n",
              "  <thead>\n",
              "    <tr style=\"text-align: right;\">\n",
              "      <th></th>\n",
              "      <th>Gender</th>\n",
              "      <th>Age</th>\n",
              "      <th>10percentage</th>\n",
              "      <th>12graduation</th>\n",
              "      <th>12percentage</th>\n",
              "      <th>CollegeTier</th>\n",
              "      <th>Degree</th>\n",
              "      <th>Specialization</th>\n",
              "      <th>collegeGPA</th>\n",
              "      <th>GraduationYear</th>\n",
              "      <th>...</th>\n",
              "      <th>MechanicalEngg</th>\n",
              "      <th>ElectricalEngg</th>\n",
              "      <th>TelecomEngg</th>\n",
              "      <th>CivilEngg</th>\n",
              "      <th>conscientiousness</th>\n",
              "      <th>agreeableness</th>\n",
              "      <th>extraversion</th>\n",
              "      <th>nueroticism</th>\n",
              "      <th>openess_to_experience</th>\n",
              "      <th>Salary</th>\n",
              "    </tr>\n",
              "  </thead>\n",
              "  <tbody>\n",
              "  </tbody>\n",
              "</table>\n",
              "<p>0 rows × 27 columns</p>\n",
              "</div>\n",
              "      <button class=\"colab-df-convert\" onclick=\"convertToInteractive('df-9ebd848d-afdd-4b77-896b-f138b1556a19')\"\n",
              "              title=\"Convert this dataframe to an interactive table.\"\n",
              "              style=\"display:none;\">\n",
              "        \n",
              "  <svg xmlns=\"http://www.w3.org/2000/svg\" height=\"24px\"viewBox=\"0 0 24 24\"\n",
              "       width=\"24px\">\n",
              "    <path d=\"M0 0h24v24H0V0z\" fill=\"none\"/>\n",
              "    <path d=\"M18.56 5.44l.94 2.06.94-2.06 2.06-.94-2.06-.94-.94-2.06-.94 2.06-2.06.94zm-11 1L8.5 8.5l.94-2.06 2.06-.94-2.06-.94L8.5 2.5l-.94 2.06-2.06.94zm10 10l.94 2.06.94-2.06 2.06-.94-2.06-.94-.94-2.06-.94 2.06-2.06.94z\"/><path d=\"M17.41 7.96l-1.37-1.37c-.4-.4-.92-.59-1.43-.59-.52 0-1.04.2-1.43.59L10.3 9.45l-7.72 7.72c-.78.78-.78 2.05 0 2.83L4 21.41c.39.39.9.59 1.41.59.51 0 1.02-.2 1.41-.59l7.78-7.78 2.81-2.81c.8-.78.8-2.07 0-2.86zM5.41 20L4 18.59l7.72-7.72 1.47 1.35L5.41 20z\"/>\n",
              "  </svg>\n",
              "      </button>\n",
              "      \n",
              "  <style>\n",
              "    .colab-df-container {\n",
              "      display:flex;\n",
              "      flex-wrap:wrap;\n",
              "      gap: 12px;\n",
              "    }\n",
              "\n",
              "    .colab-df-convert {\n",
              "      background-color: #E8F0FE;\n",
              "      border: none;\n",
              "      border-radius: 50%;\n",
              "      cursor: pointer;\n",
              "      display: none;\n",
              "      fill: #1967D2;\n",
              "      height: 32px;\n",
              "      padding: 0 0 0 0;\n",
              "      width: 32px;\n",
              "    }\n",
              "\n",
              "    .colab-df-convert:hover {\n",
              "      background-color: #E2EBFA;\n",
              "      box-shadow: 0px 1px 2px rgba(60, 64, 67, 0.3), 0px 1px 3px 1px rgba(60, 64, 67, 0.15);\n",
              "      fill: #174EA6;\n",
              "    }\n",
              "\n",
              "    [theme=dark] .colab-df-convert {\n",
              "      background-color: #3B4455;\n",
              "      fill: #D2E3FC;\n",
              "    }\n",
              "\n",
              "    [theme=dark] .colab-df-convert:hover {\n",
              "      background-color: #434B5C;\n",
              "      box-shadow: 0px 1px 3px 1px rgba(0, 0, 0, 0.15);\n",
              "      filter: drop-shadow(0px 1px 2px rgba(0, 0, 0, 0.3));\n",
              "      fill: #FFFFFF;\n",
              "    }\n",
              "  </style>\n",
              "\n",
              "      <script>\n",
              "        const buttonEl =\n",
              "          document.querySelector('#df-9ebd848d-afdd-4b77-896b-f138b1556a19 button.colab-df-convert');\n",
              "        buttonEl.style.display =\n",
              "          google.colab.kernel.accessAllowed ? 'block' : 'none';\n",
              "\n",
              "        async function convertToInteractive(key) {\n",
              "          const element = document.querySelector('#df-9ebd848d-afdd-4b77-896b-f138b1556a19');\n",
              "          const dataTable =\n",
              "            await google.colab.kernel.invokeFunction('convertToInteractive',\n",
              "                                                     [key], {});\n",
              "          if (!dataTable) return;\n",
              "\n",
              "          const docLinkHtml = 'Like what you see? Visit the ' +\n",
              "            '<a target=\"_blank\" href=https://colab.research.google.com/notebooks/data_table.ipynb>data table notebook</a>'\n",
              "            + ' to learn more about interactive tables.';\n",
              "          element.innerHTML = '';\n",
              "          dataTable['output_type'] = 'display_data';\n",
              "          await google.colab.output.renderOutput(dataTable, element);\n",
              "          const docLink = document.createElement('div');\n",
              "          docLink.innerHTML = docLinkHtml;\n",
              "          element.appendChild(docLink);\n",
              "        }\n",
              "      </script>\n",
              "    </div>\n",
              "  </div>\n",
              "  "
            ]
          },
          "metadata": {},
          "execution_count": 399
        }
      ]
    },
    {
      "cell_type": "code",
      "source": [
        "df.CollegeTier.unique()"
      ],
      "metadata": {
        "colab": {
          "base_uri": "https://localhost:8080/"
        },
        "id": "yi3cpEyN25Gf",
        "outputId": "f8b8f5d2-80ac-42fd-cc04-120ea5553993"
      },
      "execution_count": null,
      "outputs": [
        {
          "output_type": "execute_result",
          "data": {
            "text/plain": [
              "array([1, 2])"
            ]
          },
          "metadata": {},
          "execution_count": 400
        }
      ]
    },
    {
      "cell_type": "code",
      "source": [
        "df.CollegeTier.value_counts()"
      ],
      "metadata": {
        "colab": {
          "base_uri": "https://localhost:8080/"
        },
        "id": "yRwYWb9O25JZ",
        "outputId": "5df02ef2-00fd-4d3b-8432-8601b54077b7"
      },
      "execution_count": null,
      "outputs": [
        {
          "output_type": "execute_result",
          "data": {
            "text/plain": [
              "2    2772\n",
              "1     226\n",
              "Name: CollegeTier, dtype: int64"
            ]
          },
          "metadata": {},
          "execution_count": 401
        }
      ]
    },
    {
      "cell_type": "code",
      "source": [
        "df.Degree.unique()"
      ],
      "metadata": {
        "colab": {
          "base_uri": "https://localhost:8080/"
        },
        "id": "QqyxuWPg25Ls",
        "outputId": "b6c7a4bb-df13-46d4-af77-1f6bfb866423"
      },
      "execution_count": null,
      "outputs": [
        {
          "output_type": "execute_result",
          "data": {
            "text/plain": [
              "array(['B.Tech/B.E.', 'M.Tech./M.E.', 'MCA', 'M.Sc. (Tech.)'],\n",
              "      dtype=object)"
            ]
          },
          "metadata": {},
          "execution_count": 402
        }
      ]
    },
    {
      "cell_type": "code",
      "source": [
        "df.Degree.value_counts()"
      ],
      "metadata": {
        "colab": {
          "base_uri": "https://localhost:8080/"
        },
        "id": "-BkkMHxj25On",
        "outputId": "eeacc300-5397-4a83-b6c5-b2a093a86993"
      },
      "execution_count": null,
      "outputs": [
        {
          "output_type": "execute_result",
          "data": {
            "text/plain": [
              "B.Tech/B.E.      2757\n",
              "MCA               200\n",
              "M.Tech./M.E.       40\n",
              "M.Sc. (Tech.)       1\n",
              "Name: Degree, dtype: int64"
            ]
          },
          "metadata": {},
          "execution_count": 403
        }
      ]
    },
    {
      "cell_type": "code",
      "source": [
        "for i in range(len(df.Degree)):\n",
        "  if str(df.Degree[i]) =='B.Tech/B.E.':\n",
        "    df.Degree[i] = 'Bachelors'\n",
        "  else:\n",
        "    df.Degree[i] = 'Masters'"
      ],
      "metadata": {
        "colab": {
          "base_uri": "https://localhost:8080/"
        },
        "id": "X1gu0k6625Rc",
        "outputId": "1a69b5d0-c824-4d6e-a881-e1512392fd64"
      },
      "execution_count": null,
      "outputs": [
        {
          "output_type": "stream",
          "name": "stderr",
          "text": [
            "<ipython-input-404-22298fb7dce0>:3: SettingWithCopyWarning: \n",
            "A value is trying to be set on a copy of a slice from a DataFrame\n",
            "\n",
            "See the caveats in the documentation: https://pandas.pydata.org/pandas-docs/stable/user_guide/indexing.html#returning-a-view-versus-a-copy\n",
            "  df.Degree[i] = 'Bachelors'\n",
            "<ipython-input-404-22298fb7dce0>:5: SettingWithCopyWarning: \n",
            "A value is trying to be set on a copy of a slice from a DataFrame\n",
            "\n",
            "See the caveats in the documentation: https://pandas.pydata.org/pandas-docs/stable/user_guide/indexing.html#returning-a-view-versus-a-copy\n",
            "  df.Degree[i] = 'Masters'\n"
          ]
        }
      ]
    },
    {
      "cell_type": "code",
      "source": [
        "df.Degree.value_counts()"
      ],
      "metadata": {
        "colab": {
          "base_uri": "https://localhost:8080/"
        },
        "id": "pv6cNBC_25UB",
        "outputId": "75e27a94-2c4b-4389-a7c1-660c3e010d29"
      },
      "execution_count": null,
      "outputs": [
        {
          "output_type": "execute_result",
          "data": {
            "text/plain": [
              "Bachelors    2757\n",
              "Masters       241\n",
              "Name: Degree, dtype: int64"
            ]
          },
          "metadata": {},
          "execution_count": 405
        }
      ]
    },
    {
      "cell_type": "code",
      "source": [
        "df.Degree = enc.fit_transform(df.Degree)"
      ],
      "metadata": {
        "id": "kkVaI5IB25XG"
      },
      "execution_count": null,
      "outputs": []
    },
    {
      "cell_type": "code",
      "source": [
        "df.Degree.value_counts()"
      ],
      "metadata": {
        "colab": {
          "base_uri": "https://localhost:8080/"
        },
        "id": "EW-2hm6V25aC",
        "outputId": "8155de06-f841-44f0-820c-8067f4b7f723"
      },
      "execution_count": null,
      "outputs": [
        {
          "output_type": "execute_result",
          "data": {
            "text/plain": [
              "0    2757\n",
              "1     241\n",
              "Name: Degree, dtype: int64"
            ]
          },
          "metadata": {},
          "execution_count": 407
        }
      ]
    },
    {
      "cell_type": "code",
      "source": [
        "df.Specialization.value_counts()"
      ],
      "metadata": {
        "colab": {
          "base_uri": "https://localhost:8080/"
        },
        "id": "npeOTG_h25dJ",
        "outputId": "f0ec170a-0303-4dfc-b56f-668733f55b49"
      },
      "execution_count": null,
      "outputs": [
        {
          "output_type": "execute_result",
          "data": {
            "text/plain": [
              "electronics and communication engineering      670\n",
              "computer science & engineering                 557\n",
              "information technology                         506\n",
              "computer engineering                           415\n",
              "computer application                           201\n",
              "mechanical engineering                         155\n",
              "electronics and electrical engineering         148\n",
              "electronics & telecommunications                89\n",
              "electrical engineering                          63\n",
              "electronics & instrumentation eng               24\n",
              "instrumentation and control engineering         18\n",
              "information science engineering                 18\n",
              "electronics and instrumentation engineering     18\n",
              "civil engineering                               15\n",
              "electronics engineering                         13\n",
              "biotechnology                                   12\n",
              "other                                           10\n",
              "industrial & production engineering              8\n",
              "chemical engineering                             7\n",
              "applied electronics and instrumentation          5\n",
              "mechanical and automation                        5\n",
              "telecommunication engineering                    4\n",
              "automobile/automotive engineering                4\n",
              "computer science and technology                  4\n",
              "aeronautical engineering                         3\n",
              "instrumentation engineering                      3\n",
              "electronics and computer engineering             3\n",
              "mechatronics                                     3\n",
              "metallurgical engineering                        2\n",
              "industrial engineering                           2\n",
              "biomedical engineering                           2\n",
              "information & communication technology           1\n",
              "electronics                                      1\n",
              "embedded systems technology                      1\n",
              "industrial & management engineering              1\n",
              "electrical and power engineering                 1\n",
              "computer and communication engineering           1\n",
              "mechanical & production engineering              1\n",
              "control and instrumentation engineering          1\n",
              "ceramic engineering                              1\n",
              "computer networking                              1\n",
              "information science                              1\n",
              "Name: Specialization, dtype: int64"
            ]
          },
          "metadata": {},
          "execution_count": 408
        }
      ]
    },
    {
      "cell_type": "code",
      "source": [
        "# df.Specialization.nunique() -> 4"
      ],
      "metadata": {
        "id": "JXyiT-Mk25fv"
      },
      "execution_count": null,
      "outputs": []
    },
    {
      "cell_type": "code",
      "source": [
        "df.head(2)"
      ],
      "metadata": {
        "colab": {
          "base_uri": "https://localhost:8080/",
          "height": 257
        },
        "id": "8rWaOO5l25it",
        "outputId": "c018d343-5b53-4a65-99e7-5c29e1c09fe3"
      },
      "execution_count": null,
      "outputs": [
        {
          "output_type": "execute_result",
          "data": {
            "text/plain": [
              "   Gender  Age  10percentage  12graduation  12percentage  CollegeTier  Degree  \\\n",
              "0       0   32          87.8          2009          84.0            1       0   \n",
              "1       1   32          57.0          2010          64.5            2       0   \n",
              "\n",
              "                            Specialization  collegeGPA  GraduationYear  ...  \\\n",
              "0  instrumentation and control engineering       73.82            2013  ...   \n",
              "1           computer science & engineering       65.00            2014  ...   \n",
              "\n",
              "   MechanicalEngg  ElectricalEngg  TelecomEngg  CivilEngg  conscientiousness  \\\n",
              "0              -1              -1           -1         -1            -0.1590   \n",
              "1              -1              -1           -1         -1             1.1336   \n",
              "\n",
              "   agreeableness  extraversion  nueroticism  openess_to_experience  Salary  \n",
              "0         0.3789        1.2396       0.1459                 0.2889  445000  \n",
              "1         0.0459        1.2396       0.5262                -0.2859  110000  \n",
              "\n",
              "[2 rows x 27 columns]"
            ],
            "text/html": [
              "\n",
              "  <div id=\"df-27bba6fd-494f-4651-a8e9-f948cfdb9a4d\">\n",
              "    <div class=\"colab-df-container\">\n",
              "      <div>\n",
              "<style scoped>\n",
              "    .dataframe tbody tr th:only-of-type {\n",
              "        vertical-align: middle;\n",
              "    }\n",
              "\n",
              "    .dataframe tbody tr th {\n",
              "        vertical-align: top;\n",
              "    }\n",
              "\n",
              "    .dataframe thead th {\n",
              "        text-align: right;\n",
              "    }\n",
              "</style>\n",
              "<table border=\"1\" class=\"dataframe\">\n",
              "  <thead>\n",
              "    <tr style=\"text-align: right;\">\n",
              "      <th></th>\n",
              "      <th>Gender</th>\n",
              "      <th>Age</th>\n",
              "      <th>10percentage</th>\n",
              "      <th>12graduation</th>\n",
              "      <th>12percentage</th>\n",
              "      <th>CollegeTier</th>\n",
              "      <th>Degree</th>\n",
              "      <th>Specialization</th>\n",
              "      <th>collegeGPA</th>\n",
              "      <th>GraduationYear</th>\n",
              "      <th>...</th>\n",
              "      <th>MechanicalEngg</th>\n",
              "      <th>ElectricalEngg</th>\n",
              "      <th>TelecomEngg</th>\n",
              "      <th>CivilEngg</th>\n",
              "      <th>conscientiousness</th>\n",
              "      <th>agreeableness</th>\n",
              "      <th>extraversion</th>\n",
              "      <th>nueroticism</th>\n",
              "      <th>openess_to_experience</th>\n",
              "      <th>Salary</th>\n",
              "    </tr>\n",
              "  </thead>\n",
              "  <tbody>\n",
              "    <tr>\n",
              "      <th>0</th>\n",
              "      <td>0</td>\n",
              "      <td>32</td>\n",
              "      <td>87.8</td>\n",
              "      <td>2009</td>\n",
              "      <td>84.0</td>\n",
              "      <td>1</td>\n",
              "      <td>0</td>\n",
              "      <td>instrumentation and control engineering</td>\n",
              "      <td>73.82</td>\n",
              "      <td>2013</td>\n",
              "      <td>...</td>\n",
              "      <td>-1</td>\n",
              "      <td>-1</td>\n",
              "      <td>-1</td>\n",
              "      <td>-1</td>\n",
              "      <td>-0.1590</td>\n",
              "      <td>0.3789</td>\n",
              "      <td>1.2396</td>\n",
              "      <td>0.1459</td>\n",
              "      <td>0.2889</td>\n",
              "      <td>445000</td>\n",
              "    </tr>\n",
              "    <tr>\n",
              "      <th>1</th>\n",
              "      <td>1</td>\n",
              "      <td>32</td>\n",
              "      <td>57.0</td>\n",
              "      <td>2010</td>\n",
              "      <td>64.5</td>\n",
              "      <td>2</td>\n",
              "      <td>0</td>\n",
              "      <td>computer science &amp; engineering</td>\n",
              "      <td>65.00</td>\n",
              "      <td>2014</td>\n",
              "      <td>...</td>\n",
              "      <td>-1</td>\n",
              "      <td>-1</td>\n",
              "      <td>-1</td>\n",
              "      <td>-1</td>\n",
              "      <td>1.1336</td>\n",
              "      <td>0.0459</td>\n",
              "      <td>1.2396</td>\n",
              "      <td>0.5262</td>\n",
              "      <td>-0.2859</td>\n",
              "      <td>110000</td>\n",
              "    </tr>\n",
              "  </tbody>\n",
              "</table>\n",
              "<p>2 rows × 27 columns</p>\n",
              "</div>\n",
              "      <button class=\"colab-df-convert\" onclick=\"convertToInteractive('df-27bba6fd-494f-4651-a8e9-f948cfdb9a4d')\"\n",
              "              title=\"Convert this dataframe to an interactive table.\"\n",
              "              style=\"display:none;\">\n",
              "        \n",
              "  <svg xmlns=\"http://www.w3.org/2000/svg\" height=\"24px\"viewBox=\"0 0 24 24\"\n",
              "       width=\"24px\">\n",
              "    <path d=\"M0 0h24v24H0V0z\" fill=\"none\"/>\n",
              "    <path d=\"M18.56 5.44l.94 2.06.94-2.06 2.06-.94-2.06-.94-.94-2.06-.94 2.06-2.06.94zm-11 1L8.5 8.5l.94-2.06 2.06-.94-2.06-.94L8.5 2.5l-.94 2.06-2.06.94zm10 10l.94 2.06.94-2.06 2.06-.94-2.06-.94-.94-2.06-.94 2.06-2.06.94z\"/><path d=\"M17.41 7.96l-1.37-1.37c-.4-.4-.92-.59-1.43-.59-.52 0-1.04.2-1.43.59L10.3 9.45l-7.72 7.72c-.78.78-.78 2.05 0 2.83L4 21.41c.39.39.9.59 1.41.59.51 0 1.02-.2 1.41-.59l7.78-7.78 2.81-2.81c.8-.78.8-2.07 0-2.86zM5.41 20L4 18.59l7.72-7.72 1.47 1.35L5.41 20z\"/>\n",
              "  </svg>\n",
              "      </button>\n",
              "      \n",
              "  <style>\n",
              "    .colab-df-container {\n",
              "      display:flex;\n",
              "      flex-wrap:wrap;\n",
              "      gap: 12px;\n",
              "    }\n",
              "\n",
              "    .colab-df-convert {\n",
              "      background-color: #E8F0FE;\n",
              "      border: none;\n",
              "      border-radius: 50%;\n",
              "      cursor: pointer;\n",
              "      display: none;\n",
              "      fill: #1967D2;\n",
              "      height: 32px;\n",
              "      padding: 0 0 0 0;\n",
              "      width: 32px;\n",
              "    }\n",
              "\n",
              "    .colab-df-convert:hover {\n",
              "      background-color: #E2EBFA;\n",
              "      box-shadow: 0px 1px 2px rgba(60, 64, 67, 0.3), 0px 1px 3px 1px rgba(60, 64, 67, 0.15);\n",
              "      fill: #174EA6;\n",
              "    }\n",
              "\n",
              "    [theme=dark] .colab-df-convert {\n",
              "      background-color: #3B4455;\n",
              "      fill: #D2E3FC;\n",
              "    }\n",
              "\n",
              "    [theme=dark] .colab-df-convert:hover {\n",
              "      background-color: #434B5C;\n",
              "      box-shadow: 0px 1px 3px 1px rgba(0, 0, 0, 0.15);\n",
              "      filter: drop-shadow(0px 1px 2px rgba(0, 0, 0, 0.3));\n",
              "      fill: #FFFFFF;\n",
              "    }\n",
              "  </style>\n",
              "\n",
              "      <script>\n",
              "        const buttonEl =\n",
              "          document.querySelector('#df-27bba6fd-494f-4651-a8e9-f948cfdb9a4d button.colab-df-convert');\n",
              "        buttonEl.style.display =\n",
              "          google.colab.kernel.accessAllowed ? 'block' : 'none';\n",
              "\n",
              "        async function convertToInteractive(key) {\n",
              "          const element = document.querySelector('#df-27bba6fd-494f-4651-a8e9-f948cfdb9a4d');\n",
              "          const dataTable =\n",
              "            await google.colab.kernel.invokeFunction('convertToInteractive',\n",
              "                                                     [key], {});\n",
              "          if (!dataTable) return;\n",
              "\n",
              "          const docLinkHtml = 'Like what you see? Visit the ' +\n",
              "            '<a target=\"_blank\" href=https://colab.research.google.com/notebooks/data_table.ipynb>data table notebook</a>'\n",
              "            + ' to learn more about interactive tables.';\n",
              "          element.innerHTML = '';\n",
              "          dataTable['output_type'] = 'display_data';\n",
              "          await google.colab.output.renderOutput(dataTable, element);\n",
              "          const docLink = document.createElement('div');\n",
              "          docLink.innerHTML = docLinkHtml;\n",
              "          element.appendChild(docLink);\n",
              "        }\n",
              "      </script>\n",
              "    </div>\n",
              "  </div>\n",
              "  "
            ]
          },
          "metadata": {},
          "execution_count": 410
        }
      ]
    },
    {
      "cell_type": "code",
      "source": [
        "df.collegeGPA.describe()"
      ],
      "metadata": {
        "colab": {
          "base_uri": "https://localhost:8080/"
        },
        "id": "T44Xhne025lO",
        "outputId": "63baa83e-d42b-45ae-c6c7-3758622f9be7"
      },
      "execution_count": null,
      "outputs": [
        {
          "output_type": "execute_result",
          "data": {
            "text/plain": [
              "count    2998.000000\n",
              "mean       71.509857\n",
              "std         8.122462\n",
              "min         6.630000\n",
              "25%        66.530000\n",
              "50%        71.800000\n",
              "75%        76.300000\n",
              "max        99.930000\n",
              "Name: collegeGPA, dtype: float64"
            ]
          },
          "metadata": {},
          "execution_count": 411
        }
      ]
    },
    {
      "cell_type": "code",
      "source": [
        "df.GraduationYear.describe()"
      ],
      "metadata": {
        "colab": {
          "base_uri": "https://localhost:8080/"
        },
        "id": "VWk5WcTF25ng",
        "outputId": "dde9f976-4b6f-4bff-d757-8c52fd20ff3e"
      },
      "execution_count": null,
      "outputs": [
        {
          "output_type": "execute_result",
          "data": {
            "text/plain": [
              "count    2998.000000\n",
              "mean     2011.939960\n",
              "std        36.780582\n",
              "min         0.000000\n",
              "25%      2012.000000\n",
              "50%      2013.000000\n",
              "75%      2014.000000\n",
              "max      2017.000000\n",
              "Name: GraduationYear, dtype: float64"
            ]
          },
          "metadata": {},
          "execution_count": 412
        }
      ]
    },
    {
      "cell_type": "code",
      "source": [
        "# Mean - ceil(mean(df.GraduationYear)) #2012\n",
        "# Mode - #2013\n",
        "# Median - #2013"
      ],
      "metadata": {
        "id": "iXjmkieq25q9"
      },
      "execution_count": null,
      "outputs": []
    },
    {
      "cell_type": "code",
      "source": [
        "df.GraduationYear.mode()"
      ],
      "metadata": {
        "colab": {
          "base_uri": "https://localhost:8080/"
        },
        "id": "6fsnTg9L25tW",
        "outputId": "77381eca-a5d1-4be7-de1c-99f0f97c3162"
      },
      "execution_count": null,
      "outputs": [
        {
          "output_type": "execute_result",
          "data": {
            "text/plain": [
              "0    2013\n",
              "dtype: int64"
            ]
          },
          "metadata": {},
          "execution_count": 414
        }
      ]
    },
    {
      "cell_type": "code",
      "source": [
        "int(df.GraduationYear.median())"
      ],
      "metadata": {
        "colab": {
          "base_uri": "https://localhost:8080/"
        },
        "id": "yd6kixtgRnEO",
        "outputId": "f0914c16-ad02-40e0-d383-312e099e8818"
      },
      "execution_count": null,
      "outputs": [
        {
          "output_type": "execute_result",
          "data": {
            "text/plain": [
              "2013"
            ]
          },
          "metadata": {},
          "execution_count": 415
        }
      ]
    },
    {
      "cell_type": "code",
      "source": [
        "df.GraduationYear.replace(0, int(df.GraduationYear.median()), inplace=True)"
      ],
      "metadata": {
        "id": "DeWBeI6n25v_"
      },
      "execution_count": null,
      "outputs": []
    },
    {
      "cell_type": "code",
      "source": [
        "df.GraduationYear.describe()"
      ],
      "metadata": {
        "colab": {
          "base_uri": "https://localhost:8080/"
        },
        "id": "ITZXLZ0725yh",
        "outputId": "284cf089-f0e8-45e3-c12c-17e916cb4267"
      },
      "execution_count": null,
      "outputs": [
        {
          "output_type": "execute_result",
          "data": {
            "text/plain": [
              "count    2998.000000\n",
              "mean     2012.611408\n",
              "std         1.307340\n",
              "min      2007.000000\n",
              "25%      2012.000000\n",
              "50%      2013.000000\n",
              "75%      2014.000000\n",
              "max      2017.000000\n",
              "Name: GraduationYear, dtype: float64"
            ]
          },
          "metadata": {},
          "execution_count": 417
        }
      ]
    },
    {
      "cell_type": "code",
      "source": [
        "df.columns"
      ],
      "metadata": {
        "colab": {
          "base_uri": "https://localhost:8080/"
        },
        "id": "-ekmXtx6251a",
        "outputId": "4de67e6c-13d7-493b-f36a-d731cdd6b54b"
      },
      "execution_count": null,
      "outputs": [
        {
          "output_type": "execute_result",
          "data": {
            "text/plain": [
              "Index(['Gender', 'Age', '10percentage', '12graduation', '12percentage',\n",
              "       'CollegeTier', 'Degree', 'Specialization', 'collegeGPA',\n",
              "       'GraduationYear', 'English', 'Logical', 'Quant', 'Domain',\n",
              "       'ComputerProgramming', 'ElectronicsAndSemicon', 'ComputerScience',\n",
              "       'MechanicalEngg', 'ElectricalEngg', 'TelecomEngg', 'CivilEngg',\n",
              "       'conscientiousness', 'agreeableness', 'extraversion', 'nueroticism',\n",
              "       'openess_to_experience', 'Salary'],\n",
              "      dtype='object')"
            ]
          },
          "metadata": {},
          "execution_count": 418
        }
      ]
    },
    {
      "cell_type": "code",
      "source": [
        "df.English.describe()"
      ],
      "metadata": {
        "colab": {
          "base_uri": "https://localhost:8080/"
        },
        "id": "nLYrQbR6254G",
        "outputId": "62d7cde7-9c52-46be-cd94-57bd051e942b"
      },
      "execution_count": null,
      "outputs": [
        {
          "output_type": "execute_result",
          "data": {
            "text/plain": [
              "count    2998.000000\n",
              "mean      501.066378\n",
              "std       105.304512\n",
              "min       180.000000\n",
              "25%       425.000000\n",
              "50%       500.000000\n",
              "75%       570.000000\n",
              "max       875.000000\n",
              "Name: English, dtype: float64"
            ]
          },
          "metadata": {},
          "execution_count": 419
        }
      ]
    },
    {
      "cell_type": "code",
      "source": [
        "df.Logical.describe()"
      ],
      "metadata": {
        "colab": {
          "base_uri": "https://localhost:8080/"
        },
        "id": "4bLvhvb6259e",
        "outputId": "588d719b-8c5c-4fac-d214-eb507e39de90"
      },
      "execution_count": null,
      "outputs": [
        {
          "output_type": "execute_result",
          "data": {
            "text/plain": [
              "count    2998.000000\n",
              "mean      500.431621\n",
              "std        87.299850\n",
              "min       195.000000\n",
              "25%       441.250000\n",
              "50%       505.000000\n",
              "75%       565.000000\n",
              "max       795.000000\n",
              "Name: Logical, dtype: float64"
            ]
          },
          "metadata": {},
          "execution_count": 420
        }
      ]
    },
    {
      "cell_type": "code",
      "source": [
        "1000"
      ],
      "metadata": {
        "id": "APeifb-F2564",
        "colab": {
          "base_uri": "https://localhost:8080/"
        },
        "outputId": "6bb0228c-6321-4134-9138-e3437103c3db"
      },
      "execution_count": null,
      "outputs": [
        {
          "output_type": "execute_result",
          "data": {
            "text/plain": [
              "1000"
            ]
          },
          "metadata": {},
          "execution_count": 421
        }
      ]
    },
    {
      "cell_type": "code",
      "source": [
        "df.Quant.describe()"
      ],
      "metadata": {
        "colab": {
          "base_uri": "https://localhost:8080/"
        },
        "id": "_k4GWFwY26AE",
        "outputId": "0074d175-26f1-47d3-da26-044f8451b919"
      },
      "execution_count": null,
      "outputs": [
        {
          "output_type": "execute_result",
          "data": {
            "text/plain": [
              "count    2998.000000\n",
              "mean      514.137759\n",
              "std       122.194955\n",
              "min       120.000000\n",
              "25%       430.000000\n",
              "50%       515.000000\n",
              "75%       595.000000\n",
              "max       900.000000\n",
              "Name: Quant, dtype: float64"
            ]
          },
          "metadata": {},
          "execution_count": 422
        }
      ]
    },
    {
      "cell_type": "code",
      "source": [
        "df.Domain.describe()"
      ],
      "metadata": {
        "colab": {
          "base_uri": "https://localhost:8080/"
        },
        "id": "NZ1xELxQ26ES",
        "outputId": "cabf6b01-72ca-4346-abf1-21ee1f8a576a"
      },
      "execution_count": null,
      "outputs": [
        {
          "output_type": "execute_result",
          "data": {
            "text/plain": [
              "count    2998.000000\n",
              "mean        0.508458\n",
              "std         0.463373\n",
              "min        -1.000000\n",
              "25%         0.342315\n",
              "50%         0.622643\n",
              "75%         0.835612\n",
              "max         0.999910\n",
              "Name: Domain, dtype: float64"
            ]
          },
          "metadata": {},
          "execution_count": 423
        }
      ]
    },
    {
      "cell_type": "code",
      "source": [
        "# -1 to 1"
      ],
      "metadata": {
        "id": "MyrYv5vA26G9"
      },
      "execution_count": null,
      "outputs": []
    },
    {
      "cell_type": "code",
      "source": [
        "# 'ComputerProgramming', 'ElectronicsAndSemicon', 'ComputerScience',\n",
        "#        'MechanicalEngg', 'ElectricalEngg', 'TelecomEngg', 'CivilEngg',\n",
        "#        'conscientiousness', 'agreeableness', 'extraversion', 'nueroticism',\n",
        "#        'openess_to_experience'"
      ],
      "metadata": {
        "id": "NSeIujIQ26Jn"
      },
      "execution_count": null,
      "outputs": []
    },
    {
      "cell_type": "code",
      "source": [
        "df.ComputerProgramming.describe()"
      ],
      "metadata": {
        "colab": {
          "base_uri": "https://localhost:8080/"
        },
        "id": "NycWeGPO26MJ",
        "outputId": "bbf69b70-9da3-410a-ff88-5af71c5863d8"
      },
      "execution_count": null,
      "outputs": [
        {
          "output_type": "execute_result",
          "data": {
            "text/plain": [
              "count    2998.000000\n",
              "mean      351.868579\n",
              "std       204.526227\n",
              "min        -1.000000\n",
              "25%       295.000000\n",
              "50%       415.000000\n",
              "75%       495.000000\n",
              "max       804.000000\n",
              "Name: ComputerProgramming, dtype: float64"
            ]
          },
          "metadata": {},
          "execution_count": 426
        }
      ]
    },
    {
      "cell_type": "code",
      "source": [
        "# -1 to 1000"
      ],
      "metadata": {
        "id": "ypeFMx9G26PU"
      },
      "execution_count": null,
      "outputs": []
    },
    {
      "cell_type": "code",
      "source": [
        "arr = ['Domain','ComputerProgramming', 'ElectronicsAndSemicon', 'ComputerScience',\n",
        "       'MechanicalEngg', 'ElectricalEngg', 'TelecomEngg', 'CivilEngg',]"
      ],
      "metadata": {
        "id": "1yoNYyyC26R6"
      },
      "execution_count": null,
      "outputs": []
    },
    {
      "cell_type": "code",
      "source": [
        "for i in arr:\n",
        "  df[f'{i}'].replace(-1, np.nan, inplace=True)"
      ],
      "metadata": {
        "id": "Nzcbnvj026Uo"
      },
      "execution_count": null,
      "outputs": []
    },
    {
      "cell_type": "code",
      "source": [
        "df.ComputerProgramming.describe()"
      ],
      "metadata": {
        "colab": {
          "base_uri": "https://localhost:8080/"
        },
        "id": "jknLH8K326XV",
        "outputId": "a642c067-3b60-4ce0-91af-5e9e18907786"
      },
      "execution_count": null,
      "outputs": [
        {
          "output_type": "execute_result",
          "data": {
            "text/plain": [
              "count    2348.000000\n",
              "mean      449.553663\n",
              "std        96.875759\n",
              "min       105.000000\n",
              "25%       385.000000\n",
              "50%       445.000000\n",
              "75%       515.000000\n",
              "max       804.000000\n",
              "Name: ComputerProgramming, dtype: float64"
            ]
          },
          "metadata": {},
          "execution_count": 430
        }
      ]
    },
    {
      "cell_type": "code",
      "source": [
        "# df['Domain_Marks'] ="
      ],
      "metadata": {
        "id": "IcqBQC7a26av"
      },
      "execution_count": null,
      "outputs": []
    },
    {
      "cell_type": "code",
      "source": [
        "(485 + 366 + 0 + 0 + 0)/7"
      ],
      "metadata": {
        "colab": {
          "base_uri": "https://localhost:8080/"
        },
        "id": "W2zLKorm26dP",
        "outputId": "ba9db1ff-9e85-4035-b19b-d8ea967fcaef"
      },
      "execution_count": null,
      "outputs": [
        {
          "output_type": "execute_result",
          "data": {
            "text/plain": [
              "121.57142857142857"
            ]
          },
          "metadata": {},
          "execution_count": 432
        }
      ]
    },
    {
      "cell_type": "code",
      "source": [
        "(485 + 366)/2"
      ],
      "metadata": {
        "colab": {
          "base_uri": "https://localhost:8080/"
        },
        "id": "bT8QVzQA26f8",
        "outputId": "d3aec878-3b83-460a-8ab9-c03365782dbb"
      },
      "execution_count": null,
      "outputs": [
        {
          "output_type": "execute_result",
          "data": {
            "text/plain": [
              "425.5"
            ]
          },
          "metadata": {},
          "execution_count": 433
        }
      ]
    },
    {
      "cell_type": "code",
      "source": [
        "len(df.columns)"
      ],
      "metadata": {
        "colab": {
          "base_uri": "https://localhost:8080/"
        },
        "id": "HFTCdVDm26ix",
        "outputId": "ff4a47fc-a0f9-4e15-df78-d66cd8b0eaf5"
      },
      "execution_count": null,
      "outputs": [
        {
          "output_type": "execute_result",
          "data": {
            "text/plain": [
              "27"
            ]
          },
          "metadata": {},
          "execution_count": 434
        }
      ]
    },
    {
      "cell_type": "code",
      "source": [
        "# 34 -> 27 -> 21 -> 17 -> 15"
      ],
      "metadata": {
        "id": "lF-WUZK026lf"
      },
      "execution_count": null,
      "outputs": []
    },
    {
      "cell_type": "code",
      "source": [
        "# sns.pairplot(df)"
      ],
      "metadata": {
        "id": "e1Vp433U26oN"
      },
      "execution_count": null,
      "outputs": []
    },
    {
      "cell_type": "code",
      "source": [
        "df.corr()"
      ],
      "metadata": {
        "colab": {
          "base_uri": "https://localhost:8080/",
          "height": 958
        },
        "id": "yE1D3tze26rU",
        "outputId": "684fc32e-43c8-4315-c95e-3d5187bdf9d3"
      },
      "execution_count": null,
      "outputs": [
        {
          "output_type": "execute_result",
          "data": {
            "text/plain": [
              "                         Gender       Age  10percentage  12graduation  \\\n",
              "Gender                 1.000000  0.046996     -0.165269     -0.058597   \n",
              "Age                    0.046996  1.000000     -0.246810     -0.865183   \n",
              "10percentage          -0.165269 -0.246810      1.000000      0.273813   \n",
              "12graduation          -0.058597 -0.865183      0.273813      1.000000   \n",
              "12percentage          -0.139944 -0.267614      0.645578      0.255780   \n",
              "CollegeTier           -0.035484 -0.017857     -0.144178      0.004834   \n",
              "Degree                 0.010235  0.328801     -0.245493     -0.371792   \n",
              "collegeGPA            -0.169005 -0.086068      0.311209      0.059786   \n",
              "GraduationYear         0.015422 -0.743573      0.097995      0.794393   \n",
              "English                0.012799 -0.116721      0.348452      0.157822   \n",
              "Logical                0.015139 -0.093525      0.309558      0.103767   \n",
              "Quant                  0.099537 -0.032456      0.328888      0.007854   \n",
              "Domain                 0.017945  0.037889      0.165649     -0.045351   \n",
              "ComputerProgramming    0.057244 -0.007081      0.167791     -0.002903   \n",
              "ElectronicsAndSemicon  0.049141 -0.003975      0.098968      0.013135   \n",
              "ComputerScience        0.044898 -0.020730      0.158304      0.060082   \n",
              "MechanicalEngg        -0.043747 -0.073384      0.339096      0.037700   \n",
              "ElectricalEngg         0.054541 -0.012653      0.178744     -0.021058   \n",
              "TelecomEngg           -0.061405 -0.029470      0.193861      0.032220   \n",
              "CivilEngg             -0.245825  0.175317      0.230618     -0.062288   \n",
              "conscientiousness     -0.074675 -0.103593      0.066644      0.110645   \n",
              "agreeableness         -0.078982 -0.026711      0.136332      0.050309   \n",
              "extraversion          -0.005639 -0.053555     -0.007811      0.055530   \n",
              "nueroticism           -0.006324  0.081259     -0.131151     -0.076572   \n",
              "openess_to_experience -0.085737  0.017671      0.034869     -0.015313   \n",
              "Salary                 0.038933  0.151627      0.181414     -0.161793   \n",
              "\n",
              "                       12percentage  CollegeTier    Degree  collegeGPA  \\\n",
              "Gender                    -0.139944    -0.035484  0.010235   -0.169005   \n",
              "Age                       -0.267614    -0.017857  0.328801   -0.086068   \n",
              "10percentage               0.645578    -0.144178 -0.245493    0.311209   \n",
              "12graduation               0.255780     0.004834 -0.371792    0.059786   \n",
              "12percentage               1.000000    -0.113101 -0.228408    0.335041   \n",
              "CollegeTier               -0.113101     1.000000 -0.013162   -0.088604   \n",
              "Degree                    -0.228408    -0.013162  1.000000    0.090989   \n",
              "collegeGPA                 0.335041    -0.088604  0.090989    1.000000   \n",
              "GraduationYear             0.055919    -0.042357 -0.007836    0.066938   \n",
              "English                    0.211218    -0.185937 -0.131411    0.100617   \n",
              "Logical                    0.237480    -0.195125 -0.071231    0.192549   \n",
              "Quant                      0.316400    -0.252881 -0.110969    0.219545   \n",
              "Domain                     0.158383    -0.118813  0.061619    0.175422   \n",
              "ComputerProgramming        0.140645    -0.177582  0.096366    0.230010   \n",
              "ElectronicsAndSemicon      0.133656    -0.111039  0.056775    0.126303   \n",
              "ComputerScience            0.100315    -0.119033 -0.036507    0.118739   \n",
              "MechanicalEngg             0.275110    -0.255188  0.060990    0.176488   \n",
              "ElectricalEngg             0.197925    -0.022912       NaN    0.249352   \n",
              "TelecomEngg                0.215962    -0.183887 -0.100767    0.226337   \n",
              "CivilEngg                  0.076827    -0.004703 -0.215363    0.323062   \n",
              "conscientiousness          0.057277     0.045099 -0.007337    0.052435   \n",
              "agreeableness              0.099645    -0.042588 -0.035813    0.060789   \n",
              "extraversion              -0.012765    -0.010184 -0.005802   -0.050995   \n",
              "nueroticism               -0.088635     0.033292  0.021873   -0.067701   \n",
              "openess_to_experience      0.007041    -0.029322 -0.001217    0.013691   \n",
              "Salary                     0.172755    -0.177975 -0.022636    0.131912   \n",
              "\n",
              "                       GraduationYear   English  ...  MechanicalEngg  \\\n",
              "Gender                       0.015422  0.012799  ...       -0.043747   \n",
              "Age                         -0.743573 -0.116721  ...       -0.073384   \n",
              "10percentage                 0.097995  0.348452  ...        0.339096   \n",
              "12graduation                 0.794393  0.157822  ...        0.037700   \n",
              "12percentage                 0.055919  0.211218  ...        0.275110   \n",
              "CollegeTier                 -0.042357 -0.185937  ...       -0.255188   \n",
              "Degree                      -0.007836 -0.131411  ...        0.060990   \n",
              "collegeGPA                   0.066938  0.100617  ...        0.176488   \n",
              "GraduationYear               1.000000  0.125776  ...        0.077555   \n",
              "English                      0.125776  1.000000  ...        0.179588   \n",
              "Logical                      0.093316  0.441358  ...        0.259121   \n",
              "Quant                       -0.001954  0.375415  ...        0.403865   \n",
              "Domain                      -0.015977  0.238524  ...        0.907187   \n",
              "ComputerProgramming          0.057936  0.286955  ...        0.086290   \n",
              "ElectronicsAndSemicon        0.044647  0.184542  ...        0.272770   \n",
              "ComputerScience              0.121141  0.272783  ...       -1.000000   \n",
              "MechanicalEngg               0.077555  0.179588  ...        1.000000   \n",
              "ElectricalEngg               0.007225  0.155647  ...             NaN   \n",
              "TelecomEngg                  0.016755  0.204814  ...        1.000000   \n",
              "CivilEngg                   -0.112099  0.198238  ...        0.163233   \n",
              "conscientiousness            0.116534  0.028773  ...        0.020596   \n",
              "agreeableness                0.024520  0.191400  ...        0.125767   \n",
              "extraversion                 0.064812  0.007065  ...       -0.088403   \n",
              "nueroticism                 -0.076998 -0.148064  ...       -0.225287   \n",
              "openess_to_experience       -0.016620  0.073529  ...        0.070509   \n",
              "Salary                      -0.214592  0.179668  ...        0.188385   \n",
              "\n",
              "                       ElectricalEngg  TelecomEngg  CivilEngg  \\\n",
              "Gender                       0.054541    -0.061405  -0.245825   \n",
              "Age                         -0.012653    -0.029470   0.175317   \n",
              "10percentage                 0.178744     0.193861   0.230618   \n",
              "12graduation                -0.021058     0.032220  -0.062288   \n",
              "12percentage                 0.197925     0.215962   0.076827   \n",
              "CollegeTier                 -0.022912    -0.183887  -0.004703   \n",
              "Degree                            NaN    -0.100767  -0.215363   \n",
              "collegeGPA                   0.249352     0.226337   0.323062   \n",
              "GraduationYear               0.007225     0.016755  -0.112099   \n",
              "English                      0.155647     0.204814   0.198238   \n",
              "Logical                      0.304581     0.238290   0.077834   \n",
              "Quant                        0.466738     0.210791   0.434150   \n",
              "Domain                       0.871724     0.272650   0.655283   \n",
              "ComputerProgramming          0.179063     0.220169  -0.002936   \n",
              "ElectronicsAndSemicon        0.323578     0.175578   0.246389   \n",
              "ComputerScience             -0.709064     0.525037        NaN   \n",
              "MechanicalEngg                    NaN     1.000000   0.163233   \n",
              "ElectricalEngg               1.000000    -0.260045        NaN   \n",
              "TelecomEngg                 -0.260045     1.000000        NaN   \n",
              "CivilEngg                         NaN          NaN   1.000000   \n",
              "conscientiousness            0.027220     0.051746   0.000643   \n",
              "agreeableness                0.016442     0.084430   0.114306   \n",
              "extraversion                -0.017902    -0.081051  -0.209415   \n",
              "nueroticism                 -0.002709    -0.039930  -0.260040   \n",
              "openess_to_experience        0.055002     0.040925   0.044107   \n",
              "Salary                       0.296502     0.112760   0.374855   \n",
              "\n",
              "                       conscientiousness  agreeableness  extraversion  \\\n",
              "Gender                         -0.074675      -0.078982     -0.005639   \n",
              "Age                            -0.103593      -0.026711     -0.053555   \n",
              "10percentage                    0.066644       0.136332     -0.007811   \n",
              "12graduation                    0.110645       0.050309      0.055530   \n",
              "12percentage                    0.057277       0.099645     -0.012765   \n",
              "CollegeTier                     0.045099      -0.042588     -0.010184   \n",
              "Degree                         -0.007337      -0.035813     -0.005802   \n",
              "collegeGPA                      0.052435       0.060789     -0.050995   \n",
              "GraduationYear                  0.116534       0.024520      0.064812   \n",
              "English                         0.028773       0.191400      0.007065   \n",
              "Logical                         0.018574       0.159086     -0.006037   \n",
              "Quant                          -0.008469       0.102118     -0.039292   \n",
              "Domain                         -0.005520       0.086633     -0.034756   \n",
              "ComputerProgramming            -0.004782       0.119205     -0.022511   \n",
              "ElectronicsAndSemicon          -0.029448       0.030512     -0.047951   \n",
              "ComputerScience                -0.005656       0.062259      0.011296   \n",
              "MechanicalEngg                  0.020596       0.125767     -0.088403   \n",
              "ElectricalEngg                  0.027220       0.016442     -0.017902   \n",
              "TelecomEngg                     0.051746       0.084430     -0.081051   \n",
              "CivilEngg                       0.000643       0.114306     -0.209415   \n",
              "conscientiousness               1.000000       0.492582      0.369782   \n",
              "agreeableness                   0.492582       1.000000      0.463800   \n",
              "extraversion                    0.369782       0.463800      1.000000   \n",
              "nueroticism                    -0.323617      -0.211130     -0.093622   \n",
              "openess_to_experience           0.403040       0.592820      0.447718   \n",
              "Salary                         -0.047134       0.074756     -0.004930   \n",
              "\n",
              "                       nueroticism  openess_to_experience    Salary  \n",
              "Gender                   -0.006324              -0.085737  0.038933  \n",
              "Age                       0.081259               0.017671  0.151627  \n",
              "10percentage             -0.131151               0.034869  0.181414  \n",
              "12graduation             -0.076572              -0.015313 -0.161793  \n",
              "12percentage             -0.088635               0.007041  0.172755  \n",
              "CollegeTier               0.033292              -0.029322 -0.177975  \n",
              "Degree                    0.021873              -0.001217 -0.022636  \n",
              "collegeGPA               -0.067701               0.013691  0.131912  \n",
              "GraduationYear           -0.076998              -0.016620 -0.214592  \n",
              "English                  -0.148064               0.073529  0.179668  \n",
              "Logical                  -0.187744               0.049579  0.193647  \n",
              "Quant                    -0.143809               0.024627  0.239345  \n",
              "Domain                   -0.110506               0.023084  0.191996  \n",
              "ComputerProgramming      -0.137929               0.032714  0.202732  \n",
              "ElectronicsAndSemicon    -0.038123               0.007754  0.113594  \n",
              "ComputerScience          -0.097991              -0.008683  0.156318  \n",
              "MechanicalEngg           -0.225287               0.070509  0.188385  \n",
              "ElectricalEngg           -0.002709               0.055002  0.296502  \n",
              "TelecomEngg              -0.039930               0.040925  0.112760  \n",
              "CivilEngg                -0.260040               0.044107  0.374855  \n",
              "conscientiousness        -0.323617               0.403040 -0.047134  \n",
              "agreeableness            -0.211130               0.592820  0.074756  \n",
              "extraversion             -0.093622               0.447718 -0.004930  \n",
              "nueroticism               1.000000              -0.066933 -0.069983  \n",
              "openess_to_experience    -0.066933               1.000000  0.000940  \n",
              "Salary                   -0.069983               0.000940  1.000000  \n",
              "\n",
              "[26 rows x 26 columns]"
            ],
            "text/html": [
              "\n",
              "  <div id=\"df-ffcb00ae-9039-4469-9ed9-bfcb47631f89\">\n",
              "    <div class=\"colab-df-container\">\n",
              "      <div>\n",
              "<style scoped>\n",
              "    .dataframe tbody tr th:only-of-type {\n",
              "        vertical-align: middle;\n",
              "    }\n",
              "\n",
              "    .dataframe tbody tr th {\n",
              "        vertical-align: top;\n",
              "    }\n",
              "\n",
              "    .dataframe thead th {\n",
              "        text-align: right;\n",
              "    }\n",
              "</style>\n",
              "<table border=\"1\" class=\"dataframe\">\n",
              "  <thead>\n",
              "    <tr style=\"text-align: right;\">\n",
              "      <th></th>\n",
              "      <th>Gender</th>\n",
              "      <th>Age</th>\n",
              "      <th>10percentage</th>\n",
              "      <th>12graduation</th>\n",
              "      <th>12percentage</th>\n",
              "      <th>CollegeTier</th>\n",
              "      <th>Degree</th>\n",
              "      <th>collegeGPA</th>\n",
              "      <th>GraduationYear</th>\n",
              "      <th>English</th>\n",
              "      <th>...</th>\n",
              "      <th>MechanicalEngg</th>\n",
              "      <th>ElectricalEngg</th>\n",
              "      <th>TelecomEngg</th>\n",
              "      <th>CivilEngg</th>\n",
              "      <th>conscientiousness</th>\n",
              "      <th>agreeableness</th>\n",
              "      <th>extraversion</th>\n",
              "      <th>nueroticism</th>\n",
              "      <th>openess_to_experience</th>\n",
              "      <th>Salary</th>\n",
              "    </tr>\n",
              "  </thead>\n",
              "  <tbody>\n",
              "    <tr>\n",
              "      <th>Gender</th>\n",
              "      <td>1.000000</td>\n",
              "      <td>0.046996</td>\n",
              "      <td>-0.165269</td>\n",
              "      <td>-0.058597</td>\n",
              "      <td>-0.139944</td>\n",
              "      <td>-0.035484</td>\n",
              "      <td>0.010235</td>\n",
              "      <td>-0.169005</td>\n",
              "      <td>0.015422</td>\n",
              "      <td>0.012799</td>\n",
              "      <td>...</td>\n",
              "      <td>-0.043747</td>\n",
              "      <td>0.054541</td>\n",
              "      <td>-0.061405</td>\n",
              "      <td>-0.245825</td>\n",
              "      <td>-0.074675</td>\n",
              "      <td>-0.078982</td>\n",
              "      <td>-0.005639</td>\n",
              "      <td>-0.006324</td>\n",
              "      <td>-0.085737</td>\n",
              "      <td>0.038933</td>\n",
              "    </tr>\n",
              "    <tr>\n",
              "      <th>Age</th>\n",
              "      <td>0.046996</td>\n",
              "      <td>1.000000</td>\n",
              "      <td>-0.246810</td>\n",
              "      <td>-0.865183</td>\n",
              "      <td>-0.267614</td>\n",
              "      <td>-0.017857</td>\n",
              "      <td>0.328801</td>\n",
              "      <td>-0.086068</td>\n",
              "      <td>-0.743573</td>\n",
              "      <td>-0.116721</td>\n",
              "      <td>...</td>\n",
              "      <td>-0.073384</td>\n",
              "      <td>-0.012653</td>\n",
              "      <td>-0.029470</td>\n",
              "      <td>0.175317</td>\n",
              "      <td>-0.103593</td>\n",
              "      <td>-0.026711</td>\n",
              "      <td>-0.053555</td>\n",
              "      <td>0.081259</td>\n",
              "      <td>0.017671</td>\n",
              "      <td>0.151627</td>\n",
              "    </tr>\n",
              "    <tr>\n",
              "      <th>10percentage</th>\n",
              "      <td>-0.165269</td>\n",
              "      <td>-0.246810</td>\n",
              "      <td>1.000000</td>\n",
              "      <td>0.273813</td>\n",
              "      <td>0.645578</td>\n",
              "      <td>-0.144178</td>\n",
              "      <td>-0.245493</td>\n",
              "      <td>0.311209</td>\n",
              "      <td>0.097995</td>\n",
              "      <td>0.348452</td>\n",
              "      <td>...</td>\n",
              "      <td>0.339096</td>\n",
              "      <td>0.178744</td>\n",
              "      <td>0.193861</td>\n",
              "      <td>0.230618</td>\n",
              "      <td>0.066644</td>\n",
              "      <td>0.136332</td>\n",
              "      <td>-0.007811</td>\n",
              "      <td>-0.131151</td>\n",
              "      <td>0.034869</td>\n",
              "      <td>0.181414</td>\n",
              "    </tr>\n",
              "    <tr>\n",
              "      <th>12graduation</th>\n",
              "      <td>-0.058597</td>\n",
              "      <td>-0.865183</td>\n",
              "      <td>0.273813</td>\n",
              "      <td>1.000000</td>\n",
              "      <td>0.255780</td>\n",
              "      <td>0.004834</td>\n",
              "      <td>-0.371792</td>\n",
              "      <td>0.059786</td>\n",
              "      <td>0.794393</td>\n",
              "      <td>0.157822</td>\n",
              "      <td>...</td>\n",
              "      <td>0.037700</td>\n",
              "      <td>-0.021058</td>\n",
              "      <td>0.032220</td>\n",
              "      <td>-0.062288</td>\n",
              "      <td>0.110645</td>\n",
              "      <td>0.050309</td>\n",
              "      <td>0.055530</td>\n",
              "      <td>-0.076572</td>\n",
              "      <td>-0.015313</td>\n",
              "      <td>-0.161793</td>\n",
              "    </tr>\n",
              "    <tr>\n",
              "      <th>12percentage</th>\n",
              "      <td>-0.139944</td>\n",
              "      <td>-0.267614</td>\n",
              "      <td>0.645578</td>\n",
              "      <td>0.255780</td>\n",
              "      <td>1.000000</td>\n",
              "      <td>-0.113101</td>\n",
              "      <td>-0.228408</td>\n",
              "      <td>0.335041</td>\n",
              "      <td>0.055919</td>\n",
              "      <td>0.211218</td>\n",
              "      <td>...</td>\n",
              "      <td>0.275110</td>\n",
              "      <td>0.197925</td>\n",
              "      <td>0.215962</td>\n",
              "      <td>0.076827</td>\n",
              "      <td>0.057277</td>\n",
              "      <td>0.099645</td>\n",
              "      <td>-0.012765</td>\n",
              "      <td>-0.088635</td>\n",
              "      <td>0.007041</td>\n",
              "      <td>0.172755</td>\n",
              "    </tr>\n",
              "    <tr>\n",
              "      <th>CollegeTier</th>\n",
              "      <td>-0.035484</td>\n",
              "      <td>-0.017857</td>\n",
              "      <td>-0.144178</td>\n",
              "      <td>0.004834</td>\n",
              "      <td>-0.113101</td>\n",
              "      <td>1.000000</td>\n",
              "      <td>-0.013162</td>\n",
              "      <td>-0.088604</td>\n",
              "      <td>-0.042357</td>\n",
              "      <td>-0.185937</td>\n",
              "      <td>...</td>\n",
              "      <td>-0.255188</td>\n",
              "      <td>-0.022912</td>\n",
              "      <td>-0.183887</td>\n",
              "      <td>-0.004703</td>\n",
              "      <td>0.045099</td>\n",
              "      <td>-0.042588</td>\n",
              "      <td>-0.010184</td>\n",
              "      <td>0.033292</td>\n",
              "      <td>-0.029322</td>\n",
              "      <td>-0.177975</td>\n",
              "    </tr>\n",
              "    <tr>\n",
              "      <th>Degree</th>\n",
              "      <td>0.010235</td>\n",
              "      <td>0.328801</td>\n",
              "      <td>-0.245493</td>\n",
              "      <td>-0.371792</td>\n",
              "      <td>-0.228408</td>\n",
              "      <td>-0.013162</td>\n",
              "      <td>1.000000</td>\n",
              "      <td>0.090989</td>\n",
              "      <td>-0.007836</td>\n",
              "      <td>-0.131411</td>\n",
              "      <td>...</td>\n",
              "      <td>0.060990</td>\n",
              "      <td>NaN</td>\n",
              "      <td>-0.100767</td>\n",
              "      <td>-0.215363</td>\n",
              "      <td>-0.007337</td>\n",
              "      <td>-0.035813</td>\n",
              "      <td>-0.005802</td>\n",
              "      <td>0.021873</td>\n",
              "      <td>-0.001217</td>\n",
              "      <td>-0.022636</td>\n",
              "    </tr>\n",
              "    <tr>\n",
              "      <th>collegeGPA</th>\n",
              "      <td>-0.169005</td>\n",
              "      <td>-0.086068</td>\n",
              "      <td>0.311209</td>\n",
              "      <td>0.059786</td>\n",
              "      <td>0.335041</td>\n",
              "      <td>-0.088604</td>\n",
              "      <td>0.090989</td>\n",
              "      <td>1.000000</td>\n",
              "      <td>0.066938</td>\n",
              "      <td>0.100617</td>\n",
              "      <td>...</td>\n",
              "      <td>0.176488</td>\n",
              "      <td>0.249352</td>\n",
              "      <td>0.226337</td>\n",
              "      <td>0.323062</td>\n",
              "      <td>0.052435</td>\n",
              "      <td>0.060789</td>\n",
              "      <td>-0.050995</td>\n",
              "      <td>-0.067701</td>\n",
              "      <td>0.013691</td>\n",
              "      <td>0.131912</td>\n",
              "    </tr>\n",
              "    <tr>\n",
              "      <th>GraduationYear</th>\n",
              "      <td>0.015422</td>\n",
              "      <td>-0.743573</td>\n",
              "      <td>0.097995</td>\n",
              "      <td>0.794393</td>\n",
              "      <td>0.055919</td>\n",
              "      <td>-0.042357</td>\n",
              "      <td>-0.007836</td>\n",
              "      <td>0.066938</td>\n",
              "      <td>1.000000</td>\n",
              "      <td>0.125776</td>\n",
              "      <td>...</td>\n",
              "      <td>0.077555</td>\n",
              "      <td>0.007225</td>\n",
              "      <td>0.016755</td>\n",
              "      <td>-0.112099</td>\n",
              "      <td>0.116534</td>\n",
              "      <td>0.024520</td>\n",
              "      <td>0.064812</td>\n",
              "      <td>-0.076998</td>\n",
              "      <td>-0.016620</td>\n",
              "      <td>-0.214592</td>\n",
              "    </tr>\n",
              "    <tr>\n",
              "      <th>English</th>\n",
              "      <td>0.012799</td>\n",
              "      <td>-0.116721</td>\n",
              "      <td>0.348452</td>\n",
              "      <td>0.157822</td>\n",
              "      <td>0.211218</td>\n",
              "      <td>-0.185937</td>\n",
              "      <td>-0.131411</td>\n",
              "      <td>0.100617</td>\n",
              "      <td>0.125776</td>\n",
              "      <td>1.000000</td>\n",
              "      <td>...</td>\n",
              "      <td>0.179588</td>\n",
              "      <td>0.155647</td>\n",
              "      <td>0.204814</td>\n",
              "      <td>0.198238</td>\n",
              "      <td>0.028773</td>\n",
              "      <td>0.191400</td>\n",
              "      <td>0.007065</td>\n",
              "      <td>-0.148064</td>\n",
              "      <td>0.073529</td>\n",
              "      <td>0.179668</td>\n",
              "    </tr>\n",
              "    <tr>\n",
              "      <th>Logical</th>\n",
              "      <td>0.015139</td>\n",
              "      <td>-0.093525</td>\n",
              "      <td>0.309558</td>\n",
              "      <td>0.103767</td>\n",
              "      <td>0.237480</td>\n",
              "      <td>-0.195125</td>\n",
              "      <td>-0.071231</td>\n",
              "      <td>0.192549</td>\n",
              "      <td>0.093316</td>\n",
              "      <td>0.441358</td>\n",
              "      <td>...</td>\n",
              "      <td>0.259121</td>\n",
              "      <td>0.304581</td>\n",
              "      <td>0.238290</td>\n",
              "      <td>0.077834</td>\n",
              "      <td>0.018574</td>\n",
              "      <td>0.159086</td>\n",
              "      <td>-0.006037</td>\n",
              "      <td>-0.187744</td>\n",
              "      <td>0.049579</td>\n",
              "      <td>0.193647</td>\n",
              "    </tr>\n",
              "    <tr>\n",
              "      <th>Quant</th>\n",
              "      <td>0.099537</td>\n",
              "      <td>-0.032456</td>\n",
              "      <td>0.328888</td>\n",
              "      <td>0.007854</td>\n",
              "      <td>0.316400</td>\n",
              "      <td>-0.252881</td>\n",
              "      <td>-0.110969</td>\n",
              "      <td>0.219545</td>\n",
              "      <td>-0.001954</td>\n",
              "      <td>0.375415</td>\n",
              "      <td>...</td>\n",
              "      <td>0.403865</td>\n",
              "      <td>0.466738</td>\n",
              "      <td>0.210791</td>\n",
              "      <td>0.434150</td>\n",
              "      <td>-0.008469</td>\n",
              "      <td>0.102118</td>\n",
              "      <td>-0.039292</td>\n",
              "      <td>-0.143809</td>\n",
              "      <td>0.024627</td>\n",
              "      <td>0.239345</td>\n",
              "    </tr>\n",
              "    <tr>\n",
              "      <th>Domain</th>\n",
              "      <td>0.017945</td>\n",
              "      <td>0.037889</td>\n",
              "      <td>0.165649</td>\n",
              "      <td>-0.045351</td>\n",
              "      <td>0.158383</td>\n",
              "      <td>-0.118813</td>\n",
              "      <td>0.061619</td>\n",
              "      <td>0.175422</td>\n",
              "      <td>-0.015977</td>\n",
              "      <td>0.238524</td>\n",
              "      <td>...</td>\n",
              "      <td>0.907187</td>\n",
              "      <td>0.871724</td>\n",
              "      <td>0.272650</td>\n",
              "      <td>0.655283</td>\n",
              "      <td>-0.005520</td>\n",
              "      <td>0.086633</td>\n",
              "      <td>-0.034756</td>\n",
              "      <td>-0.110506</td>\n",
              "      <td>0.023084</td>\n",
              "      <td>0.191996</td>\n",
              "    </tr>\n",
              "    <tr>\n",
              "      <th>ComputerProgramming</th>\n",
              "      <td>0.057244</td>\n",
              "      <td>-0.007081</td>\n",
              "      <td>0.167791</td>\n",
              "      <td>-0.002903</td>\n",
              "      <td>0.140645</td>\n",
              "      <td>-0.177582</td>\n",
              "      <td>0.096366</td>\n",
              "      <td>0.230010</td>\n",
              "      <td>0.057936</td>\n",
              "      <td>0.286955</td>\n",
              "      <td>...</td>\n",
              "      <td>0.086290</td>\n",
              "      <td>0.179063</td>\n",
              "      <td>0.220169</td>\n",
              "      <td>-0.002936</td>\n",
              "      <td>-0.004782</td>\n",
              "      <td>0.119205</td>\n",
              "      <td>-0.022511</td>\n",
              "      <td>-0.137929</td>\n",
              "      <td>0.032714</td>\n",
              "      <td>0.202732</td>\n",
              "    </tr>\n",
              "    <tr>\n",
              "      <th>ElectronicsAndSemicon</th>\n",
              "      <td>0.049141</td>\n",
              "      <td>-0.003975</td>\n",
              "      <td>0.098968</td>\n",
              "      <td>0.013135</td>\n",
              "      <td>0.133656</td>\n",
              "      <td>-0.111039</td>\n",
              "      <td>0.056775</td>\n",
              "      <td>0.126303</td>\n",
              "      <td>0.044647</td>\n",
              "      <td>0.184542</td>\n",
              "      <td>...</td>\n",
              "      <td>0.272770</td>\n",
              "      <td>0.323578</td>\n",
              "      <td>0.175578</td>\n",
              "      <td>0.246389</td>\n",
              "      <td>-0.029448</td>\n",
              "      <td>0.030512</td>\n",
              "      <td>-0.047951</td>\n",
              "      <td>-0.038123</td>\n",
              "      <td>0.007754</td>\n",
              "      <td>0.113594</td>\n",
              "    </tr>\n",
              "    <tr>\n",
              "      <th>ComputerScience</th>\n",
              "      <td>0.044898</td>\n",
              "      <td>-0.020730</td>\n",
              "      <td>0.158304</td>\n",
              "      <td>0.060082</td>\n",
              "      <td>0.100315</td>\n",
              "      <td>-0.119033</td>\n",
              "      <td>-0.036507</td>\n",
              "      <td>0.118739</td>\n",
              "      <td>0.121141</td>\n",
              "      <td>0.272783</td>\n",
              "      <td>...</td>\n",
              "      <td>-1.000000</td>\n",
              "      <td>-0.709064</td>\n",
              "      <td>0.525037</td>\n",
              "      <td>NaN</td>\n",
              "      <td>-0.005656</td>\n",
              "      <td>0.062259</td>\n",
              "      <td>0.011296</td>\n",
              "      <td>-0.097991</td>\n",
              "      <td>-0.008683</td>\n",
              "      <td>0.156318</td>\n",
              "    </tr>\n",
              "    <tr>\n",
              "      <th>MechanicalEngg</th>\n",
              "      <td>-0.043747</td>\n",
              "      <td>-0.073384</td>\n",
              "      <td>0.339096</td>\n",
              "      <td>0.037700</td>\n",
              "      <td>0.275110</td>\n",
              "      <td>-0.255188</td>\n",
              "      <td>0.060990</td>\n",
              "      <td>0.176488</td>\n",
              "      <td>0.077555</td>\n",
              "      <td>0.179588</td>\n",
              "      <td>...</td>\n",
              "      <td>1.000000</td>\n",
              "      <td>NaN</td>\n",
              "      <td>1.000000</td>\n",
              "      <td>0.163233</td>\n",
              "      <td>0.020596</td>\n",
              "      <td>0.125767</td>\n",
              "      <td>-0.088403</td>\n",
              "      <td>-0.225287</td>\n",
              "      <td>0.070509</td>\n",
              "      <td>0.188385</td>\n",
              "    </tr>\n",
              "    <tr>\n",
              "      <th>ElectricalEngg</th>\n",
              "      <td>0.054541</td>\n",
              "      <td>-0.012653</td>\n",
              "      <td>0.178744</td>\n",
              "      <td>-0.021058</td>\n",
              "      <td>0.197925</td>\n",
              "      <td>-0.022912</td>\n",
              "      <td>NaN</td>\n",
              "      <td>0.249352</td>\n",
              "      <td>0.007225</td>\n",
              "      <td>0.155647</td>\n",
              "      <td>...</td>\n",
              "      <td>NaN</td>\n",
              "      <td>1.000000</td>\n",
              "      <td>-0.260045</td>\n",
              "      <td>NaN</td>\n",
              "      <td>0.027220</td>\n",
              "      <td>0.016442</td>\n",
              "      <td>-0.017902</td>\n",
              "      <td>-0.002709</td>\n",
              "      <td>0.055002</td>\n",
              "      <td>0.296502</td>\n",
              "    </tr>\n",
              "    <tr>\n",
              "      <th>TelecomEngg</th>\n",
              "      <td>-0.061405</td>\n",
              "      <td>-0.029470</td>\n",
              "      <td>0.193861</td>\n",
              "      <td>0.032220</td>\n",
              "      <td>0.215962</td>\n",
              "      <td>-0.183887</td>\n",
              "      <td>-0.100767</td>\n",
              "      <td>0.226337</td>\n",
              "      <td>0.016755</td>\n",
              "      <td>0.204814</td>\n",
              "      <td>...</td>\n",
              "      <td>1.000000</td>\n",
              "      <td>-0.260045</td>\n",
              "      <td>1.000000</td>\n",
              "      <td>NaN</td>\n",
              "      <td>0.051746</td>\n",
              "      <td>0.084430</td>\n",
              "      <td>-0.081051</td>\n",
              "      <td>-0.039930</td>\n",
              "      <td>0.040925</td>\n",
              "      <td>0.112760</td>\n",
              "    </tr>\n",
              "    <tr>\n",
              "      <th>CivilEngg</th>\n",
              "      <td>-0.245825</td>\n",
              "      <td>0.175317</td>\n",
              "      <td>0.230618</td>\n",
              "      <td>-0.062288</td>\n",
              "      <td>0.076827</td>\n",
              "      <td>-0.004703</td>\n",
              "      <td>-0.215363</td>\n",
              "      <td>0.323062</td>\n",
              "      <td>-0.112099</td>\n",
              "      <td>0.198238</td>\n",
              "      <td>...</td>\n",
              "      <td>0.163233</td>\n",
              "      <td>NaN</td>\n",
              "      <td>NaN</td>\n",
              "      <td>1.000000</td>\n",
              "      <td>0.000643</td>\n",
              "      <td>0.114306</td>\n",
              "      <td>-0.209415</td>\n",
              "      <td>-0.260040</td>\n",
              "      <td>0.044107</td>\n",
              "      <td>0.374855</td>\n",
              "    </tr>\n",
              "    <tr>\n",
              "      <th>conscientiousness</th>\n",
              "      <td>-0.074675</td>\n",
              "      <td>-0.103593</td>\n",
              "      <td>0.066644</td>\n",
              "      <td>0.110645</td>\n",
              "      <td>0.057277</td>\n",
              "      <td>0.045099</td>\n",
              "      <td>-0.007337</td>\n",
              "      <td>0.052435</td>\n",
              "      <td>0.116534</td>\n",
              "      <td>0.028773</td>\n",
              "      <td>...</td>\n",
              "      <td>0.020596</td>\n",
              "      <td>0.027220</td>\n",
              "      <td>0.051746</td>\n",
              "      <td>0.000643</td>\n",
              "      <td>1.000000</td>\n",
              "      <td>0.492582</td>\n",
              "      <td>0.369782</td>\n",
              "      <td>-0.323617</td>\n",
              "      <td>0.403040</td>\n",
              "      <td>-0.047134</td>\n",
              "    </tr>\n",
              "    <tr>\n",
              "      <th>agreeableness</th>\n",
              "      <td>-0.078982</td>\n",
              "      <td>-0.026711</td>\n",
              "      <td>0.136332</td>\n",
              "      <td>0.050309</td>\n",
              "      <td>0.099645</td>\n",
              "      <td>-0.042588</td>\n",
              "      <td>-0.035813</td>\n",
              "      <td>0.060789</td>\n",
              "      <td>0.024520</td>\n",
              "      <td>0.191400</td>\n",
              "      <td>...</td>\n",
              "      <td>0.125767</td>\n",
              "      <td>0.016442</td>\n",
              "      <td>0.084430</td>\n",
              "      <td>0.114306</td>\n",
              "      <td>0.492582</td>\n",
              "      <td>1.000000</td>\n",
              "      <td>0.463800</td>\n",
              "      <td>-0.211130</td>\n",
              "      <td>0.592820</td>\n",
              "      <td>0.074756</td>\n",
              "    </tr>\n",
              "    <tr>\n",
              "      <th>extraversion</th>\n",
              "      <td>-0.005639</td>\n",
              "      <td>-0.053555</td>\n",
              "      <td>-0.007811</td>\n",
              "      <td>0.055530</td>\n",
              "      <td>-0.012765</td>\n",
              "      <td>-0.010184</td>\n",
              "      <td>-0.005802</td>\n",
              "      <td>-0.050995</td>\n",
              "      <td>0.064812</td>\n",
              "      <td>0.007065</td>\n",
              "      <td>...</td>\n",
              "      <td>-0.088403</td>\n",
              "      <td>-0.017902</td>\n",
              "      <td>-0.081051</td>\n",
              "      <td>-0.209415</td>\n",
              "      <td>0.369782</td>\n",
              "      <td>0.463800</td>\n",
              "      <td>1.000000</td>\n",
              "      <td>-0.093622</td>\n",
              "      <td>0.447718</td>\n",
              "      <td>-0.004930</td>\n",
              "    </tr>\n",
              "    <tr>\n",
              "      <th>nueroticism</th>\n",
              "      <td>-0.006324</td>\n",
              "      <td>0.081259</td>\n",
              "      <td>-0.131151</td>\n",
              "      <td>-0.076572</td>\n",
              "      <td>-0.088635</td>\n",
              "      <td>0.033292</td>\n",
              "      <td>0.021873</td>\n",
              "      <td>-0.067701</td>\n",
              "      <td>-0.076998</td>\n",
              "      <td>-0.148064</td>\n",
              "      <td>...</td>\n",
              "      <td>-0.225287</td>\n",
              "      <td>-0.002709</td>\n",
              "      <td>-0.039930</td>\n",
              "      <td>-0.260040</td>\n",
              "      <td>-0.323617</td>\n",
              "      <td>-0.211130</td>\n",
              "      <td>-0.093622</td>\n",
              "      <td>1.000000</td>\n",
              "      <td>-0.066933</td>\n",
              "      <td>-0.069983</td>\n",
              "    </tr>\n",
              "    <tr>\n",
              "      <th>openess_to_experience</th>\n",
              "      <td>-0.085737</td>\n",
              "      <td>0.017671</td>\n",
              "      <td>0.034869</td>\n",
              "      <td>-0.015313</td>\n",
              "      <td>0.007041</td>\n",
              "      <td>-0.029322</td>\n",
              "      <td>-0.001217</td>\n",
              "      <td>0.013691</td>\n",
              "      <td>-0.016620</td>\n",
              "      <td>0.073529</td>\n",
              "      <td>...</td>\n",
              "      <td>0.070509</td>\n",
              "      <td>0.055002</td>\n",
              "      <td>0.040925</td>\n",
              "      <td>0.044107</td>\n",
              "      <td>0.403040</td>\n",
              "      <td>0.592820</td>\n",
              "      <td>0.447718</td>\n",
              "      <td>-0.066933</td>\n",
              "      <td>1.000000</td>\n",
              "      <td>0.000940</td>\n",
              "    </tr>\n",
              "    <tr>\n",
              "      <th>Salary</th>\n",
              "      <td>0.038933</td>\n",
              "      <td>0.151627</td>\n",
              "      <td>0.181414</td>\n",
              "      <td>-0.161793</td>\n",
              "      <td>0.172755</td>\n",
              "      <td>-0.177975</td>\n",
              "      <td>-0.022636</td>\n",
              "      <td>0.131912</td>\n",
              "      <td>-0.214592</td>\n",
              "      <td>0.179668</td>\n",
              "      <td>...</td>\n",
              "      <td>0.188385</td>\n",
              "      <td>0.296502</td>\n",
              "      <td>0.112760</td>\n",
              "      <td>0.374855</td>\n",
              "      <td>-0.047134</td>\n",
              "      <td>0.074756</td>\n",
              "      <td>-0.004930</td>\n",
              "      <td>-0.069983</td>\n",
              "      <td>0.000940</td>\n",
              "      <td>1.000000</td>\n",
              "    </tr>\n",
              "  </tbody>\n",
              "</table>\n",
              "<p>26 rows × 26 columns</p>\n",
              "</div>\n",
              "      <button class=\"colab-df-convert\" onclick=\"convertToInteractive('df-ffcb00ae-9039-4469-9ed9-bfcb47631f89')\"\n",
              "              title=\"Convert this dataframe to an interactive table.\"\n",
              "              style=\"display:none;\">\n",
              "        \n",
              "  <svg xmlns=\"http://www.w3.org/2000/svg\" height=\"24px\"viewBox=\"0 0 24 24\"\n",
              "       width=\"24px\">\n",
              "    <path d=\"M0 0h24v24H0V0z\" fill=\"none\"/>\n",
              "    <path d=\"M18.56 5.44l.94 2.06.94-2.06 2.06-.94-2.06-.94-.94-2.06-.94 2.06-2.06.94zm-11 1L8.5 8.5l.94-2.06 2.06-.94-2.06-.94L8.5 2.5l-.94 2.06-2.06.94zm10 10l.94 2.06.94-2.06 2.06-.94-2.06-.94-.94-2.06-.94 2.06-2.06.94z\"/><path d=\"M17.41 7.96l-1.37-1.37c-.4-.4-.92-.59-1.43-.59-.52 0-1.04.2-1.43.59L10.3 9.45l-7.72 7.72c-.78.78-.78 2.05 0 2.83L4 21.41c.39.39.9.59 1.41.59.51 0 1.02-.2 1.41-.59l7.78-7.78 2.81-2.81c.8-.78.8-2.07 0-2.86zM5.41 20L4 18.59l7.72-7.72 1.47 1.35L5.41 20z\"/>\n",
              "  </svg>\n",
              "      </button>\n",
              "      \n",
              "  <style>\n",
              "    .colab-df-container {\n",
              "      display:flex;\n",
              "      flex-wrap:wrap;\n",
              "      gap: 12px;\n",
              "    }\n",
              "\n",
              "    .colab-df-convert {\n",
              "      background-color: #E8F0FE;\n",
              "      border: none;\n",
              "      border-radius: 50%;\n",
              "      cursor: pointer;\n",
              "      display: none;\n",
              "      fill: #1967D2;\n",
              "      height: 32px;\n",
              "      padding: 0 0 0 0;\n",
              "      width: 32px;\n",
              "    }\n",
              "\n",
              "    .colab-df-convert:hover {\n",
              "      background-color: #E2EBFA;\n",
              "      box-shadow: 0px 1px 2px rgba(60, 64, 67, 0.3), 0px 1px 3px 1px rgba(60, 64, 67, 0.15);\n",
              "      fill: #174EA6;\n",
              "    }\n",
              "\n",
              "    [theme=dark] .colab-df-convert {\n",
              "      background-color: #3B4455;\n",
              "      fill: #D2E3FC;\n",
              "    }\n",
              "\n",
              "    [theme=dark] .colab-df-convert:hover {\n",
              "      background-color: #434B5C;\n",
              "      box-shadow: 0px 1px 3px 1px rgba(0, 0, 0, 0.15);\n",
              "      filter: drop-shadow(0px 1px 2px rgba(0, 0, 0, 0.3));\n",
              "      fill: #FFFFFF;\n",
              "    }\n",
              "  </style>\n",
              "\n",
              "      <script>\n",
              "        const buttonEl =\n",
              "          document.querySelector('#df-ffcb00ae-9039-4469-9ed9-bfcb47631f89 button.colab-df-convert');\n",
              "        buttonEl.style.display =\n",
              "          google.colab.kernel.accessAllowed ? 'block' : 'none';\n",
              "\n",
              "        async function convertToInteractive(key) {\n",
              "          const element = document.querySelector('#df-ffcb00ae-9039-4469-9ed9-bfcb47631f89');\n",
              "          const dataTable =\n",
              "            await google.colab.kernel.invokeFunction('convertToInteractive',\n",
              "                                                     [key], {});\n",
              "          if (!dataTable) return;\n",
              "\n",
              "          const docLinkHtml = 'Like what you see? Visit the ' +\n",
              "            '<a target=\"_blank\" href=https://colab.research.google.com/notebooks/data_table.ipynb>data table notebook</a>'\n",
              "            + ' to learn more about interactive tables.';\n",
              "          element.innerHTML = '';\n",
              "          dataTable['output_type'] = 'display_data';\n",
              "          await google.colab.output.renderOutput(dataTable, element);\n",
              "          const docLink = document.createElement('div');\n",
              "          docLink.innerHTML = docLinkHtml;\n",
              "          element.appendChild(docLink);\n",
              "        }\n",
              "      </script>\n",
              "    </div>\n",
              "  </div>\n",
              "  "
            ]
          },
          "metadata": {},
          "execution_count": 437
        }
      ]
    },
    {
      "cell_type": "code",
      "source": [
        "plt.figure(figsize=(50,50))\n",
        "sns.heatmap(df.corr(), annot=True, cmap='Greens')"
      ],
      "metadata": {
        "colab": {
          "base_uri": "https://localhost:8080/",
          "height": 735
        },
        "id": "ayHR2oo026uA",
        "outputId": "40f13cdf-4042-461f-f8bf-18fdf741f9a8"
      },
      "execution_count": null,
      "outputs": [
        {
          "output_type": "execute_result",
          "data": {
            "text/plain": [
              "<matplotlib.axes._subplots.AxesSubplot at 0x7f5859750790>"
            ]
          },
          "metadata": {},
          "execution_count": 438
        },
        {
          "output_type": "display_data",
          "data": {
            "text/plain": [
              "<Figure size 3600x3600 with 2 Axes>"
            ],
            "image/png": "[encoded data removed]"
          },
          "metadata": {
            "needs_background": "light"
          }
        }
      ]
    },
    {
      "cell_type": "markdown",
      "source": [
        "# Machine Learning"
      ],
      "metadata": {
        "id": "sRs0z-YKWGtl"
      }
    },
    {
      "cell_type": "code",
      "source": [
        "X = df.drop('Salary', axis=1)\n",
        "y = df['Salary']"
      ],
      "metadata": {
        "id": "xNUklZOp26w1"
      },
      "execution_count": null,
      "outputs": []
    },
    {
      "cell_type": "code",
      "source": [
        "X"
      ],
      "metadata": {
        "colab": {
          "base_uri": "https://localhost:8080/",
          "height": 661
        },
        "id": "Dcu95xtg26zz",
        "outputId": "448a122b-b641-4361-f557-5232e253e057"
      },
      "execution_count": null,
      "outputs": [
        {
          "output_type": "execute_result",
          "data": {
            "text/plain": [
              "      Gender  Age  10percentage  12graduation  12percentage  CollegeTier  \\\n",
              "0          0   32         87.80          2009         84.00            1   \n",
              "1          1   32         57.00          2010         64.50            2   \n",
              "2          1   33         77.33          2007         85.17            2   \n",
              "3          1   31         84.30          2009         86.00            1   \n",
              "4          0   32         82.00          2008         75.00            2   \n",
              "...      ...  ...           ...           ...           ...          ...   \n",
              "2993       0   33         75.00          2005         73.00            2   \n",
              "2994       0   31         84.00          2008         77.00            2   \n",
              "2995       1   34         91.40          2006         65.56            2   \n",
              "2996       1   34         88.64          2006         65.16            2   \n",
              "2997       1   30         77.00          2009         75.50            2   \n",
              "\n",
              "      Degree                             Specialization  collegeGPA  \\\n",
              "0          0    instrumentation and control engineering       73.82   \n",
              "1          0             computer science & engineering       65.00   \n",
              "2          0           electronics & telecommunications       61.94   \n",
              "3          0             computer science & engineering       80.40   \n",
              "4          0                              biotechnology       64.30   \n",
              "...      ...                                        ...         ...   \n",
              "2993       0  electronics and communication engineering       70.00   \n",
              "2994       0                     information technology       75.20   \n",
              "2995       0                     information technology       73.19   \n",
              "2996       0                       computer engineering       74.81   \n",
              "2997       0                     information technology       69.30   \n",
              "\n",
              "      GraduationYear  ...  ComputerScience  MechanicalEngg  ElectricalEngg  \\\n",
              "0               2013  ...              NaN             NaN             NaN   \n",
              "1               2014  ...              NaN             NaN             NaN   \n",
              "2               2011  ...              NaN             NaN             NaN   \n",
              "3               2013  ...              NaN             NaN             NaN   \n",
              "4               2012  ...              NaN             NaN             NaN   \n",
              "...              ...  ...              ...             ...             ...   \n",
              "2993            2010  ...              NaN             NaN             NaN   \n",
              "2994            2012  ...              NaN             NaN             NaN   \n",
              "2995            2011  ...              NaN             NaN             NaN   \n",
              "2996            2011  ...              NaN             NaN             NaN   \n",
              "2997            2013  ...            376.0             NaN             NaN   \n",
              "\n",
              "      TelecomEngg  CivilEngg  conscientiousness  agreeableness  extraversion  \\\n",
              "0             NaN        NaN            -0.1590         0.3789        1.2396   \n",
              "1             NaN        NaN             1.1336         0.0459        1.2396   \n",
              "2           260.0        NaN             0.5100        -0.1232        1.5428   \n",
              "3             NaN        NaN            -0.4463         0.2124        0.3174   \n",
              "4             NaN        NaN            -1.4992        -0.7473       -1.0697   \n",
              "...           ...        ...                ...            ...           ...   \n",
              "2993          NaN        NaN            -1.1901         0.9688       -1.0697   \n",
              "2994          NaN        NaN            -0.1082         0.0328       -0.4891   \n",
              "2995          NaN        NaN            -0.8810         0.1888       -0.3440   \n",
              "2996          NaN        NaN             1.4374         1.2808       -0.4891   \n",
              "2997          NaN        NaN            -0.5899        -1.9521        0.3174   \n",
              "\n",
              "      nueroticism  openess_to_experience  \n",
              "0         0.14590                 0.2889  \n",
              "1         0.52620                -0.2859  \n",
              "2        -0.29020                -0.2875  \n",
              "3         0.27270                 0.4805  \n",
              "4         0.06223                 0.1864  \n",
              "...           ...                    ...  \n",
              "2993      1.35490                 0.0284  \n",
              "2994     -0.29020                 0.5024  \n",
              "2995      0.06230                 0.6603  \n",
              "2996     -1.46537                 0.5419  \n",
              "2997      1.16010                -2.3937  \n",
              "\n",
              "[2998 rows x 26 columns]"
            ],
            "text/html": [
              "\n",
              "  <div id=\"df-a28f7b5c-a2b7-4109-8965-69c6883f6609\">\n",
              "    <div class=\"colab-df-container\">\n",
              "      <div>\n",
              "<style scoped>\n",
              "    .dataframe tbody tr th:only-of-type {\n",
              "        vertical-align: middle;\n",
              "    }\n",
              "\n",
              "    .dataframe tbody tr th {\n",
              "        vertical-align: top;\n",
              "    }\n",
              "\n",
              "    .dataframe thead th {\n",
              "        text-align: right;\n",
              "    }\n",
              "</style>\n",
              "<table border=\"1\" class=\"dataframe\">\n",
              "  <thead>\n",
              "    <tr style=\"text-align: right;\">\n",
              "      <th></th>\n",
              "      <th>Gender</th>\n",
              "      <th>Age</th>\n",
              "      <th>10percentage</th>\n",
              "      <th>12graduation</th>\n",
              "      <th>12percentage</th>\n",
              "      <th>CollegeTier</th>\n",
              "      <th>Degree</th>\n",
              "      <th>Specialization</th>\n",
              "      <th>collegeGPA</th>\n",
              "      <th>GraduationYear</th>\n",
              "      <th>...</th>\n",
              "      <th>ComputerScience</th>\n",
              "      <th>MechanicalEngg</th>\n",
              "      <th>ElectricalEngg</th>\n",
              "      <th>TelecomEngg</th>\n",
              "      <th>CivilEngg</th>\n",
              "      <th>conscientiousness</th>\n",
              "      <th>agreeableness</th>\n",
              "      <th>extraversion</th>\n",
              "      <th>nueroticism</th>\n",
              "      <th>openess_to_experience</th>\n",
              "    </tr>\n",
              "  </thead>\n",
              "  <tbody>\n",
              "    <tr>\n",
              "      <th>0</th>\n",
              "      <td>0</td>\n",
              "      <td>32</td>\n",
              "      <td>87.80</td>\n",
              "      <td>2009</td>\n",
              "      <td>84.00</td>\n",
              "      <td>1</td>\n",
              "      <td>0</td>\n",
              "      <td>instrumentation and control engineering</td>\n",
              "      <td>73.82</td>\n",
              "      <td>2013</td>\n",
              "      <td>...</td>\n",
              "      <td>NaN</td>\n",
              "      <td>NaN</td>\n",
              "      <td>NaN</td>\n",
              "      <td>NaN</td>\n",
              "      <td>NaN</td>\n",
              "      <td>-0.1590</td>\n",
              "      <td>0.3789</td>\n",
              "      <td>1.2396</td>\n",
              "      <td>0.14590</td>\n",
              "      <td>0.2889</td>\n",
              "    </tr>\n",
              "    <tr>\n",
              "      <th>1</th>\n",
              "      <td>1</td>\n",
              "      <td>32</td>\n",
              "      <td>57.00</td>\n",
              "      <td>2010</td>\n",
              "      <td>64.50</td>\n",
              "      <td>2</td>\n",
              "      <td>0</td>\n",
              "      <td>computer science &amp; engineering</td>\n",
              "      <td>65.00</td>\n",
              "      <td>2014</td>\n",
              "      <td>...</td>\n",
              "      <td>NaN</td>\n",
              "      <td>NaN</td>\n",
              "      <td>NaN</td>\n",
              "      <td>NaN</td>\n",
              "      <td>NaN</td>\n",
              "      <td>1.1336</td>\n",
              "      <td>0.0459</td>\n",
              "      <td>1.2396</td>\n",
              "      <td>0.52620</td>\n",
              "      <td>-0.2859</td>\n",
              "    </tr>\n",
              "    <tr>\n",
              "      <th>2</th>\n",
              "      <td>1</td>\n",
              "      <td>33</td>\n",
              "      <td>77.33</td>\n",
              "      <td>2007</td>\n",
              "      <td>85.17</td>\n",
              "      <td>2</td>\n",
              "      <td>0</td>\n",
              "      <td>electronics &amp; telecommunications</td>\n",
              "      <td>61.94</td>\n",
              "      <td>2011</td>\n",
              "      <td>...</td>\n",
              "      <td>NaN</td>\n",
              "      <td>NaN</td>\n",
              "      <td>NaN</td>\n",
              "      <td>260.0</td>\n",
              "      <td>NaN</td>\n",
              "      <td>0.5100</td>\n",
              "      <td>-0.1232</td>\n",
              "      <td>1.5428</td>\n",
              "      <td>-0.29020</td>\n",
              "      <td>-0.2875</td>\n",
              "    </tr>\n",
              "    <tr>\n",
              "      <th>3</th>\n",
              "      <td>1</td>\n",
              "      <td>31</td>\n",
              "      <td>84.30</td>\n",
              "      <td>2009</td>\n",
              "      <td>86.00</td>\n",
              "      <td>1</td>\n",
              "      <td>0</td>\n",
              "      <td>computer science &amp; engineering</td>\n",
              "      <td>80.40</td>\n",
              "      <td>2013</td>\n",
              "      <td>...</td>\n",
              "      <td>NaN</td>\n",
              "      <td>NaN</td>\n",
              "      <td>NaN</td>\n",
              "      <td>NaN</td>\n",
              "      <td>NaN</td>\n",
              "      <td>-0.4463</td>\n",
              "      <td>0.2124</td>\n",
              "      <td>0.3174</td>\n",
              "      <td>0.27270</td>\n",
              "      <td>0.4805</td>\n",
              "    </tr>\n",
              "    <tr>\n",
              "      <th>4</th>\n",
              "      <td>0</td>\n",
              "      <td>32</td>\n",
              "      <td>82.00</td>\n",
              "      <td>2008</td>\n",
              "      <td>75.00</td>\n",
              "      <td>2</td>\n",
              "      <td>0</td>\n",
              "      <td>biotechnology</td>\n",
              "      <td>64.30</td>\n",
              "      <td>2012</td>\n",
              "      <td>...</td>\n",
              "      <td>NaN</td>\n",
              "      <td>NaN</td>\n",
              "      <td>NaN</td>\n",
              "      <td>NaN</td>\n",
              "      <td>NaN</td>\n",
              "      <td>-1.4992</td>\n",
              "      <td>-0.7473</td>\n",
              "      <td>-1.0697</td>\n",
              "      <td>0.06223</td>\n",
              "      <td>0.1864</td>\n",
              "    </tr>\n",
              "    <tr>\n",
              "      <th>...</th>\n",
              "      <td>...</td>\n",
              "      <td>...</td>\n",
              "      <td>...</td>\n",
              "      <td>...</td>\n",
              "      <td>...</td>\n",
              "      <td>...</td>\n",
              "      <td>...</td>\n",
              "      <td>...</td>\n",
              "      <td>...</td>\n",
              "      <td>...</td>\n",
              "      <td>...</td>\n",
              "      <td>...</td>\n",
              "      <td>...</td>\n",
              "      <td>...</td>\n",
              "      <td>...</td>\n",
              "      <td>...</td>\n",
              "      <td>...</td>\n",
              "      <td>...</td>\n",
              "      <td>...</td>\n",
              "      <td>...</td>\n",
              "      <td>...</td>\n",
              "    </tr>\n",
              "    <tr>\n",
              "      <th>2993</th>\n",
              "      <td>0</td>\n",
              "      <td>33</td>\n",
              "      <td>75.00</td>\n",
              "      <td>2005</td>\n",
              "      <td>73.00</td>\n",
              "      <td>2</td>\n",
              "      <td>0</td>\n",
              "      <td>electronics and communication engineering</td>\n",
              "      <td>70.00</td>\n",
              "      <td>2010</td>\n",
              "      <td>...</td>\n",
              "      <td>NaN</td>\n",
              "      <td>NaN</td>\n",
              "      <td>NaN</td>\n",
              "      <td>NaN</td>\n",
              "      <td>NaN</td>\n",
              "      <td>-1.1901</td>\n",
              "      <td>0.9688</td>\n",
              "      <td>-1.0697</td>\n",
              "      <td>1.35490</td>\n",
              "      <td>0.0284</td>\n",
              "    </tr>\n",
              "    <tr>\n",
              "      <th>2994</th>\n",
              "      <td>0</td>\n",
              "      <td>31</td>\n",
              "      <td>84.00</td>\n",
              "      <td>2008</td>\n",
              "      <td>77.00</td>\n",
              "      <td>2</td>\n",
              "      <td>0</td>\n",
              "      <td>information technology</td>\n",
              "      <td>75.20</td>\n",
              "      <td>2012</td>\n",
              "      <td>...</td>\n",
              "      <td>NaN</td>\n",
              "      <td>NaN</td>\n",
              "      <td>NaN</td>\n",
              "      <td>NaN</td>\n",
              "      <td>NaN</td>\n",
              "      <td>-0.1082</td>\n",
              "      <td>0.0328</td>\n",
              "      <td>-0.4891</td>\n",
              "      <td>-0.29020</td>\n",
              "      <td>0.5024</td>\n",
              "    </tr>\n",
              "    <tr>\n",
              "      <th>2995</th>\n",
              "      <td>1</td>\n",
              "      <td>34</td>\n",
              "      <td>91.40</td>\n",
              "      <td>2006</td>\n",
              "      <td>65.56</td>\n",
              "      <td>2</td>\n",
              "      <td>0</td>\n",
              "      <td>information technology</td>\n",
              "      <td>73.19</td>\n",
              "      <td>2011</td>\n",
              "      <td>...</td>\n",
              "      <td>NaN</td>\n",
              "      <td>NaN</td>\n",
              "      <td>NaN</td>\n",
              "      <td>NaN</td>\n",
              "      <td>NaN</td>\n",
              "      <td>-0.8810</td>\n",
              "      <td>0.1888</td>\n",
              "      <td>-0.3440</td>\n",
              "      <td>0.06230</td>\n",
              "      <td>0.6603</td>\n",
              "    </tr>\n",
              "    <tr>\n",
              "      <th>2996</th>\n",
              "      <td>1</td>\n",
              "      <td>34</td>\n",
              "      <td>88.64</td>\n",
              "      <td>2006</td>\n",
              "      <td>65.16</td>\n",
              "      <td>2</td>\n",
              "      <td>0</td>\n",
              "      <td>computer engineering</td>\n",
              "      <td>74.81</td>\n",
              "      <td>2011</td>\n",
              "      <td>...</td>\n",
              "      <td>NaN</td>\n",
              "      <td>NaN</td>\n",
              "      <td>NaN</td>\n",
              "      <td>NaN</td>\n",
              "      <td>NaN</td>\n",
              "      <td>1.4374</td>\n",
              "      <td>1.2808</td>\n",
              "      <td>-0.4891</td>\n",
              "      <td>-1.46537</td>\n",
              "      <td>0.5419</td>\n",
              "    </tr>\n",
              "    <tr>\n",
              "      <th>2997</th>\n",
              "      <td>1</td>\n",
              "      <td>30</td>\n",
              "      <td>77.00</td>\n",
              "      <td>2009</td>\n",
              "      <td>75.50</td>\n",
              "      <td>2</td>\n",
              "      <td>0</td>\n",
              "      <td>information technology</td>\n",
              "      <td>69.30</td>\n",
              "      <td>2013</td>\n",
              "      <td>...</td>\n",
              "      <td>376.0</td>\n",
              "      <td>NaN</td>\n",
              "      <td>NaN</td>\n",
              "      <td>NaN</td>\n",
              "      <td>NaN</td>\n",
              "      <td>-0.5899</td>\n",
              "      <td>-1.9521</td>\n",
              "      <td>0.3174</td>\n",
              "      <td>1.16010</td>\n",
              "      <td>-2.3937</td>\n",
              "    </tr>\n",
              "  </tbody>\n",
              "</table>\n",
              "<p>2998 rows × 26 columns</p>\n",
              "</div>\n",
              "      <button class=\"colab-df-convert\" onclick=\"convertToInteractive('df-a28f7b5c-a2b7-4109-8965-69c6883f6609')\"\n",
              "              title=\"Convert this dataframe to an interactive table.\"\n",
              "              style=\"display:none;\">\n",
              "        \n",
              "  <svg xmlns=\"http://www.w3.org/2000/svg\" height=\"24px\"viewBox=\"0 0 24 24\"\n",
              "       width=\"24px\">\n",
              "    <path d=\"M0 0h24v24H0V0z\" fill=\"none\"/>\n",
              "    <path d=\"M18.56 5.44l.94 2.06.94-2.06 2.06-.94-2.06-.94-.94-2.06-.94 2.06-2.06.94zm-11 1L8.5 8.5l.94-2.06 2.06-.94-2.06-.94L8.5 2.5l-.94 2.06-2.06.94zm10 10l.94 2.06.94-2.06 2.06-.94-2.06-.94-.94-2.06-.94 2.06-2.06.94z\"/><path d=\"M17.41 7.96l-1.37-1.37c-.4-.4-.92-.59-1.43-.59-.52 0-1.04.2-1.43.59L10.3 9.45l-7.72 7.72c-.78.78-.78 2.05 0 2.83L4 21.41c.39.39.9.59 1.41.59.51 0 1.02-.2 1.41-.59l7.78-7.78 2.81-2.81c.8-.78.8-2.07 0-2.86zM5.41 20L4 18.59l7.72-7.72 1.47 1.35L5.41 20z\"/>\n",
              "  </svg>\n",
              "      </button>\n",
              "      \n",
              "  <style>\n",
              "    .colab-df-container {\n",
              "      display:flex;\n",
              "      flex-wrap:wrap;\n",
              "      gap: 12px;\n",
              "    }\n",
              "\n",
              "    .colab-df-convert {\n",
              "      background-color: #E8F0FE;\n",
              "      border: none;\n",
              "      border-radius: 50%;\n",
              "      cursor: pointer;\n",
              "      display: none;\n",
              "      fill: #1967D2;\n",
              "      height: 32px;\n",
              "      padding: 0 0 0 0;\n",
              "      width: 32px;\n",
              "    }\n",
              "\n",
              "    .colab-df-convert:hover {\n",
              "      background-color: #E2EBFA;\n",
              "      box-shadow: 0px 1px 2px rgba(60, 64, 67, 0.3), 0px 1px 3px 1px rgba(60, 64, 67, 0.15);\n",
              "      fill: #174EA6;\n",
              "    }\n",
              "\n",
              "    [theme=dark] .colab-df-convert {\n",
              "      background-color: #3B4455;\n",
              "      fill: #D2E3FC;\n",
              "    }\n",
              "\n",
              "    [theme=dark] .colab-df-convert:hover {\n",
              "      background-color: #434B5C;\n",
              "      box-shadow: 0px 1px 3px 1px rgba(0, 0, 0, 0.15);\n",
              "      filter: drop-shadow(0px 1px 2px rgba(0, 0, 0, 0.3));\n",
              "      fill: #FFFFFF;\n",
              "    }\n",
              "  </style>\n",
              "\n",
              "      <script>\n",
              "        const buttonEl =\n",
              "          document.querySelector('#df-a28f7b5c-a2b7-4109-8965-69c6883f6609 button.colab-df-convert');\n",
              "        buttonEl.style.display =\n",
              "          google.colab.kernel.accessAllowed ? 'block' : 'none';\n",
              "\n",
              "        async function convertToInteractive(key) {\n",
              "          const element = document.querySelector('#df-a28f7b5c-a2b7-4109-8965-69c6883f6609');\n",
              "          const dataTable =\n",
              "            await google.colab.kernel.invokeFunction('convertToInteractive',\n",
              "                                                     [key], {});\n",
              "          if (!dataTable) return;\n",
              "\n",
              "          const docLinkHtml = 'Like what you see? Visit the ' +\n",
              "            '<a target=\"_blank\" href=https://colab.research.google.com/notebooks/data_table.ipynb>data table notebook</a>'\n",
              "            + ' to learn more about interactive tables.';\n",
              "          element.innerHTML = '';\n",
              "          dataTable['output_type'] = 'display_data';\n",
              "          await google.colab.output.renderOutput(dataTable, element);\n",
              "          const docLink = document.createElement('div');\n",
              "          docLink.innerHTML = docLinkHtml;\n",
              "          element.appendChild(docLink);\n",
              "        }\n",
              "      </script>\n",
              "    </div>\n",
              "  </div>\n",
              "  "
            ]
          },
          "metadata": {},
          "execution_count": 440
        }
      ]
    },
    {
      "cell_type": "code",
      "source": [
        "y"
      ],
      "metadata": {
        "colab": {
          "base_uri": "https://localhost:8080/"
        },
        "id": "zFIvP1tY262m",
        "outputId": "848361a5-6d22-4550-a399-bf51d16d6e9a"
      },
      "execution_count": null,
      "outputs": [
        {
          "output_type": "execute_result",
          "data": {
            "text/plain": [
              "0       445000\n",
              "1       110000\n",
              "2       255000\n",
              "3       420000\n",
              "4       200000\n",
              "         ...  \n",
              "2993    120000\n",
              "2994    120000\n",
              "2995    385000\n",
              "2996    530000\n",
              "2997    200000\n",
              "Name: Salary, Length: 2998, dtype: int64"
            ]
          },
          "metadata": {},
          "execution_count": 441
        }
      ]
    },
    {
      "cell_type": "code",
      "source": [
        "X_train, X_test, y_train, y_test = train_test_split(X,y,test_size=20, random_state=10)"
      ],
      "metadata": {
        "id": "XhyvKP7J265c"
      },
      "execution_count": null,
      "outputs": []
    },
    {
      "cell_type": "code",
      "source": [
        "model = SVR(kernel='rbf')"
      ],
      "metadata": {
        "id": "5-V6Xv-L268X"
      },
      "execution_count": null,
      "outputs": []
    },
    {
      "cell_type": "code",
      "source": [
        "model.fit(X_train, y_train)"
      ],
      "metadata": {
        "id": "R9KPL0mp26_G",
        "colab": {
          "base_uri": "https://localhost:8080/",
          "height": 352
        },
        "outputId": "9bad9fbf-1e7f-435a-dc0e-f1a49592f2b8"
      },
      "execution_count": null,
      "outputs": [
        {
          "output_type": "error",
          "ename": "ValueError",
          "evalue": "ignored",
          "traceback": [
            "\u001b[0;31m---------------------------------------------------------------------------\u001b[0m",
            "\u001b[0;31mValueError\u001b[0m                                Traceback (most recent call last)",
            "\u001b[0;32m<ipython-input-444-d768f88d541e>\u001b[0m in \u001b[0;36m<module>\u001b[0;34m\u001b[0m\n\u001b[0;32m----> 1\u001b[0;31m \u001b[0mmodel\u001b[0m\u001b[0;34m.\u001b[0m\u001b[0mfit\u001b[0m\u001b[0;34m(\u001b[0m\u001b[0mX_train\u001b[0m\u001b[0;34m,\u001b[0m \u001b[0my_train\u001b[0m\u001b[0;34m)\u001b[0m\u001b[0;34m\u001b[0m\u001b[0;34m\u001b[0m\u001b[0m\n\u001b[0m",
            "\u001b[0;32m/usr/local/lib/python3.8/dist-packages/sklearn/svm/_base.py\u001b[0m in \u001b[0;36mfit\u001b[0;34m(self, X, y, sample_weight)\u001b[0m\n\u001b[1;32m    188\u001b[0m             \u001b[0mcheck_consistent_length\u001b[0m\u001b[0;34m(\u001b[0m\u001b[0mX\u001b[0m\u001b[0;34m,\u001b[0m \u001b[0my\u001b[0m\u001b[0;34m)\u001b[0m\u001b[0;34m\u001b[0m\u001b[0;34m\u001b[0m\u001b[0m\n\u001b[1;32m    189\u001b[0m         \u001b[0;32melse\u001b[0m\u001b[0;34m:\u001b[0m\u001b[0;34m\u001b[0m\u001b[0;34m\u001b[0m\u001b[0m\n\u001b[0;32m--> 190\u001b[0;31m             X, y = self._validate_data(\n\u001b[0m\u001b[1;32m    191\u001b[0m                 \u001b[0mX\u001b[0m\u001b[0;34m,\u001b[0m\u001b[0;34m\u001b[0m\u001b[0;34m\u001b[0m\u001b[0m\n\u001b[1;32m    192\u001b[0m                 \u001b[0my\u001b[0m\u001b[0;34m,\u001b[0m\u001b[0;34m\u001b[0m\u001b[0;34m\u001b[0m\u001b[0m\n",
            "\u001b[0;32m/usr/local/lib/python3.8/dist-packages/sklearn/base.py\u001b[0m in \u001b[0;36m_validate_data\u001b[0;34m(self, X, y, reset, validate_separately, **check_params)\u001b[0m\n\u001b[1;32m    579\u001b[0m                 \u001b[0my\u001b[0m \u001b[0;34m=\u001b[0m \u001b[0mcheck_array\u001b[0m\u001b[0;34m(\u001b[0m\u001b[0my\u001b[0m\u001b[0;34m,\u001b[0m \u001b[0;34m**\u001b[0m\u001b[0mcheck_y_params\u001b[0m\u001b[0;34m)\u001b[0m\u001b[0;34m\u001b[0m\u001b[0;34m\u001b[0m\u001b[0m\n\u001b[1;32m    580\u001b[0m             \u001b[0;32melse\u001b[0m\u001b[0;34m:\u001b[0m\u001b[0;34m\u001b[0m\u001b[0;34m\u001b[0m\u001b[0m\n\u001b[0;32m--> 581\u001b[0;31m                 \u001b[0mX\u001b[0m\u001b[0;34m,\u001b[0m \u001b[0my\u001b[0m \u001b[0;34m=\u001b[0m \u001b[0mcheck_X_y\u001b[0m\u001b[0;34m(\u001b[0m\u001b[0mX\u001b[0m\u001b[0;34m,\u001b[0m \u001b[0my\u001b[0m\u001b[0;34m,\u001b[0m \u001b[0;34m**\u001b[0m\u001b[0mcheck_params\u001b[0m\u001b[0;34m)\u001b[0m\u001b[0;34m\u001b[0m\u001b[0;34m\u001b[0m\u001b[0m\n\u001b[0m\u001b[1;32m    582\u001b[0m             \u001b[0mout\u001b[0m \u001b[0;34m=\u001b[0m \u001b[0mX\u001b[0m\u001b[0;34m,\u001b[0m \u001b[0my\u001b[0m\u001b[0;34m\u001b[0m\u001b[0;34m\u001b[0m\u001b[0m\n\u001b[1;32m    583\u001b[0m \u001b[0;34m\u001b[0m\u001b[0m\n",
            "\u001b[0;32m/usr/local/lib/python3.8/dist-packages/sklearn/utils/validation.py\u001b[0m in \u001b[0;36mcheck_X_y\u001b[0;34m(X, y, accept_sparse, accept_large_sparse, dtype, order, copy, force_all_finite, ensure_2d, allow_nd, multi_output, ensure_min_samples, ensure_min_features, y_numeric, estimator)\u001b[0m\n\u001b[1;32m    962\u001b[0m         \u001b[0;32mraise\u001b[0m \u001b[0mValueError\u001b[0m\u001b[0;34m(\u001b[0m\u001b[0;34m\"y cannot be None\"\u001b[0m\u001b[0;34m)\u001b[0m\u001b[0;34m\u001b[0m\u001b[0;34m\u001b[0m\u001b[0m\n\u001b[1;32m    963\u001b[0m \u001b[0;34m\u001b[0m\u001b[0m\n\u001b[0;32m--> 964\u001b[0;31m     X = check_array(\n\u001b[0m\u001b[1;32m    965\u001b[0m         \u001b[0mX\u001b[0m\u001b[0;34m,\u001b[0m\u001b[0;34m\u001b[0m\u001b[0;34m\u001b[0m\u001b[0m\n\u001b[1;32m    966\u001b[0m         \u001b[0maccept_sparse\u001b[0m\u001b[0;34m=\u001b[0m\u001b[0maccept_sparse\u001b[0m\u001b[0;34m,\u001b[0m\u001b[0;34m\u001b[0m\u001b[0;34m\u001b[0m\u001b[0m\n",
            "\u001b[0;32m/usr/local/lib/python3.8/dist-packages/sklearn/utils/validation.py\u001b[0m in \u001b[0;36mcheck_array\u001b[0;34m(array, accept_sparse, accept_large_sparse, dtype, order, copy, force_all_finite, ensure_2d, allow_nd, ensure_min_samples, ensure_min_features, estimator)\u001b[0m\n\u001b[1;32m    744\u001b[0m                     \u001b[0marray\u001b[0m \u001b[0;34m=\u001b[0m \u001b[0marray\u001b[0m\u001b[0;34m.\u001b[0m\u001b[0mastype\u001b[0m\u001b[0;34m(\u001b[0m\u001b[0mdtype\u001b[0m\u001b[0;34m,\u001b[0m \u001b[0mcasting\u001b[0m\u001b[0;34m=\u001b[0m\u001b[0;34m\"unsafe\"\u001b[0m\u001b[0;34m,\u001b[0m \u001b[0mcopy\u001b[0m\u001b[0;34m=\u001b[0m\u001b[0;32mFalse\u001b[0m\u001b[0;34m)\u001b[0m\u001b[0;34m\u001b[0m\u001b[0;34m\u001b[0m\u001b[0m\n\u001b[1;32m    745\u001b[0m                 \u001b[0;32melse\u001b[0m\u001b[0;34m:\u001b[0m\u001b[0;34m\u001b[0m\u001b[0;34m\u001b[0m\u001b[0m\n\u001b[0;32m--> 746\u001b[0;31m                     \u001b[0marray\u001b[0m \u001b[0;34m=\u001b[0m \u001b[0mnp\u001b[0m\u001b[0;34m.\u001b[0m\u001b[0masarray\u001b[0m\u001b[0;34m(\u001b[0m\u001b[0marray\u001b[0m\u001b[0;34m,\u001b[0m \u001b[0morder\u001b[0m\u001b[0;34m=\u001b[0m\u001b[0morder\u001b[0m\u001b[0;34m,\u001b[0m \u001b[0mdtype\u001b[0m\u001b[0;34m=\u001b[0m\u001b[0mdtype\u001b[0m\u001b[0;34m)\u001b[0m\u001b[0;34m\u001b[0m\u001b[0;34m\u001b[0m\u001b[0m\n\u001b[0m\u001b[1;32m    747\u001b[0m             \u001b[0;32mexcept\u001b[0m \u001b[0mComplexWarning\u001b[0m \u001b[0;32mas\u001b[0m \u001b[0mcomplex_warning\u001b[0m\u001b[0;34m:\u001b[0m\u001b[0;34m\u001b[0m\u001b[0;34m\u001b[0m\u001b[0m\n\u001b[1;32m    748\u001b[0m                 raise ValueError(\n",
            "\u001b[0;32m/usr/local/lib/python3.8/dist-packages/pandas/core/generic.py\u001b[0m in \u001b[0;36m__array__\u001b[0;34m(self, dtype)\u001b[0m\n\u001b[1;32m   1991\u001b[0m \u001b[0;34m\u001b[0m\u001b[0m\n\u001b[1;32m   1992\u001b[0m     \u001b[0;32mdef\u001b[0m \u001b[0m__array__\u001b[0m\u001b[0;34m(\u001b[0m\u001b[0mself\u001b[0m\u001b[0;34m,\u001b[0m \u001b[0mdtype\u001b[0m\u001b[0;34m:\u001b[0m \u001b[0mNpDtype\u001b[0m \u001b[0;34m|\u001b[0m \u001b[0;32mNone\u001b[0m \u001b[0;34m=\u001b[0m \u001b[0;32mNone\u001b[0m\u001b[0;34m)\u001b[0m \u001b[0;34m->\u001b[0m \u001b[0mnp\u001b[0m\u001b[0;34m.\u001b[0m\u001b[0mndarray\u001b[0m\u001b[0;34m:\u001b[0m\u001b[0;34m\u001b[0m\u001b[0;34m\u001b[0m\u001b[0m\n\u001b[0;32m-> 1993\u001b[0;31m         \u001b[0;32mreturn\u001b[0m \u001b[0mnp\u001b[0m\u001b[0;34m.\u001b[0m\u001b[0masarray\u001b[0m\u001b[0;34m(\u001b[0m\u001b[0mself\u001b[0m\u001b[0;34m.\u001b[0m\u001b[0m_values\u001b[0m\u001b[0;34m,\u001b[0m \u001b[0mdtype\u001b[0m\u001b[0;34m=\u001b[0m\u001b[0mdtype\u001b[0m\u001b[0;34m)\u001b[0m\u001b[0;34m\u001b[0m\u001b[0;34m\u001b[0m\u001b[0m\n\u001b[0m\u001b[1;32m   1994\u001b[0m \u001b[0;34m\u001b[0m\u001b[0m\n\u001b[1;32m   1995\u001b[0m     def __array_wrap__(\n",
            "\u001b[0;31mValueError\u001b[0m: could not convert string to float: 'electronics and communication engineering'"
          ]
        }
      ]
    },
    {
      "cell_type": "code",
      "source": [
        "y_pred = model.predict(X_test)"
      ],
      "metadata": {
        "id": "OaElOb_y27CA"
      },
      "execution_count": null,
      "outputs": []
    },
    {
      "cell_type": "code",
      "source": [
        "r2_score(y_test, y_pred)"
      ],
      "metadata": {
        "id": "ZUEUkj2D27E3"
      },
      "execution_count": null,
      "outputs": []
    },
    {
      "cell_type": "code",
      "source": [
        "model.predict([[_, _, _, ........., _]])"
      ],
      "metadata": {
        "id": "Occd9zbV27Hu"
      },
      "execution_count": null,
      "outputs": []
    },
    {
      "cell_type": "code",
      "source": [
        "df.columns"
      ],
      "metadata": {
        "id": "VzaO-tXpXt4L"
      },
      "execution_count": null,
      "outputs": []
    },
    {
      "cell_type": "code",
      "source": [
        "df.Specialization.value_counts()"
      ],
      "metadata": {
        "id": "wi1bvAJHXyPG"
      },
      "execution_count": null,
      "outputs": []
    }
  ]
}